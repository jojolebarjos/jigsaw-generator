{
 "cells": [
  {
   "cell_type": "markdown",
   "id": "9bca7a69",
   "metadata": {},
   "source": [
    "# Jigsaw selection #1\n",
    "\n",
    "A selection from [`attempt_01.ipynb`](./attempt_01.ipynb) and [`attempt_02.ipynb`](./attempt_02.ipynb) to be ordered to manufacturer."
   ]
  },
  {
   "cell_type": "code",
   "execution_count": 1,
   "id": "2fe55dd0",
   "metadata": {},
   "outputs": [],
   "source": [
    "from collections import Counter\n",
    "\n",
    "import numpy as np\n",
    "\n",
    "from tqdm import tqdm\n",
    "\n",
    "from jigsaw import *\n",
    "from jigsaw.default import *\n",
    "from jigsaw.svg import *"
   ]
  },
  {
   "cell_type": "code",
   "execution_count": 2,
   "id": "c3301f54",
   "metadata": {},
   "outputs": [],
   "source": [
    "def is_unique(horizontal_edges, vertical_edges, *, constraints=\"border\"):\n",
    "    H, _ = horizontal_edges.shape\n",
    "    _, W = vertical_edges.shape\n",
    "    pieces = grid_to_pieces(horizontal_edges, vertical_edges, opposite)\n",
    "    return has_unique_solution(H, W, pieces, opposite, flip, constraints=constraints)\n",
    "\n",
    "\n",
    "def search(sampler, *validators, max_iterations=None):\n",
    "\n",
    "    # Loop until a grid with a unique solution is found\n",
    "    i = 0\n",
    "    with tqdm(total=max_iterations) as progress:\n",
    "        while max_iterations is None or i < max_iterations:\n",
    "\n",
    "            # Sample grid, according to rules\n",
    "            horizontal_edges, vertical_edges = sampler()\n",
    "            \n",
    "            # Ask validators for compliance\n",
    "            try:\n",
    "                for validator in validators:\n",
    "                    if not validator(horizontal_edges, vertical_edges):\n",
    "                        break\n",
    "                else:\n",
    "                    return horizontal_edges, vertical_edges\n",
    "            finally:\n",
    "                progress.update(1)\n",
    "            \n",
    "            i += 1"
   ]
  },
  {
   "cell_type": "code",
   "execution_count": 3,
   "id": "044934e9",
   "metadata": {},
   "outputs": [],
   "source": [
    "def count_solutions(horizontal_edges, vertical_edges, *, constraints=\"border\"):\n",
    "    H, _ = horizontal_edges.shape\n",
    "    _, W = vertical_edges.shape\n",
    "    pieces = grid_to_pieces(horizontal_edges, vertical_edges, opposite)\n",
    "    iterator = iterate_unique_solutions(H, W, pieces, opposite, flip, constraints=constraints)\n",
    "    count = sum(1 for _ in iterator)\n",
    "    return count\n",
    "\n",
    "def display_solutions(horizontal_edges, vertical_edges, *, constraints=\"border\"):\n",
    "    H, _ = horizontal_edges.shape\n",
    "    _, W = vertical_edges.shape\n",
    "    pieces = grid_to_pieces(horizontal_edges, vertical_edges, opposite)\n",
    "    for h, v in iterate_unique_solutions(H, W, pieces, opposite, flip, constraints=constraints):\n",
    "        display_grid(h, v)"
   ]
  },
  {
   "cell_type": "code",
   "execution_count": 4,
   "id": "e0bbf145",
   "metadata": {},
   "outputs": [],
   "source": [
    "def has_unique_pieces(horizontal_edges, vertical_edges):\n",
    "    pieces = grid_to_pieces(horizontal_edges, vertical_edges, opposite)\n",
    "    pieces = canonize_piece(pieces, flip)\n",
    "    pieces = pieces.reshape(-1, 4)\n",
    "    unique_pieces = np.unique(pieces, axis=0)\n",
    "    return pieces.shape[0] == unique_pieces.shape[0]"
   ]
  },
  {
   "cell_type": "code",
   "execution_count": 5,
   "id": "52575bf2",
   "metadata": {},
   "outputs": [],
   "source": [
    "def is_inner_unique(horizontal_edges, vertical_edges):\n",
    "    inner_horizontal_edges = horizontal_edges[1:-1, 1:-1]\n",
    "    inner_vertical_edges = vertical_edges[1:-1, 1:-1]\n",
    "    horizontal_constraints = np.full_like(inner_horizontal_edges, -1)\n",
    "    vertical_constraints = np.full_like(inner_vertical_edges, -1)\n",
    "    constraints = horizontal_constraints, vertical_constraints\n",
    "    return is_unique(inner_horizontal_edges, inner_vertical_edges, constraints=constraints)"
   ]
  },
  {
   "cell_type": "markdown",
   "id": "2214181f",
   "metadata": {},
   "source": [
    "## 1. 4x4 with 5th corner (with constraints)"
   ]
  },
  {
   "cell_type": "code",
   "execution_count": 6,
   "id": "def184eb",
   "metadata": {},
   "outputs": [
    {
     "data": {
      "text/html": [
       "<div style=\"padding:1em\"><svg width=\"320\" height=\"320\" xmlns=\"http://www.w3.org/2000/svg\"><g transform=\"translate(32.0 32.0)\"><path fill=\"none\" stroke=\"black\" d=\"M 0.0 -16.0 L 0.0 0.0 L 0.0 64.0 L 0.0 128.0 L 0.0 192.0 L 0.0 256.0 L 0.0 272.0 M 64.0 -16.0 L 64.0 0.0 L 64.0 12.8 M 64.0 25.6 L 64.0 38.4 M 64.0 51.2 L 64.0 64.0 L 64.0 76.8 M 64.0 89.6 L 64.0 102.4 M 64.0 115.2 L 64.0 128.0 L 64.0 140.8 M 64.0 153.6 L 64.0 166.4 M 64.0 179.2 L 64.0 192.0 L 64.0 204.8 M 64.0 217.6 L 64.0 230.4 M 64.0 243.2 L 64.0 256.0 L 64.0 272.0 M 128.0 -16.0 L 128.0 0.0 L 128.0 12.8 M 128.0 25.6 L 128.0 38.4 M 128.0 51.2 L 128.0 64.0 L 128.0 128.0 L 128.0 140.8 M 128.0 153.6 L 128.0 166.4 M 128.0 179.2 L 128.0 192.0 L 128.0 204.8 M 128.0 217.6 L 128.0 230.4 M 128.0 243.2 L 128.0 256.0 L 128.0 272.0 M 192.0 -16.0 L 192.0 0.0 L 192.0 12.8 M 192.0 25.6 L 192.0 38.4 M 192.0 51.2 L 192.0 64.0 L 192.0 76.8 M 192.0 89.6 L 192.0 102.4 M 192.0 115.2 L 192.0 128.0 L 192.0 140.8 M 192.0 153.6 L 192.0 166.4 M 192.0 179.2 L 192.0 192.0 L 192.0 204.8 M 192.0 217.6 L 192.0 230.4 M 192.0 243.2 L 192.0 256.0 L 192.0 272.0 M 256.0 -16.0 L 256.0 0.0 L 256.0 64.0 L 256.0 128.0 L 256.0 192.0 L 256.0 256.0 L 256.0 272.0 M -16.0 0.0 L 0.0 0.0 L 64.0 0.0 L 128.0 0.0 L 192.0 0.0 L 256.0 0.0 L 272.0 0.0 M -16.0 64.0 L 0.0 64.0 L 12.8 64.0 M 25.6 64.0 L 38.4 64.0 M 51.2 64.0 L 64.0 64.0 L 76.8 64.0 M 89.6 64.0 L 102.4 64.0 M 115.2 64.0 L 128.0 64.0 L 140.8 64.0 M 153.6 64.0 L 166.4 64.0 M 179.2 64.0 L 192.0 64.0 L 204.8 64.0 M 217.6 64.0 L 230.4 64.0 M 243.2 64.0 L 256.0 64.0 L 272.0 64.0 M -16.0 128.0 L 0.0 128.0 L 12.8 128.0 M 25.6 128.0 L 38.4 128.0 M 51.2 128.0 L 64.0 128.0 L 128.0 128.0 L 140.8 128.0 M 153.6 128.0 L 166.4 128.0 M 179.2 128.0 L 192.0 128.0 L 204.8 128.0 M 217.6 128.0 L 230.4 128.0 M 243.2 128.0 L 256.0 128.0 L 272.0 128.0 M -16.0 192.0 L 0.0 192.0 L 12.8 192.0 M 25.6 192.0 L 38.4 192.0 M 51.2 192.0 L 64.0 192.0 L 76.8 192.0 M 89.6 192.0 L 102.4 192.0 M 115.2 192.0 L 128.0 192.0 L 140.8 192.0 M 153.6 192.0 L 166.4 192.0 M 179.2 192.0 L 192.0 192.0 L 204.8 192.0 M 217.6 192.0 L 230.4 192.0 M 243.2 192.0 L 256.0 192.0 L 272.0 192.0 M -16.0 256.0 L 0.0 256.0 L 64.0 256.0 L 128.0 256.0 L 192.0 256.0 L 256.0 256.0 L 272.0 256.0\"/></g></svg></div>"
      ],
      "text/plain": [
       "<IPython.core.display.HTML object>"
      ]
     },
     "metadata": {},
     "output_type": "display_data"
    }
   ],
   "source": [
    "# This will be a 4x4 grid, with an additional corner\n",
    "H, W = 4, 4\n",
    "horizontal_edges, vertical_edges = sample_random_grid(H, W, np.array([FLAT_ALTERNATIVE]))\n",
    "horizontal_edges[1, 2] = FLAT\n",
    "vertical_edges[2, 1] = FLAT\n",
    "\n",
    "# First, make sure that the overall layout can only be solved one way\n",
    "assert is_unique(horizontal_edges, vertical_edges)\n",
    "\n",
    "# Show it, to illustrate the purpose\n",
    "display_grid(horizontal_edges, vertical_edges)"
   ]
  },
  {
   "cell_type": "code",
   "execution_count": 7,
   "id": "bf23548f",
   "metadata": {},
   "outputs": [
    {
     "name": "stderr",
     "output_type": "stream",
     "text": [
      "171it [00:01, 111.08it/s]\n"
     ]
    }
   ],
   "source": [
    "# Generate grid\n",
    "H, W = 4, 4\n",
    "generator = np.random.default_rng(42)\n",
    "def sampler():\n",
    "    \n",
    "    # Generate a grid with small edges\n",
    "    edge_types = np.array([\n",
    "        CENTERED_SMALL_MALE,\n",
    "        CENTERED_SMALL_FEMALE,\n",
    "    ])\n",
    "    h_small, v_small = sample_random_grid(H, W, edge_types, generator=generator)\n",
    "\n",
    "    # Generate a grid with medium edges\n",
    "    edge_types = np.array([\n",
    "        CENTERED_MEDIUM_MALE,\n",
    "        CENTERED_MEDIUM_FEMALE,\n",
    "    ])\n",
    "    h_medium, v_medium = sample_random_grid(H, W, edge_types, generator=generator)\n",
    "\n",
    "    # Mix, with a bias in favor of small edges\n",
    "    horizontal_edges = np.where(generator.random(h_small.shape) < 0.8, h_small, h_medium)\n",
    "    vertical_edges = np.where(generator.random(v_small.shape) < 0.8, v_small, v_medium)\n",
    "    \n",
    "    # Add 5th corner\n",
    "    # Note: there is only one way to place it (x4, due to rotation)\n",
    "    horizontal_edges[1, 2] = FLAT\n",
    "    vertical_edges[2, 1] = FLAT\n",
    "    \n",
    "    # Make sure that the 5th corner has only female edges\n",
    "    horizontal_edges[1, 1] = CENTERED_SMALL_FEMALE\n",
    "    vertical_edges[1, 1] = CENTERED_SMALL_MALE\n",
    "    \n",
    "    # Make sure that the two extra edge pieces have female edges on the side\n",
    "    horizontal_edges[2, 1] = CENTERED_SMALL_FEMALE\n",
    "    horizontal_edges[2, 2] = CENTERED_SMALL_MALE\n",
    "    vertical_edges[1, 2] = CENTERED_SMALL_MALE\n",
    "    vertical_edges[2, 2] = CENTERED_SMALL_FEMALE\n",
    "    \n",
    "    return horizontal_edges, vertical_edges\n",
    "\n",
    "horizontal_edges, vertical_edges = search(sampler, is_unique)"
   ]
  },
  {
   "cell_type": "code",
   "execution_count": 8,
   "id": "4a3f9e34",
   "metadata": {},
   "outputs": [
    {
     "data": {
      "text/html": [
       "<div style=\"padding:1em\"><svg width=\"320\" height=\"320\" xmlns=\"http://www.w3.org/2000/svg\"><g transform=\"translate(32.0 32.0)\"><path fill=\"none\" stroke=\"black\" d=\"M 0.0 -16.0 L 0.0 0.0 L 0.0 64.0 L 0.0 128.0 L 0.0 192.0 L 0.0 256.0 L 0.0 272.0 M 64.0 -16.0 L 64.0 0.0 C 64.0 12.8, 67.2 12.8, 67.2 25.6 A 3.2 3.2 0 0 1 62.125483399593904 27.474516600406098 A 6.4 6.4 0 1 0 62.125483399593904 36.5254833995939 A 3.2 3.2 0 0 1 67.2 38.4 C 67.2 51.2, 64.0 51.2, 64.0 64.0 C 64.0 76.8, 60.8 76.8, 60.8 89.6 A 3.2 3.2 0 0 0 65.8745166004061 91.4745166004061 A 6.4 6.4 0 1 1 65.8745166004061 100.5254833995939 A 3.2 3.2 0 0 0 60.8 102.4 C 60.8 115.2, 64.0 115.2, 64.0 128.0 C 64.0 140.8, 60.8 140.8, 60.8 153.6 A 3.2 3.2 0 0 0 65.8745166004061 155.4745166004061 A 6.4 6.4 0 1 1 65.8745166004061 164.5254833995939 A 3.2 3.2 0 0 0 60.8 166.4 C 60.8 179.2, 64.0 179.2, 64.0 192.0 C 64.0 203.52, 68.48 203.52, 68.48 215.04 A 4.4799999999999995 4.4799999999999995 0 0 1 61.375676759431464 217.66432324056854 A 8.959999999999999 8.959999999999999 0 1 0 61.375676759431464 230.33567675943146 A 4.4799999999999995 4.4799999999999995 0 0 1 68.48 232.96 C 68.48 244.48, 64.0 244.48, 64.0 256.0 L 64.0 272.0 M 128.0 -16.0 L 128.0 0.0 C 128.0 12.8, 131.2 12.8, 131.2 25.6 A 3.2 3.2 0 0 1 126.1254833995939 27.474516600406098 A 6.4 6.4 0 1 0 126.1254833995939 36.5254833995939 A 3.2 3.2 0 0 1 131.2 38.4 C 131.2 51.2, 128.0 51.2, 128.0 64.0 L 128.0 128.0 C 128.0 140.8, 131.2 140.8, 131.2 153.6 A 3.2 3.2 0 0 1 126.1254833995939 155.4745166004061 A 6.4 6.4 0 1 0 126.1254833995939 164.5254833995939 A 3.2 3.2 0 0 1 131.2 166.4 C 131.2 179.2, 128.0 179.2, 128.0 192.0 C 128.0 204.8, 124.8 204.8, 124.8 217.6 A 3.2 3.2 0 0 0 129.87451660040608 219.4745166004061 A 6.4 6.4 0 1 1 129.87451660040608 228.5254833995939 A 3.2 3.2 0 0 0 124.8 230.4 C 124.8 243.2, 128.0 243.2, 128.0 256.0 L 128.0 272.0 M 192.0 -16.0 L 192.0 0.0 C 192.0 11.52, 196.48 11.52, 196.48 23.04 A 4.4799999999999995 4.4799999999999995 0 0 1 189.37567675943146 25.664323240568535 A 8.959999999999999 8.959999999999999 0 1 0 189.37567675943146 38.335676759431465 A 4.4799999999999995 4.4799999999999995 0 0 1 196.48 40.96 C 196.48 52.48, 192.0 52.48, 192.0 64.0 C 192.0 76.8, 188.8 76.8, 188.8 89.6 A 3.2 3.2 0 0 0 193.87451660040608 91.4745166004061 A 6.4 6.4 0 1 1 193.87451660040608 100.5254833995939 A 3.2 3.2 0 0 0 188.8 102.4 C 188.8 115.2, 192.0 115.2, 192.0 128.0 C 192.0 140.8, 188.8 140.8, 188.8 153.6 A 3.2 3.2 0 0 0 193.87451660040608 155.4745166004061 A 6.4 6.4 0 1 1 193.87451660040608 164.5254833995939 A 3.2 3.2 0 0 0 188.8 166.4 C 188.8 179.2, 192.0 179.2, 192.0 192.0 C 192.0 204.8, 195.2 204.8, 195.2 217.6 A 3.2 3.2 0 0 1 190.12548339959392 219.4745166004061 A 6.4 6.4 0 1 0 190.12548339959392 228.5254833995939 A 3.2 3.2 0 0 1 195.2 230.4 C 195.2 243.2, 192.0 243.2, 192.0 256.0 L 192.0 272.0 M 256.0 -16.0 L 256.0 0.0 L 256.0 64.0 L 256.0 128.0 L 256.0 192.0 L 256.0 256.0 L 256.0 272.0 M -16.0 0.0 L 0.0 0.0 L 64.0 0.0 L 128.0 0.0 L 192.0 0.0 L 256.0 0.0 L 272.0 0.0 M -16.0 64.0 L 0.0 64.0 C 12.8 64.0, 12.8 60.8, 25.6 60.8 A 3.2 3.2 0 0 1 27.474516600406098 65.8745166004061 A 6.4 6.4 0 1 0 36.5254833995939 65.8745166004061 A 3.2 3.2 0 0 1 38.4 60.8 C 51.2 60.8, 51.2 64.0, 64.0 64.0 C 76.8 64.0, 76.8 60.8, 89.6 60.8 A 3.2 3.2 0 0 1 91.4745166004061 65.8745166004061 A 6.4 6.4 0 1 0 100.5254833995939 65.8745166004061 A 3.2 3.2 0 0 1 102.4 60.8 C 115.2 60.8, 115.2 64.0, 128.0 64.0 C 140.8 64.0, 140.8 60.8, 153.6 60.8 A 3.2 3.2 0 0 1 155.4745166004061 65.8745166004061 A 6.4 6.4 0 1 0 164.5254833995939 65.8745166004061 A 3.2 3.2 0 0 1 166.4 60.8 C 179.2 60.8, 179.2 64.0, 192.0 64.0 C 203.52 64.0, 203.52 59.52, 215.04 59.52 A 4.4799999999999995 4.4799999999999995 0 0 1 217.66432324056854 66.62432324056853 A 8.959999999999999 8.959999999999999 0 1 0 230.33567675943146 66.62432324056853 A 4.4799999999999995 4.4799999999999995 0 0 1 232.96 59.52 C 244.48 59.52, 244.48 64.0, 256.0 64.0 L 272.0 64.0 M -16.0 128.0 L 0.0 128.0 C 12.8 128.0, 12.8 124.8, 25.6 124.8 A 3.2 3.2 0 0 1 27.474516600406098 129.87451660040608 A 6.4 6.4 0 1 0 36.5254833995939 129.87451660040608 A 3.2 3.2 0 0 1 38.4 124.8 C 51.2 124.8, 51.2 128.0, 64.0 128.0 L 128.0 128.0 C 140.8 128.0, 140.8 131.2, 153.6 131.2 A 3.2 3.2 0 0 0 155.4745166004061 126.1254833995939 A 6.4 6.4 0 1 1 164.5254833995939 126.1254833995939 A 3.2 3.2 0 0 0 166.4 131.2 C 179.2 131.2, 179.2 128.0, 192.0 128.0 C 204.8 128.0, 204.8 131.2, 217.6 131.2 A 3.2 3.2 0 0 0 219.4745166004061 126.1254833995939 A 6.4 6.4 0 1 1 228.5254833995939 126.1254833995939 A 3.2 3.2 0 0 0 230.4 131.2 C 243.2 131.2, 243.2 128.0, 256.0 128.0 L 272.0 128.0 M -16.0 192.0 L 0.0 192.0 C 12.8 192.0, 12.8 188.8, 25.6 188.8 A 3.2 3.2 0 0 1 27.474516600406098 193.87451660040608 A 6.4 6.4 0 1 0 36.5254833995939 193.87451660040608 A 3.2 3.2 0 0 1 38.4 188.8 C 51.2 188.8, 51.2 192.0, 64.0 192.0 C 75.52 192.0, 75.52 187.52, 87.03999999999999 187.52 A 4.4799999999999995 4.4799999999999995 0 0 1 89.66432324056854 194.62432324056854 A 8.959999999999999 8.959999999999999 0 1 0 102.33567675943146 194.62432324056854 A 4.4799999999999995 4.4799999999999995 0 0 1 104.96000000000001 187.52 C 116.47999999999999 187.52, 116.47999999999999 192.0, 128.0 192.0 C 140.8 192.0, 140.8 195.2, 153.6 195.2 A 3.2 3.2 0 0 0 155.4745166004061 190.12548339959392 A 6.4 6.4 0 1 1 164.5254833995939 190.12548339959392 A 3.2 3.2 0 0 0 166.4 195.2 C 179.2 195.2, 179.2 192.0, 192.0 192.0 C 204.8 192.0, 204.8 188.8, 217.6 188.8 A 3.2 3.2 0 0 1 219.4745166004061 193.87451660040608 A 6.4 6.4 0 1 0 228.5254833995939 193.87451660040608 A 3.2 3.2 0 0 1 230.4 188.8 C 243.2 188.8, 243.2 192.0, 256.0 192.0 L 272.0 192.0 M -16.0 256.0 L 0.0 256.0 L 64.0 256.0 L 128.0 256.0 L 192.0 256.0 L 256.0 256.0 L 272.0 256.0\"/></g></svg></div>"
      ],
      "text/plain": [
       "<IPython.core.display.HTML object>"
      ]
     },
     "metadata": {},
     "output_type": "display_data"
    }
   ],
   "source": [
    "# Show it\n",
    "display_grid(horizontal_edges, vertical_edges)"
   ]
  },
  {
   "cell_type": "code",
   "execution_count": 9,
   "id": "861bd10b",
   "metadata": {},
   "outputs": [],
   "source": [
    "# Keep it for later\n",
    "pieces_4x4_5th = grid_to_pieces(horizontal_edges, vertical_edges, opposite)"
   ]
  },
  {
   "cell_type": "markdown",
   "id": "516736c9",
   "metadata": {},
   "source": [
    "## 2. 4x4 split"
   ]
  },
  {
   "cell_type": "code",
   "execution_count": 10,
   "id": "e3bd7cf1",
   "metadata": {},
   "outputs": [
    {
     "name": "stderr",
     "output_type": "stream",
     "text": [
      "1it [00:00, 50.02it/s]\n"
     ]
    }
   ],
   "source": [
    "# Generate grid\n",
    "H, W = 4, 4\n",
    "generator = np.random.default_rng(42)\n",
    "def sampler():\n",
    "    \n",
    "    # Start from a simple grid, with small edges\n",
    "    edge_types = np.array([\n",
    "        CENTERED_SMALL_MALE,\n",
    "        CENTERED_SMALL_FEMALE,\n",
    "        LEFT_SMALL_MALE,\n",
    "        LEFT_SMALL_FEMALE,\n",
    "        RIGHT_SMALL_MALE,\n",
    "        RIGHT_SMALL_FEMALE,\n",
    "    ])\n",
    "    horizontal_edges, vertical_edges = sample_random_grid(H, W, edge_types, generator=generator)\n",
    "    \n",
    "    # Cut staircase\n",
    "    for i in range(1, H):\n",
    "        horizontal_edges[i, i] = FLAT\n",
    "        vertical_edges[i, i - 1] = FLAT\n",
    "    \n",
    "    # Replace lower half with medium centered edges\n",
    "    edge_types = np.array([\n",
    "        CENTERED_MEDIUM_MALE,\n",
    "        CENTERED_MEDIUM_FEMALE,\n",
    "    ])\n",
    "    for i in range(1, H - 1):\n",
    "        horizontal_edges[i+1, 1:i+1] = generator.choice(edge_types, i)\n",
    "        vertical_edges[i+1:H, i-1] = generator.choice(edge_types, H - 1 - i)\n",
    "    \n",
    "    return horizontal_edges, vertical_edges\n",
    "    \n",
    "horizontal_edges, vertical_edges = search(sampler, is_unique)"
   ]
  },
  {
   "cell_type": "code",
   "execution_count": 11,
   "id": "3bbae569",
   "metadata": {},
   "outputs": [
    {
     "data": {
      "text/html": [
       "<div style=\"padding:1em\"><svg width=\"320\" height=\"320\" xmlns=\"http://www.w3.org/2000/svg\"><g transform=\"translate(32.0 32.0)\"><path fill=\"none\" stroke=\"black\" d=\"M 0.0 -16.0 L 0.0 0.0 L 0.0 64.0 L 0.0 128.0 L 0.0 192.0 L 0.0 256.0 L 0.0 272.0 M 64.0 -16.0 L 64.0 0.0 C 64.0 12.8, 67.2 12.8, 67.2 25.6 A 3.2 3.2 0 0 1 62.125483399593904 27.474516600406098 A 6.4 6.4 0 1 0 62.125483399593904 36.5254833995939 A 3.2 3.2 0 0 1 67.2 38.4 C 67.2 51.2, 64.0 51.2, 64.0 64.0 L 64.0 128.0 C 64.0 139.52, 59.52 139.52, 59.52 151.04 A 4.4799999999999995 4.4799999999999995 0 0 0 66.62432324056853 153.66432324056854 A 8.959999999999999 8.959999999999999 0 1 1 66.62432324056853 166.33567675943146 A 4.4799999999999995 4.4799999999999995 0 0 0 59.52 168.96 C 59.52 180.48, 64.0 180.48, 64.0 192.0 C 64.0 203.52, 59.52 203.52, 59.52 215.04 A 4.4799999999999995 4.4799999999999995 0 0 0 66.62432324056853 217.66432324056854 A 8.959999999999999 8.959999999999999 0 1 1 66.62432324056853 230.33567675943146 A 4.4799999999999995 4.4799999999999995 0 0 0 59.52 232.96 C 59.52 244.48, 64.0 244.48, 64.0 256.0 L 64.0 272.0 M 128.0 -16.0 L 128.0 0.0 C 128.0 7.999999999999999, 124.8 7.999999999999999, 124.8 15.999999999999998 A 3.2 3.2 0 0 0 129.87451660040608 17.874516600406096 A 6.4 6.4 0 1 1 129.87451660040608 26.9254833995939 A 3.2 3.2 0 0 0 124.8 28.799999999999997 C 124.8 46.400000000000006, 128.0 46.400000000000006, 128.0 64.0 C 128.0 72.0, 131.2 72.0, 131.2 80.0 A 3.2 3.2 0 0 1 126.1254833995939 81.8745166004061 A 6.4 6.4 0 1 0 126.1254833995939 90.9254833995939 A 3.2 3.2 0 0 1 131.2 92.8 C 131.2 110.4, 128.0 110.4, 128.0 128.0 L 128.0 192.0 C 128.0 203.52, 123.52 203.52, 123.52 215.04 A 4.4799999999999995 4.4799999999999995 0 0 0 130.62432324056854 217.66432324056854 A 8.959999999999999 8.959999999999999 0 1 1 130.62432324056854 230.33567675943146 A 4.4799999999999995 4.4799999999999995 0 0 0 123.52 232.96 C 123.52 244.48, 128.0 244.48, 128.0 256.0 L 128.0 272.0 M 192.0 -16.0 L 192.0 0.0 C 192.0 12.8, 195.2 12.8, 195.2 25.6 A 3.2 3.2 0 0 1 190.12548339959392 27.474516600406098 A 6.4 6.4 0 1 0 190.12548339959392 36.5254833995939 A 3.2 3.2 0 0 1 195.2 38.4 C 195.2 51.2, 192.0 51.2, 192.0 64.0 C 192.0 72.0, 195.2 72.0, 195.2 80.0 A 3.2 3.2 0 0 1 190.12548339959392 81.8745166004061 A 6.4 6.4 0 1 0 190.12548339959392 90.9254833995939 A 3.2 3.2 0 0 1 195.2 92.8 C 195.2 110.4, 192.0 110.4, 192.0 128.0 C 192.0 145.6, 195.2 145.6, 195.2 163.2 A 3.2 3.2 0 0 1 190.12548339959392 165.0745166004061 A 6.4 6.4 0 1 0 190.12548339959392 174.12548339959392 A 3.2 3.2 0 0 1 195.2 176.0 C 195.2 184.0, 192.0 184.0, 192.0 192.0 L 192.0 256.0 L 192.0 272.0 M 256.0 -16.0 L 256.0 0.0 L 256.0 64.0 L 256.0 128.0 L 256.0 192.0 L 256.0 256.0 L 256.0 272.0 M -16.0 0.0 L 0.0 0.0 L 64.0 0.0 L 128.0 0.0 L 192.0 0.0 L 256.0 0.0 L 272.0 0.0 M -16.0 64.0 L 0.0 64.0 L 64.0 64.0 C 81.6 64.0, 81.6 67.2, 99.2 67.2 A 3.2 3.2 0 0 0 101.0745166004061 62.125483399593904 A 6.4 6.4 0 1 1 110.1254833995939 62.125483399593904 A 3.2 3.2 0 0 0 112.0 67.2 C 120.0 67.2, 120.0 64.0, 128.0 64.0 C 140.8 64.0, 140.8 60.8, 153.6 60.8 A 3.2 3.2 0 0 1 155.4745166004061 65.8745166004061 A 6.4 6.4 0 1 0 164.5254833995939 65.8745166004061 A 3.2 3.2 0 0 1 166.4 60.8 C 179.2 60.8, 179.2 64.0, 192.0 64.0 C 204.8 64.0, 204.8 60.8, 217.6 60.8 A 3.2 3.2 0 0 1 219.4745166004061 65.8745166004061 A 6.4 6.4 0 1 0 228.5254833995939 65.8745166004061 A 3.2 3.2 0 0 1 230.4 60.8 C 243.2 60.8, 243.2 64.0, 256.0 64.0 L 272.0 64.0 M -16.0 128.0 L 0.0 128.0 C 11.52 128.0, 11.52 132.48, 23.04 132.48 A 4.4799999999999995 4.4799999999999995 0 0 0 25.664323240568535 125.37567675943147 A 8.959999999999999 8.959999999999999 0 1 1 38.335676759431465 125.37567675943147 A 4.4799999999999995 4.4799999999999995 0 0 0 40.96 132.48 C 52.48 132.48, 52.48 128.0, 64.0 128.0 L 128.0 128.0 C 136.0 128.0, 136.0 124.8, 144.0 124.8 A 3.2 3.2 0 0 1 145.87451660040608 129.87451660040608 A 6.4 6.4 0 1 0 154.9254833995939 129.87451660040608 A 3.2 3.2 0 0 1 156.8 124.8 C 174.4 124.8, 174.4 128.0, 192.0 128.0 C 200.0 128.0, 200.0 131.2, 208.0 131.2 A 3.2 3.2 0 0 0 209.87451660040608 126.1254833995939 A 6.4 6.4 0 1 1 218.9254833995939 126.1254833995939 A 3.2 3.2 0 0 0 220.8 131.2 C 238.4 131.2, 238.4 128.0, 256.0 128.0 L 272.0 128.0 M -16.0 192.0 L 0.0 192.0 C 11.52 192.0, 11.52 196.48, 23.04 196.48 A 4.4799999999999995 4.4799999999999995 0 0 0 25.664323240568535 189.37567675943146 A 8.959999999999999 8.959999999999999 0 1 1 38.335676759431465 189.37567675943146 A 4.4799999999999995 4.4799999999999995 0 0 0 40.96 196.48 C 52.48 196.48, 52.48 192.0, 64.0 192.0 C 75.52 192.0, 75.52 196.48, 87.03999999999999 196.48 A 4.4799999999999995 4.4799999999999995 0 0 0 89.66432324056854 189.37567675943146 A 8.959999999999999 8.959999999999999 0 1 1 102.33567675943146 189.37567675943146 A 4.4799999999999995 4.4799999999999995 0 0 0 104.96000000000001 196.48 C 116.47999999999999 196.48, 116.47999999999999 192.0, 128.0 192.0 L 192.0 192.0 C 200.0 192.0, 200.0 188.8, 208.0 188.8 A 3.2 3.2 0 0 1 209.87451660040608 193.87451660040608 A 6.4 6.4 0 1 0 218.9254833995939 193.87451660040608 A 3.2 3.2 0 0 1 220.8 188.8 C 238.4 188.8, 238.4 192.0, 256.0 192.0 L 272.0 192.0 M -16.0 256.0 L 0.0 256.0 L 64.0 256.0 L 128.0 256.0 L 192.0 256.0 L 256.0 256.0 L 272.0 256.0\"/></g></svg></div>"
      ],
      "text/plain": [
       "<IPython.core.display.HTML object>"
      ]
     },
     "metadata": {},
     "output_type": "display_data"
    }
   ],
   "source": [
    "# Show it\n",
    "display_grid(horizontal_edges, vertical_edges)"
   ]
  },
  {
   "cell_type": "code",
   "execution_count": 12,
   "id": "fe48e28f",
   "metadata": {},
   "outputs": [],
   "source": [
    "# Keep it for later\n",
    "pieces_4x4_split = grid_to_pieces(horizontal_edges, vertical_edges, opposite)"
   ]
  },
  {
   "cell_type": "markdown",
   "id": "5a621862",
   "metadata": {},
   "source": [
    "## 3. 4x4 snake\n",
    "\n",
    "_Updated to have unique pieces._"
   ]
  },
  {
   "cell_type": "code",
   "execution_count": 13,
   "id": "7e3d9359",
   "metadata": {},
   "outputs": [
    {
     "name": "stderr",
     "output_type": "stream",
     "text": [
      "789it [00:04, 168.12it/s]\n"
     ]
    }
   ],
   "source": [
    "# Generate grid\n",
    "generator = np.random.default_rng(42)\n",
    "def sampler():\n",
    "    \n",
    "    # Start from a simple grid, with small edges\n",
    "    edge_types = np.array([\n",
    "        CENTERED_SMALL_MALE,\n",
    "        LEFT_SMALL_MALE,\n",
    "        DOUBLE_SMALL_MALE,\n",
    "        TWISTED_SMALL_MALE,\n",
    "    ])\n",
    "    edge_types = expand_edge_types(edge_types, opposite, flip)\n",
    "    horizontal_edges, vertical_edges = sample_random_grid(4, 4, edge_types, generator=generator)\n",
    "    \n",
    "    # Draw snake outline\n",
    "    horizontal_edges[0, 2] = FLAT\n",
    "    horizontal_edges[1, 2] = FLAT\n",
    "    horizontal_edges[1, 3] = FLAT\n",
    "    horizontal_edges[2, 1] = FLAT\n",
    "    horizontal_edges[2, 3] = FLAT\n",
    "    vertical_edges[1, 0] = FLAT\n",
    "    vertical_edges[2, 1] = FLAT\n",
    "    vertical_edges[3, 1] = FLAT\n",
    "    vertical_edges[3, 2] = FLAT\n",
    "    \n",
    "    return horizontal_edges, vertical_edges\n",
    "    \n",
    "horizontal_edges, vertical_edges = search(sampler, has_unique_pieces, is_unique)"
   ]
  },
  {
   "cell_type": "code",
   "execution_count": 14,
   "id": "6b7aac38",
   "metadata": {},
   "outputs": [
    {
     "data": {
      "text/html": [
       "<div style=\"padding:1em\"><svg width=\"320\" height=\"320\" xmlns=\"http://www.w3.org/2000/svg\"><g transform=\"translate(32.0 32.0)\"><path fill=\"none\" stroke=\"black\" d=\"M 0.0 -16.0 L 0.0 0.0 L 0.0 64.0 L 0.0 128.0 L 0.0 192.0 L 0.0 256.0 L 0.0 272.0 M 64.0 -16.0 L 64.0 0.0 C 64.0 7.999999999999999, 67.2 7.999999999999999, 67.2 15.999999999999998 A 3.2 3.2 0 0 1 62.125483399593904 17.874516600406096 A 6.4 6.4 0 1 0 62.125483399593904 26.9254833995939 A 3.2 3.2 0 0 1 67.2 28.799999999999997 C 67.2 32.0, 60.8 32.0, 60.8 35.2 A 3.2 3.2 0 0 0 65.8745166004061 37.0745166004061 A 6.4 6.4 0 1 1 65.8745166004061 46.125483399593904 A 3.2 3.2 0 0 0 60.8 48.0 C 60.8 56.0, 64.0 56.0, 64.0 64.0 C 64.0 76.8, 60.8 76.8, 60.8 89.6 A 3.2 3.2 0 0 0 65.8745166004061 91.4745166004061 A 6.4 6.4 0 1 1 65.8745166004061 100.5254833995939 A 3.2 3.2 0 0 0 60.8 102.4 C 60.8 115.2, 64.0 115.2, 64.0 128.0 L 64.0 192.0 C 64.0 200.0, 60.8 200.0, 60.8 208.0 A 3.2 3.2 0 0 0 65.8745166004061 209.87451660040608 A 6.4 6.4 0 1 1 65.8745166004061 218.9254833995939 A 3.2 3.2 0 0 0 60.8 220.8 L 60.8 227.2 A 3.2 3.2 0 0 0 65.8745166004061 229.0745166004061 A 6.4 6.4 0 1 1 65.8745166004061 238.12548339959392 A 3.2 3.2 0 0 0 60.8 240.0 C 60.8 248.0, 64.0 248.0, 64.0 256.0 L 64.0 272.0 M 128.0 -16.0 L 128.0 0.0 L 128.0 64.0 L 128.0 128.0 C 128.0 145.6, 131.2 145.6, 131.2 163.2 A 3.2 3.2 0 0 1 126.1254833995939 165.0745166004061 A 6.4 6.4 0 1 0 126.1254833995939 174.12548339959392 A 3.2 3.2 0 0 1 131.2 176.0 C 131.2 184.0, 128.0 184.0, 128.0 192.0 C 128.0 209.6, 131.2 209.6, 131.2 227.2 A 3.2 3.2 0 0 1 126.1254833995939 229.0745166004061 A 6.4 6.4 0 1 0 126.1254833995939 238.12548339959392 A 3.2 3.2 0 0 1 131.2 240.0 C 131.2 248.0, 128.0 248.0, 128.0 256.0 L 128.0 272.0 M 192.0 -16.0 L 192.0 0.0 C 192.0 7.999999999999999, 188.8 7.999999999999999, 188.8 15.999999999999998 A 3.2 3.2 0 0 0 193.87451660040608 17.874516600406096 A 6.4 6.4 0 1 1 193.87451660040608 26.9254833995939 A 3.2 3.2 0 0 0 188.8 28.799999999999997 L 188.8 35.2 A 3.2 3.2 0 0 0 193.87451660040608 37.0745166004061 A 6.4 6.4 0 1 1 193.87451660040608 46.125483399593904 A 3.2 3.2 0 0 0 188.8 48.0 C 188.8 56.0, 192.0 56.0, 192.0 64.0 L 192.0 128.0 L 192.0 192.0 C 192.0 209.6, 188.8 209.6, 188.8 227.2 A 3.2 3.2 0 0 0 193.87451660040608 229.0745166004061 A 6.4 6.4 0 1 1 193.87451660040608 238.12548339959392 A 3.2 3.2 0 0 0 188.8 240.0 C 188.8 248.0, 192.0 248.0, 192.0 256.0 L 192.0 272.0 M 256.0 -16.0 L 256.0 0.0 L 256.0 64.0 L 256.0 128.0 L 256.0 192.0 L 256.0 256.0 L 256.0 272.0 M -16.0 0.0 L 0.0 0.0 L 64.0 0.0 L 128.0 0.0 L 192.0 0.0 L 256.0 0.0 L 272.0 0.0 M -16.0 64.0 L 0.0 64.0 L 64.0 64.0 C 72.0 64.0, 72.0 60.8, 80.0 60.8 A 3.2 3.2 0 0 1 81.8745166004061 65.8745166004061 A 6.4 6.4 0 1 0 90.9254833995939 65.8745166004061 A 3.2 3.2 0 0 1 92.8 60.8 C 96.0 60.8, 96.0 67.2, 99.2 67.2 A 3.2 3.2 0 0 0 101.0745166004061 62.125483399593904 A 6.4 6.4 0 1 1 110.1254833995939 62.125483399593904 A 3.2 3.2 0 0 0 112.0 67.2 C 120.0 67.2, 120.0 64.0, 128.0 64.0 C 145.6 64.0, 145.6 67.2, 163.2 67.2 A 3.2 3.2 0 0 0 165.0745166004061 62.125483399593904 A 6.4 6.4 0 1 1 174.12548339959392 62.125483399593904 A 3.2 3.2 0 0 0 176.0 67.2 C 184.0 67.2, 184.0 64.0, 192.0 64.0 C 200.0 64.0, 200.0 67.2, 208.0 67.2 A 3.2 3.2 0 0 0 209.87451660040608 62.125483399593904 A 6.4 6.4 0 1 1 218.9254833995939 62.125483399593904 A 3.2 3.2 0 0 0 220.8 67.2 C 224.0 67.2, 224.0 60.8, 227.2 60.8 A 3.2 3.2 0 0 1 229.0745166004061 65.8745166004061 A 6.4 6.4 0 1 0 238.12548339959392 65.8745166004061 A 3.2 3.2 0 0 1 240.0 60.8 C 248.0 60.8, 248.0 64.0, 256.0 64.0 L 272.0 64.0 M -16.0 128.0 L 0.0 128.0 C 12.8 128.0, 12.8 124.8, 25.6 124.8 A 3.2 3.2 0 0 1 27.474516600406098 129.87451660040608 A 6.4 6.4 0 1 0 36.5254833995939 129.87451660040608 A 3.2 3.2 0 0 1 38.4 124.8 C 51.2 124.8, 51.2 128.0, 64.0 128.0 L 128.0 128.0 C 136.0 128.0, 136.0 124.8, 144.0 124.8 A 3.2 3.2 0 0 1 145.87451660040608 129.87451660040608 A 6.4 6.4 0 1 0 154.9254833995939 129.87451660040608 A 3.2 3.2 0 0 1 156.8 124.8 C 174.4 124.8, 174.4 128.0, 192.0 128.0 C 200.0 128.0, 200.0 131.2, 208.0 131.2 A 3.2 3.2 0 0 0 209.87451660040608 126.1254833995939 A 6.4 6.4 0 1 1 218.9254833995939 126.1254833995939 A 3.2 3.2 0 0 0 220.8 131.2 C 224.0 131.2, 224.0 124.8, 227.2 124.8 A 3.2 3.2 0 0 1 229.0745166004061 129.87451660040608 A 6.4 6.4 0 1 0 238.12548339959392 129.87451660040608 A 3.2 3.2 0 0 1 240.0 124.8 C 248.0 124.8, 248.0 128.0, 256.0 128.0 L 272.0 128.0 M -16.0 192.0 L 0.0 192.0 C 12.8 192.0, 12.8 188.8, 25.6 188.8 A 3.2 3.2 0 0 1 27.474516600406098 193.87451660040608 A 6.4 6.4 0 1 0 36.5254833995939 193.87451660040608 A 3.2 3.2 0 0 1 38.4 188.8 C 51.2 188.8, 51.2 192.0, 64.0 192.0 L 128.0 192.0 L 192.0 192.0 C 209.6 192.0, 209.6 188.8, 227.2 188.8 A 3.2 3.2 0 0 1 229.0745166004061 193.87451660040608 A 6.4 6.4 0 1 0 238.12548339959392 193.87451660040608 A 3.2 3.2 0 0 1 240.0 188.8 C 248.0 188.8, 248.0 192.0, 256.0 192.0 L 272.0 192.0 M -16.0 256.0 L 0.0 256.0 L 64.0 256.0 L 128.0 256.0 L 192.0 256.0 L 256.0 256.0 L 272.0 256.0\"/></g></svg></div>"
      ],
      "text/plain": [
       "<IPython.core.display.HTML object>"
      ]
     },
     "metadata": {},
     "output_type": "display_data"
    }
   ],
   "source": [
    "# Show it\n",
    "display_grid(horizontal_edges, vertical_edges)"
   ]
  },
  {
   "cell_type": "code",
   "execution_count": 15,
   "id": "7a10b379",
   "metadata": {},
   "outputs": [],
   "source": [
    "# Keep it for later\n",
    "pieces_4x4_snake = grid_to_pieces(horizontal_edges, vertical_edges, opposite)"
   ]
  },
  {
   "cell_type": "markdown",
   "id": "ddafa5bf",
   "metadata": {},
   "source": [
    "## 4. 4x4 with pure square\n",
    "\n",
    "_This is an updated version, which add unicity of solution of the inner pieces._"
   ]
  },
  {
   "cell_type": "code",
   "execution_count": 16,
   "id": "94b34305",
   "metadata": {},
   "outputs": [
    {
     "data": {
      "text/html": [
       "<div style=\"padding:1em\"><svg width=\"320\" height=\"320\" xmlns=\"http://www.w3.org/2000/svg\"><g transform=\"translate(32.0 32.0)\"><path fill=\"none\" stroke=\"black\" d=\"M 0.0 -16.0 L 0.0 0.0 L 0.0 64.0 L 0.0 128.0 L 0.0 192.0 L 0.0 256.0 L 0.0 272.0 M 64.0 -16.0 L 64.0 0.0 L 64.0 64.0 L 64.0 76.8 M 64.0 89.6 L 64.0 102.4 M 64.0 115.2 L 64.0 128.0 L 64.0 140.8 M 64.0 153.6 L 64.0 166.4 M 64.0 179.2 L 64.0 192.0 L 64.0 204.8 M 64.0 217.6 L 64.0 230.4 M 64.0 243.2 L 64.0 256.0 L 64.0 272.0 M 128.0 -16.0 L 128.0 0.0 L 128.0 12.8 M 128.0 25.6 L 128.0 38.4 M 128.0 51.2 L 128.0 64.0 L 128.0 76.8 M 128.0 89.6 L 128.0 102.4 M 128.0 115.2 L 128.0 128.0 L 128.0 140.8 M 128.0 153.6 L 128.0 166.4 M 128.0 179.2 L 128.0 192.0 L 128.0 204.8 M 128.0 217.6 L 128.0 230.4 M 128.0 243.2 L 128.0 256.0 L 128.0 272.0 M 192.0 -16.0 L 192.0 0.0 L 192.0 12.8 M 192.0 25.6 L 192.0 38.4 M 192.0 51.2 L 192.0 64.0 L 192.0 76.8 M 192.0 89.6 L 192.0 102.4 M 192.0 115.2 L 192.0 128.0 L 192.0 140.8 M 192.0 153.6 L 192.0 166.4 M 192.0 179.2 L 192.0 192.0 L 192.0 204.8 M 192.0 217.6 L 192.0 230.4 M 192.0 243.2 L 192.0 256.0 L 192.0 272.0 M 256.0 -16.0 L 256.0 0.0 L 256.0 64.0 L 256.0 128.0 L 256.0 192.0 L 256.0 256.0 L 256.0 272.0 M -16.0 0.0 L 0.0 0.0 L 64.0 0.0 L 128.0 0.0 L 192.0 0.0 L 256.0 0.0 L 272.0 0.0 M -16.0 64.0 L 0.0 64.0 L 64.0 64.0 L 76.8 64.0 M 89.6 64.0 L 102.4 64.0 M 115.2 64.0 L 128.0 64.0 L 140.8 64.0 M 153.6 64.0 L 166.4 64.0 M 179.2 64.0 L 192.0 64.0 L 204.8 64.0 M 217.6 64.0 L 230.4 64.0 M 243.2 64.0 L 256.0 64.0 L 272.0 64.0 M -16.0 128.0 L 0.0 128.0 L 12.8 128.0 M 25.6 128.0 L 38.4 128.0 M 51.2 128.0 L 64.0 128.0 L 76.8 128.0 M 89.6 128.0 L 102.4 128.0 M 115.2 128.0 L 128.0 128.0 L 140.8 128.0 M 153.6 128.0 L 166.4 128.0 M 179.2 128.0 L 192.0 128.0 L 204.8 128.0 M 217.6 128.0 L 230.4 128.0 M 243.2 128.0 L 256.0 128.0 L 272.0 128.0 M -16.0 192.0 L 0.0 192.0 L 12.8 192.0 M 25.6 192.0 L 38.4 192.0 M 51.2 192.0 L 64.0 192.0 L 76.8 192.0 M 89.6 192.0 L 102.4 192.0 M 115.2 192.0 L 128.0 192.0 L 140.8 192.0 M 153.6 192.0 L 166.4 192.0 M 179.2 192.0 L 192.0 192.0 L 204.8 192.0 M 217.6 192.0 L 230.4 192.0 M 243.2 192.0 L 256.0 192.0 L 272.0 192.0 M -16.0 256.0 L 0.0 256.0 L 64.0 256.0 L 128.0 256.0 L 192.0 256.0 L 256.0 256.0 L 272.0 256.0\"/></g></svg></div>"
      ],
      "text/plain": [
       "<IPython.core.display.HTML object>"
      ]
     },
     "metadata": {},
     "output_type": "display_data"
    }
   ],
   "source": [
    "# This will be a 4x4 grid\n",
    "H, W = 4, 4\n",
    "horizontal_edges, vertical_edges = sample_random_grid(H, W, np.array([FLAT_ALTERNATIVE]))\n",
    "horizontal_edges[0, 1] = FLAT\n",
    "vertical_edges[1, 0] = FLAT\n",
    "\n",
    "# First, make sure that the overall layout can only be solved one way only\n",
    "assert is_unique(horizontal_edges, vertical_edges)\n",
    "\n",
    "# Show it, to illustrate the purpose\n",
    "display_grid(horizontal_edges, vertical_edges)"
   ]
  },
  {
   "cell_type": "code",
   "execution_count": 17,
   "id": "9ce2cfa3",
   "metadata": {},
   "outputs": [
    {
     "name": "stderr",
     "output_type": "stream",
     "text": [
      "15140it [00:21, 703.85it/s]\n"
     ]
    }
   ],
   "source": [
    "# Choose edge types\n",
    "edge_types = np.array([\n",
    "    CENTERED_SMALL_MALE,\n",
    "    #LEFT_SMALL_MALE,\n",
    "    CENTERED_MEDIUM_MALE,\n",
    "])\n",
    "edge_types = expand_edge_types(edge_types, opposite, flip)\n",
    "\n",
    "# Generate grid\n",
    "generator = np.random.default_rng(123123)\n",
    "def sampler():\n",
    "    horizontal_edges, vertical_edges = sample_random_grid(H, W, edge_types, generator=generator)\n",
    "    \n",
    "    # Add square in upper-left corner\n",
    "    horizontal_edges[0, 1] = FLAT\n",
    "    vertical_edges[1, 0] = FLAT\n",
    "    \n",
    "    # Central pieces have male pins \"radiating\" outside\n",
    "    horizontal_edges[1:3, 1] = generator.choice([CENTERED_SMALL_MALE, CENTERED_MEDIUM_MALE], size=2)\n",
    "    horizontal_edges[1:3, 3] = generator.choice([CENTERED_SMALL_FEMALE, CENTERED_MEDIUM_FEMALE], size=2)\n",
    "    vertical_edges[1, 1:3] = generator.choice([CENTERED_SMALL_FEMALE, CENTERED_MEDIUM_FEMALE], size=2)\n",
    "    vertical_edges[3, 1:3] = generator.choice([CENTERED_SMALL_MALE, CENTERED_MEDIUM_MALE], size=2)\n",
    "\n",
    "    # Corners that are not next to the square are male only (i.e. they cannot connect with the radiating center)\n",
    "    horizontal_edges[[0, 3], 3] = generator.choice([CENTERED_SMALL_MALE, CENTERED_MEDIUM_MALE], size=2)\n",
    "    horizontal_edges[3, 1] = generator.choice([CENTERED_SMALL_FEMALE, CENTERED_MEDIUM_FEMALE])\n",
    "    vertical_edges[3, [0, 3]] = generator.choice([CENTERED_SMALL_FEMALE, CENTERED_MEDIUM_FEMALE], size=2)\n",
    "    vertical_edges[1, 3] = generator.choice([CENTERED_SMALL_MALE, CENTERED_MEDIUM_MALE])\n",
    "    \n",
    "    return horizontal_edges, vertical_edges\n",
    "\n",
    "horizontal_edges, vertical_edges = search(sampler, has_unique_pieces, is_inner_unique, is_unique)"
   ]
  },
  {
   "cell_type": "code",
   "execution_count": 18,
   "id": "bc1460f0",
   "metadata": {},
   "outputs": [
    {
     "data": {
      "text/html": [
       "<div style=\"padding:1em\"><svg width=\"320\" height=\"320\" xmlns=\"http://www.w3.org/2000/svg\"><g transform=\"translate(32.0 32.0)\"><path fill=\"none\" stroke=\"black\" d=\"M 0.0 -16.0 L 0.0 0.0 L 0.0 64.0 L 0.0 128.0 L 0.0 192.0 L 0.0 256.0 L 0.0 272.0 M 64.0 -16.0 L 64.0 0.0 L 64.0 64.0 C 64.0 76.8, 67.2 76.8, 67.2 89.6 A 3.2 3.2 0 0 1 62.125483399593904 91.4745166004061 A 6.4 6.4 0 1 0 62.125483399593904 100.5254833995939 A 3.2 3.2 0 0 1 67.2 102.4 C 67.2 115.2, 64.0 115.2, 64.0 128.0 C 64.0 140.8, 67.2 140.8, 67.2 153.6 A 3.2 3.2 0 0 1 62.125483399593904 155.4745166004061 A 6.4 6.4 0 1 0 62.125483399593904 164.5254833995939 A 3.2 3.2 0 0 1 67.2 166.4 C 67.2 179.2, 64.0 179.2, 64.0 192.0 C 64.0 204.8, 60.8 204.8, 60.8 217.6 A 3.2 3.2 0 0 0 65.8745166004061 219.4745166004061 A 6.4 6.4 0 1 1 65.8745166004061 228.5254833995939 A 3.2 3.2 0 0 0 60.8 230.4 C 60.8 243.2, 64.0 243.2, 64.0 256.0 L 64.0 272.0 M 128.0 -16.0 L 128.0 0.0 C 128.0 12.8, 124.8 12.8, 124.8 25.6 A 3.2 3.2 0 0 0 129.87451660040608 27.474516600406098 A 6.4 6.4 0 1 1 129.87451660040608 36.5254833995939 A 3.2 3.2 0 0 0 124.8 38.4 C 124.8 51.2, 128.0 51.2, 128.0 64.0 C 128.0 75.52, 123.52 75.52, 123.52 87.03999999999999 A 4.4799999999999995 4.4799999999999995 0 0 0 130.62432324056854 89.66432324056854 A 8.959999999999999 8.959999999999999 0 1 1 130.62432324056854 102.33567675943146 A 4.4799999999999995 4.4799999999999995 0 0 0 123.52 104.96000000000001 C 123.52 116.47999999999999, 128.0 116.47999999999999, 128.0 128.0 C 128.0 140.8, 124.8 140.8, 124.8 153.6 A 3.2 3.2 0 0 0 129.87451660040608 155.4745166004061 A 6.4 6.4 0 1 1 129.87451660040608 164.5254833995939 A 3.2 3.2 0 0 0 124.8 166.4 C 124.8 179.2, 128.0 179.2, 128.0 192.0 C 128.0 204.8, 131.2 204.8, 131.2 217.6 A 3.2 3.2 0 0 1 126.1254833995939 219.4745166004061 A 6.4 6.4 0 1 0 126.1254833995939 228.5254833995939 A 3.2 3.2 0 0 1 131.2 230.4 C 131.2 243.2, 128.0 243.2, 128.0 256.0 L 128.0 272.0 M 192.0 -16.0 L 192.0 0.0 C 192.0 12.8, 195.2 12.8, 195.2 25.6 A 3.2 3.2 0 0 1 190.12548339959392 27.474516600406098 A 6.4 6.4 0 1 0 190.12548339959392 36.5254833995939 A 3.2 3.2 0 0 1 195.2 38.4 C 195.2 51.2, 192.0 51.2, 192.0 64.0 C 192.0 75.52, 187.52 75.52, 187.52 87.03999999999999 A 4.4799999999999995 4.4799999999999995 0 0 0 194.62432324056854 89.66432324056854 A 8.959999999999999 8.959999999999999 0 1 1 194.62432324056854 102.33567675943146 A 4.4799999999999995 4.4799999999999995 0 0 0 187.52 104.96000000000001 C 187.52 116.47999999999999, 192.0 116.47999999999999, 192.0 128.0 C 192.0 140.8, 188.8 140.8, 188.8 153.6 A 3.2 3.2 0 0 0 193.87451660040608 155.4745166004061 A 6.4 6.4 0 1 1 193.87451660040608 164.5254833995939 A 3.2 3.2 0 0 0 188.8 166.4 C 188.8 179.2, 192.0 179.2, 192.0 192.0 C 192.0 203.52, 196.48 203.52, 196.48 215.04 A 4.4799999999999995 4.4799999999999995 0 0 1 189.37567675943146 217.66432324056854 A 8.959999999999999 8.959999999999999 0 1 0 189.37567675943146 230.33567675943146 A 4.4799999999999995 4.4799999999999995 0 0 1 196.48 232.96 C 196.48 244.48, 192.0 244.48, 192.0 256.0 L 192.0 272.0 M 256.0 -16.0 L 256.0 0.0 L 256.0 64.0 L 256.0 128.0 L 256.0 192.0 L 256.0 256.0 L 256.0 272.0 M -16.0 0.0 L 0.0 0.0 L 64.0 0.0 L 128.0 0.0 L 192.0 0.0 L 256.0 0.0 L 272.0 0.0 M -16.0 64.0 L 0.0 64.0 L 64.0 64.0 C 75.52 64.0, 75.52 68.48, 87.03999999999999 68.48 A 4.4799999999999995 4.4799999999999995 0 0 0 89.66432324056854 61.375676759431464 A 8.959999999999999 8.959999999999999 0 1 1 102.33567675943146 61.375676759431464 A 4.4799999999999995 4.4799999999999995 0 0 0 104.96000000000001 68.48 C 116.47999999999999 68.48, 116.47999999999999 64.0, 128.0 64.0 C 139.52 64.0, 139.52 68.48, 151.04 68.48 A 4.4799999999999995 4.4799999999999995 0 0 0 153.66432324056854 61.375676759431464 A 8.959999999999999 8.959999999999999 0 1 1 166.33567675943146 61.375676759431464 A 4.4799999999999995 4.4799999999999995 0 0 0 168.96 68.48 C 180.48 68.48, 180.48 64.0, 192.0 64.0 C 203.52 64.0, 203.52 59.52, 215.04 59.52 A 4.4799999999999995 4.4799999999999995 0 0 1 217.66432324056854 66.62432324056853 A 8.959999999999999 8.959999999999999 0 1 0 230.33567675943146 66.62432324056853 A 4.4799999999999995 4.4799999999999995 0 0 1 232.96 59.52 C 244.48 59.52, 244.48 64.0, 256.0 64.0 L 272.0 64.0 M -16.0 128.0 L 0.0 128.0 C 12.8 128.0, 12.8 131.2, 25.6 131.2 A 3.2 3.2 0 0 0 27.474516600406098 126.1254833995939 A 6.4 6.4 0 1 1 36.5254833995939 126.1254833995939 A 3.2 3.2 0 0 0 38.4 131.2 C 51.2 131.2, 51.2 128.0, 64.0 128.0 C 76.8 128.0, 76.8 124.8, 89.6 124.8 A 3.2 3.2 0 0 1 91.4745166004061 129.87451660040608 A 6.4 6.4 0 1 0 100.5254833995939 129.87451660040608 A 3.2 3.2 0 0 1 102.4 124.8 C 115.2 124.8, 115.2 128.0, 128.0 128.0 C 139.52 128.0, 139.52 132.48, 151.04 132.48 A 4.4799999999999995 4.4799999999999995 0 0 0 153.66432324056854 125.37567675943147 A 8.959999999999999 8.959999999999999 0 1 1 166.33567675943146 125.37567675943147 A 4.4799999999999995 4.4799999999999995 0 0 0 168.96 132.48 C 180.48 132.48, 180.48 128.0, 192.0 128.0 C 203.52 128.0, 203.52 132.48, 215.04 132.48 A 4.4799999999999995 4.4799999999999995 0 0 0 217.66432324056854 125.37567675943147 A 8.959999999999999 8.959999999999999 0 1 1 230.33567675943146 125.37567675943147 A 4.4799999999999995 4.4799999999999995 0 0 0 232.96 132.48 C 244.48 132.48, 244.48 128.0, 256.0 128.0 L 272.0 128.0 M -16.0 192.0 L 0.0 192.0 C 12.8 192.0, 12.8 195.2, 25.6 195.2 A 3.2 3.2 0 0 0 27.474516600406098 190.12548339959392 A 6.4 6.4 0 1 1 36.5254833995939 190.12548339959392 A 3.2 3.2 0 0 0 38.4 195.2 C 51.2 195.2, 51.2 192.0, 64.0 192.0 C 76.8 192.0, 76.8 188.8, 89.6 188.8 A 3.2 3.2 0 0 1 91.4745166004061 193.87451660040608 A 6.4 6.4 0 1 0 100.5254833995939 193.87451660040608 A 3.2 3.2 0 0 1 102.4 188.8 C 115.2 188.8, 115.2 192.0, 128.0 192.0 C 139.52 192.0, 139.52 187.52, 151.04 187.52 A 4.4799999999999995 4.4799999999999995 0 0 1 153.66432324056854 194.62432324056854 A 8.959999999999999 8.959999999999999 0 1 0 166.33567675943146 194.62432324056854 A 4.4799999999999995 4.4799999999999995 0 0 1 168.96 187.52 C 180.48 187.52, 180.48 192.0, 192.0 192.0 C 203.52 192.0, 203.52 196.48, 215.04 196.48 A 4.4799999999999995 4.4799999999999995 0 0 0 217.66432324056854 189.37567675943146 A 8.959999999999999 8.959999999999999 0 1 1 230.33567675943146 189.37567675943146 A 4.4799999999999995 4.4799999999999995 0 0 0 232.96 196.48 C 244.48 196.48, 244.48 192.0, 256.0 192.0 L 272.0 192.0 M -16.0 256.0 L 0.0 256.0 L 64.0 256.0 L 128.0 256.0 L 192.0 256.0 L 256.0 256.0 L 272.0 256.0\"/></g></svg></div>"
      ],
      "text/plain": [
       "<IPython.core.display.HTML object>"
      ]
     },
     "metadata": {},
     "output_type": "display_data"
    }
   ],
   "source": [
    "# Show it\n",
    "display_grid(horizontal_edges, vertical_edges)"
   ]
  },
  {
   "cell_type": "code",
   "execution_count": 19,
   "id": "f6d8d66d",
   "metadata": {},
   "outputs": [],
   "source": [
    "# Keep it for later\n",
    "pieces_4x4_pure = grid_to_pieces(horizontal_edges, vertical_edges, opposite)"
   ]
  },
  {
   "cell_type": "markdown",
   "id": "dfd8fcb0",
   "metadata": {},
   "source": [
    "## 5. 4x4 with more edges"
   ]
  },
  {
   "cell_type": "code",
   "execution_count": 20,
   "id": "ca0a93ab",
   "metadata": {},
   "outputs": [
    {
     "data": {
      "text/html": [
       "<div style=\"padding:1em\"><svg width=\"320\" height=\"320\" xmlns=\"http://www.w3.org/2000/svg\"><g transform=\"translate(32.0 32.0)\"><path fill=\"none\" stroke=\"black\" d=\"M 0.0 -16.0 L 0.0 0.0 L 0.0 64.0 L 0.0 128.0 L 0.0 192.0 L 0.0 256.0 L 0.0 272.0 M 64.0 -16.0 L 64.0 0.0 L 64.0 12.8 M 64.0 25.6 L 64.0 38.4 M 64.0 51.2 L 64.0 64.0 L 64.0 76.8 M 64.0 89.6 L 64.0 102.4 M 64.0 115.2 L 64.0 128.0 L 64.0 140.8 M 64.0 153.6 L 64.0 166.4 M 64.0 179.2 L 64.0 192.0 L 64.0 204.8 M 64.0 217.6 L 64.0 230.4 M 64.0 243.2 L 64.0 256.0 L 64.0 272.0 M 128.0 -16.0 L 128.0 0.0 L 128.0 12.8 M 128.0 25.6 L 128.0 38.4 M 128.0 51.2 L 128.0 64.0 L 128.0 76.8 M 128.0 89.6 L 128.0 102.4 M 128.0 115.2 L 128.0 128.0 L 128.0 140.8 M 128.0 153.6 L 128.0 166.4 M 128.0 179.2 L 128.0 192.0 L 128.0 204.8 M 128.0 217.6 L 128.0 230.4 M 128.0 243.2 L 128.0 256.0 L 128.0 272.0 M 192.0 -16.0 L 192.0 0.0 L 192.0 12.8 M 192.0 25.6 L 192.0 38.4 M 192.0 51.2 L 192.0 64.0 L 192.0 76.8 M 192.0 89.6 L 192.0 102.4 M 192.0 115.2 L 192.0 128.0 L 192.0 140.8 M 192.0 153.6 L 192.0 166.4 M 192.0 179.2 L 192.0 192.0 L 192.0 204.8 M 192.0 217.6 L 192.0 230.4 M 192.0 243.2 L 192.0 256.0 L 192.0 272.0 M 256.0 -16.0 L 256.0 0.0 L 256.0 64.0 L 256.0 128.0 L 256.0 192.0 L 256.0 256.0 L 256.0 272.0 M -16.0 0.0 L 0.0 0.0 L 64.0 0.0 L 128.0 0.0 L 192.0 0.0 L 256.0 0.0 L 272.0 0.0 M -16.0 64.0 L 0.0 64.0 L 12.8 64.0 M 25.6 64.0 L 38.4 64.0 M 51.2 64.0 L 64.0 64.0 L 76.8 64.0 M 89.6 64.0 L 102.4 64.0 M 115.2 64.0 L 128.0 64.0 L 140.8 64.0 M 153.6 64.0 L 166.4 64.0 M 179.2 64.0 L 192.0 64.0 L 204.8 64.0 M 217.6 64.0 L 230.4 64.0 M 243.2 64.0 L 256.0 64.0 L 272.0 64.0 M -16.0 128.0 L 0.0 128.0 L 12.8 128.0 M 25.6 128.0 L 38.4 128.0 M 51.2 128.0 L 64.0 128.0 L 128.0 128.0 L 192.0 128.0 L 204.8 128.0 M 217.6 128.0 L 230.4 128.0 M 243.2 128.0 L 256.0 128.0 L 272.0 128.0 M -16.0 192.0 L 0.0 192.0 L 12.8 192.0 M 25.6 192.0 L 38.4 192.0 M 51.2 192.0 L 64.0 192.0 L 76.8 192.0 M 89.6 192.0 L 102.4 192.0 M 115.2 192.0 L 128.0 192.0 L 140.8 192.0 M 153.6 192.0 L 166.4 192.0 M 179.2 192.0 L 192.0 192.0 L 204.8 192.0 M 217.6 192.0 L 230.4 192.0 M 243.2 192.0 L 256.0 192.0 L 272.0 192.0 M -16.0 256.0 L 0.0 256.0 L 64.0 256.0 L 128.0 256.0 L 192.0 256.0 L 256.0 256.0 L 272.0 256.0\"/></g></svg></div>"
      ],
      "text/plain": [
       "<IPython.core.display.HTML object>"
      ]
     },
     "metadata": {},
     "output_type": "display_data"
    }
   ],
   "source": [
    "# This will be a 4x4 grid\n",
    "H, W = 4, 4\n",
    "horizontal_edges, vertical_edges = sample_random_grid(H, W, np.array([FLAT_ALTERNATIVE]))\n",
    "vertical_edges[2, 1:-1] = FLAT\n",
    "\n",
    "# First, make sure that the overall layout can only be solved one way\n",
    "assert is_unique(horizontal_edges, vertical_edges)\n",
    "\n",
    "# Show it, to illustrate the purpose\n",
    "display_grid(horizontal_edges, vertical_edges)"
   ]
  },
  {
   "cell_type": "code",
   "execution_count": 21,
   "id": "de190120",
   "metadata": {},
   "outputs": [
    {
     "data": {
      "text/plain": [
       "array(['CENTERED_SMALL_MALE', 'CENTERED_SMALL_FEMALE', 'RIGHT_SMALL_MALE',\n",
       "       'RIGHT_SMALL_FEMALE', 'LEFT_SMALL_MALE', 'LEFT_SMALL_FEMALE'],\n",
       "      dtype='<U22')"
      ]
     },
     "execution_count": 21,
     "metadata": {},
     "output_type": "execute_result"
    }
   ],
   "source": [
    "# Choose edge types\n",
    "edge_types = np.array([\n",
    "    CENTERED_SMALL_MALE,\n",
    "    LEFT_SMALL_MALE,\n",
    "])\n",
    "\n",
    "# Automatically expand types to match combinations\n",
    "edge_types = expand_edge_types(edge_types, opposite, flip)\n",
    "\n",
    "# Show actual types\n",
    "edge_names[edge_types]"
   ]
  },
  {
   "cell_type": "code",
   "execution_count": 22,
   "id": "64072a40",
   "metadata": {},
   "outputs": [
    {
     "name": "stderr",
     "output_type": "stream",
     "text": [
      "6it [00:00, 111.11it/s]\n"
     ]
    }
   ],
   "source": [
    "# Generate grid\n",
    "H, W = 4, 4\n",
    "generator = np.random.default_rng(78125)\n",
    "def sampler():\n",
    "    horizontal_edges, vertical_edges = sample_random_grid(H, W, edge_types, generator=generator)\n",
    "    \n",
    "    # Add an horizontal split, so that the inner pieces are also edge pieces\n",
    "    vertical_edges[2, 1:-1] = FLAT\n",
    "    \n",
    "    # Force the two \"internal\" edge pairs to have double pins\n",
    "    horizontal_edges[1:-1, 2] = DOUBLE_SMALL_MALE\n",
    "    \n",
    "    # Force one end of these \"pairs\" to have female centered pins\n",
    "    horizontal_edges[1:-1, 1] = CENTERED_SMALL_FEMALE\n",
    "    \n",
    "    # And then force corners to not provide any male centered pins\n",
    "    # Therefore, these \"pairs\" cannot be connected to a corner\n",
    "    horizontal_edges[[0, 3], 1] = generator.choice([CENTERED_SMALL_MALE, LEFT_SMALL_MALE, LEFT_SMALL_FEMALE, RIGHT_SMALL_MALE, RIGHT_SMALL_FEMALE], size=2)\n",
    "    horizontal_edges[[0, 3], 3] = generator.choice([CENTERED_SMALL_FEMALE, LEFT_SMALL_MALE, LEFT_SMALL_FEMALE, RIGHT_SMALL_MALE, RIGHT_SMALL_FEMALE], size=2)\n",
    "    vertical_edges[1, [0, 3]] = generator.choice([CENTERED_SMALL_FEMALE, LEFT_SMALL_MALE, LEFT_SMALL_FEMALE, RIGHT_SMALL_MALE, RIGHT_SMALL_FEMALE], size=2)\n",
    "    vertical_edges[3, [0, 3]] = generator.choice([CENTERED_SMALL_MALE, LEFT_SMALL_MALE, LEFT_SMALL_FEMALE, RIGHT_SMALL_MALE, RIGHT_SMALL_FEMALE], size=2)\n",
    "    \n",
    "    return horizontal_edges, vertical_edges\n",
    "horizontal_edges, vertical_edges = search(sampler, has_unique_pieces, is_unique)"
   ]
  },
  {
   "cell_type": "code",
   "execution_count": 23,
   "id": "e40e9533",
   "metadata": {},
   "outputs": [
    {
     "data": {
      "text/html": [
       "<div style=\"padding:1em\"><svg width=\"320\" height=\"320\" xmlns=\"http://www.w3.org/2000/svg\"><g transform=\"translate(32.0 32.0)\"><path fill=\"none\" stroke=\"black\" d=\"M 0.0 -16.0 L 0.0 0.0 L 0.0 64.0 L 0.0 128.0 L 0.0 192.0 L 0.0 256.0 L 0.0 272.0 M 64.0 -16.0 L 64.0 0.0 C 64.0 7.999999999999999, 60.8 7.999999999999999, 60.8 15.999999999999998 A 3.2 3.2 0 0 0 65.8745166004061 17.874516600406096 A 6.4 6.4 0 1 1 65.8745166004061 26.9254833995939 A 3.2 3.2 0 0 0 60.8 28.799999999999997 C 60.8 46.400000000000006, 64.0 46.400000000000006, 64.0 64.0 C 64.0 76.8, 60.8 76.8, 60.8 89.6 A 3.2 3.2 0 0 0 65.8745166004061 91.4745166004061 A 6.4 6.4 0 1 1 65.8745166004061 100.5254833995939 A 3.2 3.2 0 0 0 60.8 102.4 C 60.8 115.2, 64.0 115.2, 64.0 128.0 C 64.0 140.8, 60.8 140.8, 60.8 153.6 A 3.2 3.2 0 0 0 65.8745166004061 155.4745166004061 A 6.4 6.4 0 1 1 65.8745166004061 164.5254833995939 A 3.2 3.2 0 0 0 60.8 166.4 C 60.8 179.2, 64.0 179.2, 64.0 192.0 C 64.0 200.0, 67.2 200.0, 67.2 208.0 A 3.2 3.2 0 0 1 62.125483399593904 209.87451660040608 A 6.4 6.4 0 1 0 62.125483399593904 218.9254833995939 A 3.2 3.2 0 0 1 67.2 220.8 C 67.2 238.4, 64.0 238.4, 64.0 256.0 L 64.0 272.0 M 128.0 -16.0 L 128.0 0.0 C 128.0 17.6, 131.2 17.6, 131.2 35.2 A 3.2 3.2 0 0 1 126.1254833995939 37.0745166004061 A 6.4 6.4 0 1 0 126.1254833995939 46.125483399593904 A 3.2 3.2 0 0 1 131.2 48.0 C 131.2 56.0, 128.0 56.0, 128.0 64.0 C 128.0 72.0, 131.2 72.0, 131.2 80.0 A 3.2 3.2 0 0 1 126.1254833995939 81.8745166004061 A 6.4 6.4 0 1 0 126.1254833995939 90.9254833995939 A 3.2 3.2 0 0 1 131.2 92.8 L 131.2 99.2 A 3.2 3.2 0 0 1 126.1254833995939 101.0745166004061 A 6.4 6.4 0 1 0 126.1254833995939 110.1254833995939 A 3.2 3.2 0 0 1 131.2 112.0 C 131.2 120.0, 128.0 120.0, 128.0 128.0 C 128.0 136.0, 131.2 136.0, 131.2 144.0 A 3.2 3.2 0 0 1 126.1254833995939 145.87451660040608 A 6.4 6.4 0 1 0 126.1254833995939 154.9254833995939 A 3.2 3.2 0 0 1 131.2 156.8 L 131.2 163.2 A 3.2 3.2 0 0 1 126.1254833995939 165.0745166004061 A 6.4 6.4 0 1 0 126.1254833995939 174.12548339959392 A 3.2 3.2 0 0 1 131.2 176.0 C 131.2 184.0, 128.0 184.0, 128.0 192.0 C 128.0 209.6, 124.8 209.6, 124.8 227.2 A 3.2 3.2 0 0 0 129.87451660040608 229.0745166004061 A 6.4 6.4 0 1 1 129.87451660040608 238.12548339959392 A 3.2 3.2 0 0 0 124.8 240.0 C 124.8 248.0, 128.0 248.0, 128.0 256.0 L 128.0 272.0 M 192.0 -16.0 L 192.0 0.0 C 192.0 17.6, 188.8 17.6, 188.8 35.2 A 3.2 3.2 0 0 0 193.87451660040608 37.0745166004061 A 6.4 6.4 0 1 1 193.87451660040608 46.125483399593904 A 3.2 3.2 0 0 0 188.8 48.0 C 188.8 56.0, 192.0 56.0, 192.0 64.0 C 192.0 72.0, 188.8 72.0, 188.8 80.0 A 3.2 3.2 0 0 0 193.87451660040608 81.8745166004061 A 6.4 6.4 0 1 1 193.87451660040608 90.9254833995939 A 3.2 3.2 0 0 0 188.8 92.8 C 188.8 110.4, 192.0 110.4, 192.0 128.0 C 192.0 145.6, 188.8 145.6, 188.8 163.2 A 3.2 3.2 0 0 0 193.87451660040608 165.0745166004061 A 6.4 6.4 0 1 1 193.87451660040608 174.12548339959392 A 3.2 3.2 0 0 0 188.8 176.0 C 188.8 184.0, 192.0 184.0, 192.0 192.0 C 192.0 209.6, 188.8 209.6, 188.8 227.2 A 3.2 3.2 0 0 0 193.87451660040608 229.0745166004061 A 6.4 6.4 0 1 1 193.87451660040608 238.12548339959392 A 3.2 3.2 0 0 0 188.8 240.0 C 188.8 248.0, 192.0 248.0, 192.0 256.0 L 192.0 272.0 M 256.0 -16.0 L 256.0 0.0 L 256.0 64.0 L 256.0 128.0 L 256.0 192.0 L 256.0 256.0 L 256.0 272.0 M -16.0 0.0 L 0.0 0.0 L 64.0 0.0 L 128.0 0.0 L 192.0 0.0 L 256.0 0.0 L 272.0 0.0 M -16.0 64.0 L 0.0 64.0 C 17.6 64.0, 17.6 60.8, 35.2 60.8 A 3.2 3.2 0 0 1 37.0745166004061 65.8745166004061 A 6.4 6.4 0 1 0 46.125483399593904 65.8745166004061 A 3.2 3.2 0 0 1 48.0 60.8 C 56.0 60.8, 56.0 64.0, 64.0 64.0 C 81.6 64.0, 81.6 67.2, 99.2 67.2 A 3.2 3.2 0 0 0 101.0745166004061 62.125483399593904 A 6.4 6.4 0 1 1 110.1254833995939 62.125483399593904 A 3.2 3.2 0 0 0 112.0 67.2 C 120.0 67.2, 120.0 64.0, 128.0 64.0 C 136.0 64.0, 136.0 67.2, 144.0 67.2 A 3.2 3.2 0 0 0 145.87451660040608 62.125483399593904 A 6.4 6.4 0 1 1 154.9254833995939 62.125483399593904 A 3.2 3.2 0 0 0 156.8 67.2 C 174.4 67.2, 174.4 64.0, 192.0 64.0 C 209.6 64.0, 209.6 60.8, 227.2 60.8 A 3.2 3.2 0 0 1 229.0745166004061 65.8745166004061 A 6.4 6.4 0 1 0 238.12548339959392 65.8745166004061 A 3.2 3.2 0 0 1 240.0 60.8 C 248.0 60.8, 248.0 64.0, 256.0 64.0 L 272.0 64.0 M -16.0 128.0 L 0.0 128.0 C 12.8 128.0, 12.8 131.2, 25.6 131.2 A 3.2 3.2 0 0 0 27.474516600406098 126.1254833995939 A 6.4 6.4 0 1 1 36.5254833995939 126.1254833995939 A 3.2 3.2 0 0 0 38.4 131.2 C 51.2 131.2, 51.2 128.0, 64.0 128.0 L 128.0 128.0 L 192.0 128.0 C 209.6 128.0, 209.6 131.2, 227.2 131.2 A 3.2 3.2 0 0 0 229.0745166004061 126.1254833995939 A 6.4 6.4 0 1 1 238.12548339959392 126.1254833995939 A 3.2 3.2 0 0 0 240.0 131.2 C 248.0 131.2, 248.0 128.0, 256.0 128.0 L 272.0 128.0 M -16.0 192.0 L 0.0 192.0 C 12.8 192.0, 12.8 188.8, 25.6 188.8 A 3.2 3.2 0 0 1 27.474516600406098 193.87451660040608 A 6.4 6.4 0 1 0 36.5254833995939 193.87451660040608 A 3.2 3.2 0 0 1 38.4 188.8 C 51.2 188.8, 51.2 192.0, 64.0 192.0 C 76.8 192.0, 76.8 188.8, 89.6 188.8 A 3.2 3.2 0 0 1 91.4745166004061 193.87451660040608 A 6.4 6.4 0 1 0 100.5254833995939 193.87451660040608 A 3.2 3.2 0 0 1 102.4 188.8 C 115.2 188.8, 115.2 192.0, 128.0 192.0 C 140.8 192.0, 140.8 188.8, 153.6 188.8 A 3.2 3.2 0 0 1 155.4745166004061 193.87451660040608 A 6.4 6.4 0 1 0 164.5254833995939 193.87451660040608 A 3.2 3.2 0 0 1 166.4 188.8 C 179.2 188.8, 179.2 192.0, 192.0 192.0 C 200.0 192.0, 200.0 188.8, 208.0 188.8 A 3.2 3.2 0 0 1 209.87451660040608 193.87451660040608 A 6.4 6.4 0 1 0 218.9254833995939 193.87451660040608 A 3.2 3.2 0 0 1 220.8 188.8 C 238.4 188.8, 238.4 192.0, 256.0 192.0 L 272.0 192.0 M -16.0 256.0 L 0.0 256.0 L 64.0 256.0 L 128.0 256.0 L 192.0 256.0 L 256.0 256.0 L 272.0 256.0\"/></g></svg></div>"
      ],
      "text/plain": [
       "<IPython.core.display.HTML object>"
      ]
     },
     "metadata": {},
     "output_type": "display_data"
    }
   ],
   "source": [
    "# Show it\n",
    "display_grid(horizontal_edges, vertical_edges)"
   ]
  },
  {
   "cell_type": "code",
   "execution_count": 24,
   "id": "01d1fe55",
   "metadata": {},
   "outputs": [],
   "source": [
    "# Keep it for later\n",
    "pieces_4x4_edge = grid_to_pieces(horizontal_edges, vertical_edges, opposite)"
   ]
  },
  {
   "cell_type": "markdown",
   "id": "983675dd",
   "metadata": {},
   "source": [
    "## 6. 4x4 with 6 corners"
   ]
  },
  {
   "cell_type": "code",
   "execution_count": 25,
   "id": "e6f8fca9",
   "metadata": {},
   "outputs": [
    {
     "data": {
      "text/html": [
       "<div style=\"padding:1em\"><svg width=\"320\" height=\"320\" xmlns=\"http://www.w3.org/2000/svg\"><g transform=\"translate(32.0 32.0)\"><path fill=\"none\" stroke=\"black\" d=\"M 0.0 -16.0 L 0.0 0.0 L 0.0 64.0 L 0.0 128.0 L 0.0 192.0 L 0.0 256.0 L 0.0 272.0 M 64.0 -16.0 L 64.0 0.0 L 64.0 12.8 M 64.0 25.6 L 64.0 38.4 M 64.0 51.2 L 64.0 64.0 L 64.0 76.8 M 64.0 89.6 L 64.0 102.4 M 64.0 115.2 L 64.0 128.0 L 64.0 140.8 M 64.0 153.6 L 64.0 166.4 M 64.0 179.2 L 64.0 192.0 L 64.0 204.8 M 64.0 217.6 L 64.0 230.4 M 64.0 243.2 L 64.0 256.0 L 64.0 272.0 M 128.0 -16.0 L 128.0 0.0 L 128.0 64.0 L 128.0 76.8 M 128.0 89.6 L 128.0 102.4 M 128.0 115.2 L 128.0 128.0 L 128.0 140.8 M 128.0 153.6 L 128.0 166.4 M 128.0 179.2 L 128.0 192.0 L 128.0 204.8 M 128.0 217.6 L 128.0 230.4 M 128.0 243.2 L 128.0 256.0 L 128.0 272.0 M 192.0 -16.0 L 192.0 0.0 L 192.0 12.8 M 192.0 25.6 L 192.0 38.4 M 192.0 51.2 L 192.0 64.0 L 192.0 76.8 M 192.0 89.6 L 192.0 102.4 M 192.0 115.2 L 192.0 128.0 L 192.0 140.8 M 192.0 153.6 L 192.0 166.4 M 192.0 179.2 L 192.0 192.0 L 192.0 204.8 M 192.0 217.6 L 192.0 230.4 M 192.0 243.2 L 192.0 256.0 L 192.0 272.0 M 256.0 -16.0 L 256.0 0.0 L 256.0 64.0 L 256.0 128.0 L 256.0 192.0 L 256.0 256.0 L 256.0 272.0 M -16.0 0.0 L 0.0 0.0 L 64.0 0.0 L 128.0 0.0 L 192.0 0.0 L 256.0 0.0 L 272.0 0.0 M -16.0 64.0 L 0.0 64.0 L 12.8 64.0 M 25.6 64.0 L 38.4 64.0 M 51.2 64.0 L 64.0 64.0 L 76.8 64.0 M 89.6 64.0 L 102.4 64.0 M 115.2 64.0 L 128.0 64.0 L 140.8 64.0 M 153.6 64.0 L 166.4 64.0 M 179.2 64.0 L 192.0 64.0 L 204.8 64.0 M 217.6 64.0 L 230.4 64.0 M 243.2 64.0 L 256.0 64.0 L 272.0 64.0 M -16.0 128.0 L 0.0 128.0 L 12.8 128.0 M 25.6 128.0 L 38.4 128.0 M 51.2 128.0 L 64.0 128.0 L 76.8 128.0 M 89.6 128.0 L 102.4 128.0 M 115.2 128.0 L 128.0 128.0 L 140.8 128.0 M 153.6 128.0 L 166.4 128.0 M 179.2 128.0 L 192.0 128.0 L 204.8 128.0 M 217.6 128.0 L 230.4 128.0 M 243.2 128.0 L 256.0 128.0 L 272.0 128.0 M -16.0 192.0 L 0.0 192.0 L 12.8 192.0 M 25.6 192.0 L 38.4 192.0 M 51.2 192.0 L 64.0 192.0 L 76.8 192.0 M 89.6 192.0 L 102.4 192.0 M 115.2 192.0 L 128.0 192.0 L 140.8 192.0 M 153.6 192.0 L 166.4 192.0 M 179.2 192.0 L 192.0 192.0 L 204.8 192.0 M 217.6 192.0 L 230.4 192.0 M 243.2 192.0 L 256.0 192.0 L 272.0 192.0 M -16.0 256.0 L 0.0 256.0 L 64.0 256.0 L 128.0 256.0 L 192.0 256.0 L 256.0 256.0 L 272.0 256.0\"/></g></svg></div>"
      ],
      "text/plain": [
       "<IPython.core.display.HTML object>"
      ]
     },
     "metadata": {},
     "output_type": "display_data"
    }
   ],
   "source": [
    "# This will be a 4x4 grid\n",
    "H, W = 4, 4\n",
    "horizontal_edges, vertical_edges = sample_random_grid(H, W, np.array([FLAT_ALTERNATIVE]))\n",
    "horizontal_edges[0, 2] = FLAT\n",
    "\n",
    "# First, make sure that the overall layout can only be solved one way\n",
    "assert is_unique(horizontal_edges, vertical_edges)\n",
    "\n",
    "# Show it, to illustrate the purpose\n",
    "display_grid(horizontal_edges, vertical_edges)"
   ]
  },
  {
   "cell_type": "code",
   "execution_count": 26,
   "id": "2485621e",
   "metadata": {},
   "outputs": [
    {
     "data": {
      "text/plain": [
       "array(['CENTERED_SMALL_MALE', 'CENTERED_SMALL_FEMALE', 'RIGHT_SMALL_MALE',\n",
       "       'RIGHT_SMALL_FEMALE', 'LEFT_SMALL_MALE', 'LEFT_SMALL_FEMALE'],\n",
       "      dtype='<U22')"
      ]
     },
     "execution_count": 26,
     "metadata": {},
     "output_type": "execute_result"
    }
   ],
   "source": [
    "# Choose edge types\n",
    "edge_types = np.array([\n",
    "    CENTERED_SMALL_MALE,\n",
    "    LEFT_SMALL_MALE,\n",
    "])\n",
    "\n",
    "# Automatically expand types to match combinations\n",
    "edge_types = expand_edge_types(edge_types, opposite, flip)\n",
    "\n",
    "# Show actual types\n",
    "edge_names[edge_types]"
   ]
  },
  {
   "cell_type": "code",
   "execution_count": 27,
   "id": "2343e585",
   "metadata": {},
   "outputs": [
    {
     "name": "stderr",
     "output_type": "stream",
     "text": [
      "3it [00:00, 136.41it/s]\n"
     ]
    }
   ],
   "source": [
    "# Generate grid\n",
    "H, W = 4, 4\n",
    "generator = np.random.default_rng(78125)\n",
    "def sampler():\n",
    "    horizontal_edges, vertical_edges = sample_random_grid(H, W, edge_types, generator=generator)\n",
    "    \n",
    "    # Add a single flat edge, so that the top edge pieces become corners\n",
    "    horizontal_edges[0, 2] = FLAT\n",
    "    \n",
    "    # Add some double pins, in such a way that there cannot be ambiguity\n",
    "    # Pairs can be easily identified (but not necessarily orientation)\n",
    "    horizontal_edges[3, 1] = DOUBLE_SMALL_MALE\n",
    "    vertical_edges[1, 1] = DOUBLE_SMALL_MALE\n",
    "    vertical_edges[3, 2] = DOUBLE_SMALL_MALE\n",
    "    \n",
    "    return horizontal_edges, vertical_edges\n",
    "horizontal_edges, vertical_edges = search(sampler, has_unique_pieces, is_unique)"
   ]
  },
  {
   "cell_type": "code",
   "execution_count": 28,
   "id": "50ea09fa",
   "metadata": {},
   "outputs": [
    {
     "data": {
      "text/html": [
       "<div style=\"padding:1em\"><svg width=\"320\" height=\"320\" xmlns=\"http://www.w3.org/2000/svg\"><g transform=\"translate(32.0 32.0)\"><path fill=\"none\" stroke=\"black\" d=\"M 0.0 -16.0 L 0.0 0.0 L 0.0 64.0 L 0.0 128.0 L 0.0 192.0 L 0.0 256.0 L 0.0 272.0 M 64.0 -16.0 L 64.0 0.0 C 64.0 17.6, 67.2 17.6, 67.2 35.2 A 3.2 3.2 0 0 1 62.125483399593904 37.0745166004061 A 6.4 6.4 0 1 0 62.125483399593904 46.125483399593904 A 3.2 3.2 0 0 1 67.2 48.0 C 67.2 56.0, 64.0 56.0, 64.0 64.0 C 64.0 76.8, 60.8 76.8, 60.8 89.6 A 3.2 3.2 0 0 0 65.8745166004061 91.4745166004061 A 6.4 6.4 0 1 1 65.8745166004061 100.5254833995939 A 3.2 3.2 0 0 0 60.8 102.4 C 60.8 115.2, 64.0 115.2, 64.0 128.0 C 64.0 145.6, 60.8 145.6, 60.8 163.2 A 3.2 3.2 0 0 0 65.8745166004061 165.0745166004061 A 6.4 6.4 0 1 1 65.8745166004061 174.12548339959392 A 3.2 3.2 0 0 0 60.8 176.0 C 60.8 184.0, 64.0 184.0, 64.0 192.0 C 64.0 200.0, 67.2 200.0, 67.2 208.0 A 3.2 3.2 0 0 1 62.125483399593904 209.87451660040608 A 6.4 6.4 0 1 0 62.125483399593904 218.9254833995939 A 3.2 3.2 0 0 1 67.2 220.8 L 67.2 227.2 A 3.2 3.2 0 0 1 62.125483399593904 229.0745166004061 A 6.4 6.4 0 1 0 62.125483399593904 238.12548339959392 A 3.2 3.2 0 0 1 67.2 240.0 C 67.2 248.0, 64.0 248.0, 64.0 256.0 L 64.0 272.0 M 128.0 -16.0 L 128.0 0.0 L 128.0 64.0 C 128.0 76.8, 131.2 76.8, 131.2 89.6 A 3.2 3.2 0 0 1 126.1254833995939 91.4745166004061 A 6.4 6.4 0 1 0 126.1254833995939 100.5254833995939 A 3.2 3.2 0 0 1 131.2 102.4 C 131.2 115.2, 128.0 115.2, 128.0 128.0 C 128.0 136.0, 131.2 136.0, 131.2 144.0 A 3.2 3.2 0 0 1 126.1254833995939 145.87451660040608 A 6.4 6.4 0 1 0 126.1254833995939 154.9254833995939 A 3.2 3.2 0 0 1 131.2 156.8 C 131.2 174.4, 128.0 174.4, 128.0 192.0 C 128.0 204.8, 131.2 204.8, 131.2 217.6 A 3.2 3.2 0 0 1 126.1254833995939 219.4745166004061 A 6.4 6.4 0 1 0 126.1254833995939 228.5254833995939 A 3.2 3.2 0 0 1 131.2 230.4 C 131.2 243.2, 128.0 243.2, 128.0 256.0 L 128.0 272.0 M 192.0 -16.0 L 192.0 0.0 C 192.0 7.999999999999999, 195.2 7.999999999999999, 195.2 15.999999999999998 A 3.2 3.2 0 0 1 190.12548339959392 17.874516600406096 A 6.4 6.4 0 1 0 190.12548339959392 26.9254833995939 A 3.2 3.2 0 0 1 195.2 28.799999999999997 C 195.2 46.400000000000006, 192.0 46.400000000000006, 192.0 64.0 C 192.0 76.8, 195.2 76.8, 195.2 89.6 A 3.2 3.2 0 0 1 190.12548339959392 91.4745166004061 A 6.4 6.4 0 1 0 190.12548339959392 100.5254833995939 A 3.2 3.2 0 0 1 195.2 102.4 C 195.2 115.2, 192.0 115.2, 192.0 128.0 C 192.0 145.6, 188.8 145.6, 188.8 163.2 A 3.2 3.2 0 0 0 193.87451660040608 165.0745166004061 A 6.4 6.4 0 1 1 193.87451660040608 174.12548339959392 A 3.2 3.2 0 0 0 188.8 176.0 C 188.8 184.0, 192.0 184.0, 192.0 192.0 C 192.0 200.0, 188.8 200.0, 188.8 208.0 A 3.2 3.2 0 0 0 193.87451660040608 209.87451660040608 A 6.4 6.4 0 1 1 193.87451660040608 218.9254833995939 A 3.2 3.2 0 0 0 188.8 220.8 C 188.8 238.4, 192.0 238.4, 192.0 256.0 L 192.0 272.0 M 256.0 -16.0 L 256.0 0.0 L 256.0 64.0 L 256.0 128.0 L 256.0 192.0 L 256.0 256.0 L 256.0 272.0 M -16.0 0.0 L 0.0 0.0 L 64.0 0.0 L 128.0 0.0 L 192.0 0.0 L 256.0 0.0 L 272.0 0.0 M -16.0 64.0 L 0.0 64.0 C 7.999999999999999 64.0, 7.999999999999999 67.2, 15.999999999999998 67.2 A 3.2 3.2 0 0 0 17.874516600406096 62.125483399593904 A 6.4 6.4 0 1 1 26.9254833995939 62.125483399593904 A 3.2 3.2 0 0 0 28.799999999999997 67.2 C 46.400000000000006 67.2, 46.400000000000006 64.0, 64.0 64.0 C 72.0 64.0, 72.0 60.8, 80.0 60.8 A 3.2 3.2 0 0 1 81.8745166004061 65.8745166004061 A 6.4 6.4 0 1 0 90.9254833995939 65.8745166004061 A 3.2 3.2 0 0 1 92.8 60.8 L 99.2 60.8 A 3.2 3.2 0 0 1 101.0745166004061 65.8745166004061 A 6.4 6.4 0 1 0 110.1254833995939 65.8745166004061 A 3.2 3.2 0 0 1 112.0 60.8 C 120.0 60.8, 120.0 64.0, 128.0 64.0 C 140.8 64.0, 140.8 60.8, 153.6 60.8 A 3.2 3.2 0 0 1 155.4745166004061 65.8745166004061 A 6.4 6.4 0 1 0 164.5254833995939 65.8745166004061 A 3.2 3.2 0 0 1 166.4 60.8 C 179.2 60.8, 179.2 64.0, 192.0 64.0 C 200.0 64.0, 200.0 60.8, 208.0 60.8 A 3.2 3.2 0 0 1 209.87451660040608 65.8745166004061 A 6.4 6.4 0 1 0 218.9254833995939 65.8745166004061 A 3.2 3.2 0 0 1 220.8 60.8 C 238.4 60.8, 238.4 64.0, 256.0 64.0 L 272.0 64.0 M -16.0 128.0 L 0.0 128.0 C 17.6 128.0, 17.6 131.2, 35.2 131.2 A 3.2 3.2 0 0 0 37.0745166004061 126.1254833995939 A 6.4 6.4 0 1 1 46.125483399593904 126.1254833995939 A 3.2 3.2 0 0 0 48.0 131.2 C 56.0 131.2, 56.0 128.0, 64.0 128.0 C 72.0 128.0, 72.0 124.8, 80.0 124.8 A 3.2 3.2 0 0 1 81.8745166004061 129.87451660040608 A 6.4 6.4 0 1 0 90.9254833995939 129.87451660040608 A 3.2 3.2 0 0 1 92.8 124.8 C 110.4 124.8, 110.4 128.0, 128.0 128.0 C 145.6 128.0, 145.6 124.8, 163.2 124.8 A 3.2 3.2 0 0 1 165.0745166004061 129.87451660040608 A 6.4 6.4 0 1 0 174.12548339959392 129.87451660040608 A 3.2 3.2 0 0 1 176.0 124.8 C 184.0 124.8, 184.0 128.0, 192.0 128.0 C 204.8 128.0, 204.8 124.8, 217.6 124.8 A 3.2 3.2 0 0 1 219.4745166004061 129.87451660040608 A 6.4 6.4 0 1 0 228.5254833995939 129.87451660040608 A 3.2 3.2 0 0 1 230.4 124.8 C 243.2 124.8, 243.2 128.0, 256.0 128.0 L 272.0 128.0 M -16.0 192.0 L 0.0 192.0 C 12.8 192.0, 12.8 195.2, 25.6 195.2 A 3.2 3.2 0 0 0 27.474516600406098 190.12548339959392 A 6.4 6.4 0 1 1 36.5254833995939 190.12548339959392 A 3.2 3.2 0 0 0 38.4 195.2 C 51.2 195.2, 51.2 192.0, 64.0 192.0 C 72.0 192.0, 72.0 195.2, 80.0 195.2 A 3.2 3.2 0 0 0 81.8745166004061 190.12548339959392 A 6.4 6.4 0 1 1 90.9254833995939 190.12548339959392 A 3.2 3.2 0 0 0 92.8 195.2 C 110.4 195.2, 110.4 192.0, 128.0 192.0 C 136.0 192.0, 136.0 188.8, 144.0 188.8 A 3.2 3.2 0 0 1 145.87451660040608 193.87451660040608 A 6.4 6.4 0 1 0 154.9254833995939 193.87451660040608 A 3.2 3.2 0 0 1 156.8 188.8 L 163.2 188.8 A 3.2 3.2 0 0 1 165.0745166004061 193.87451660040608 A 6.4 6.4 0 1 0 174.12548339959392 193.87451660040608 A 3.2 3.2 0 0 1 176.0 188.8 C 184.0 188.8, 184.0 192.0, 192.0 192.0 C 204.8 192.0, 204.8 188.8, 217.6 188.8 A 3.2 3.2 0 0 1 219.4745166004061 193.87451660040608 A 6.4 6.4 0 1 0 228.5254833995939 193.87451660040608 A 3.2 3.2 0 0 1 230.4 188.8 C 243.2 188.8, 243.2 192.0, 256.0 192.0 L 272.0 192.0 M -16.0 256.0 L 0.0 256.0 L 64.0 256.0 L 128.0 256.0 L 192.0 256.0 L 256.0 256.0 L 272.0 256.0\"/></g></svg></div>"
      ],
      "text/plain": [
       "<IPython.core.display.HTML object>"
      ]
     },
     "metadata": {},
     "output_type": "display_data"
    }
   ],
   "source": [
    "# Show it\n",
    "display_grid(horizontal_edges, vertical_edges)"
   ]
  },
  {
   "cell_type": "code",
   "execution_count": 29,
   "id": "ef6608ca",
   "metadata": {},
   "outputs": [],
   "source": [
    "# Keep it for later\n",
    "pieces_4x4_6_corners = grid_to_pieces(horizontal_edges, vertical_edges, opposite)"
   ]
  },
  {
   "cell_type": "markdown",
   "id": "3f2c3f33",
   "metadata": {},
   "source": [
    "## 7. 5x5 with nested corners"
   ]
  },
  {
   "cell_type": "code",
   "execution_count": 30,
   "id": "e77137c6",
   "metadata": {},
   "outputs": [
    {
     "data": {
      "text/html": [
       "<div style=\"padding:1em\"><svg width=\"384\" height=\"384\" xmlns=\"http://www.w3.org/2000/svg\"><g transform=\"translate(32.0 32.0)\"><path fill=\"none\" stroke=\"black\" d=\"M 0.0 -16.0 L 0.0 0.0 L 0.0 64.0 L 0.0 128.0 L 0.0 192.0 L 0.0 256.0 L 0.0 320.0 L 0.0 336.0 M 64.0 -16.0 L 64.0 0.0 L 64.0 12.8 M 64.0 25.6 L 64.0 38.4 M 64.0 51.2 L 64.0 64.0 L 64.0 128.0 L 64.0 140.8 M 64.0 153.6 L 64.0 166.4 M 64.0 179.2 L 64.0 192.0 L 64.0 256.0 L 64.0 268.8 M 64.0 281.6 L 64.0 294.4 M 64.0 307.2 L 64.0 320.0 L 64.0 336.0 M 128.0 -16.0 L 128.0 0.0 L 128.0 12.8 M 128.0 25.6 L 128.0 38.4 M 128.0 51.2 L 128.0 64.0 L 128.0 76.8 M 128.0 89.6 L 128.0 102.4 M 128.0 115.2 L 128.0 128.0 L 128.0 140.8 M 128.0 153.6 L 128.0 166.4 M 128.0 179.2 L 128.0 192.0 L 128.0 204.8 M 128.0 217.6 L 128.0 230.4 M 128.0 243.2 L 128.0 256.0 L 128.0 268.8 M 128.0 281.6 L 128.0 294.4 M 128.0 307.2 L 128.0 320.0 L 128.0 336.0 M 192.0 -16.0 L 192.0 0.0 L 192.0 12.8 M 192.0 25.6 L 192.0 38.4 M 192.0 51.2 L 192.0 64.0 L 192.0 76.8 M 192.0 89.6 L 192.0 102.4 M 192.0 115.2 L 192.0 128.0 L 192.0 140.8 M 192.0 153.6 L 192.0 166.4 M 192.0 179.2 L 192.0 192.0 L 192.0 204.8 M 192.0 217.6 L 192.0 230.4 M 192.0 243.2 L 192.0 256.0 L 192.0 268.8 M 192.0 281.6 L 192.0 294.4 M 192.0 307.2 L 192.0 320.0 L 192.0 336.0 M 256.0 -16.0 L 256.0 0.0 L 256.0 12.8 M 256.0 25.6 L 256.0 38.4 M 256.0 51.2 L 256.0 64.0 L 256.0 128.0 L 256.0 140.8 M 256.0 153.6 L 256.0 166.4 M 256.0 179.2 L 256.0 192.0 L 256.0 256.0 L 256.0 268.8 M 256.0 281.6 L 256.0 294.4 M 256.0 307.2 L 256.0 320.0 L 256.0 336.0 M 320.0 -16.0 L 320.0 0.0 L 320.0 64.0 L 320.0 128.0 L 320.0 192.0 L 320.0 256.0 L 320.0 320.0 L 320.0 336.0 M -16.0 0.0 L 0.0 0.0 L 64.0 0.0 L 128.0 0.0 L 192.0 0.0 L 256.0 0.0 L 320.0 0.0 L 336.0 0.0 M -16.0 64.0 L 0.0 64.0 L 12.8 64.0 M 25.6 64.0 L 38.4 64.0 M 51.2 64.0 L 64.0 64.0 L 128.0 64.0 L 140.8 64.0 M 153.6 64.0 L 166.4 64.0 M 179.2 64.0 L 192.0 64.0 L 256.0 64.0 L 268.8 64.0 M 281.6 64.0 L 294.4 64.0 M 307.2 64.0 L 320.0 64.0 L 336.0 64.0 M -16.0 128.0 L 0.0 128.0 L 12.8 128.0 M 25.6 128.0 L 38.4 128.0 M 51.2 128.0 L 64.0 128.0 L 76.8 128.0 M 89.6 128.0 L 102.4 128.0 M 115.2 128.0 L 128.0 128.0 L 140.8 128.0 M 153.6 128.0 L 166.4 128.0 M 179.2 128.0 L 192.0 128.0 L 204.8 128.0 M 217.6 128.0 L 230.4 128.0 M 243.2 128.0 L 256.0 128.0 L 268.8 128.0 M 281.6 128.0 L 294.4 128.0 M 307.2 128.0 L 320.0 128.0 L 336.0 128.0 M -16.0 192.0 L 0.0 192.0 L 12.8 192.0 M 25.6 192.0 L 38.4 192.0 M 51.2 192.0 L 64.0 192.0 L 76.8 192.0 M 89.6 192.0 L 102.4 192.0 M 115.2 192.0 L 128.0 192.0 L 140.8 192.0 M 153.6 192.0 L 166.4 192.0 M 179.2 192.0 L 192.0 192.0 L 204.8 192.0 M 217.6 192.0 L 230.4 192.0 M 243.2 192.0 L 256.0 192.0 L 268.8 192.0 M 281.6 192.0 L 294.4 192.0 M 307.2 192.0 L 320.0 192.0 L 336.0 192.0 M -16.0 256.0 L 0.0 256.0 L 12.8 256.0 M 25.6 256.0 L 38.4 256.0 M 51.2 256.0 L 64.0 256.0 L 128.0 256.0 L 140.8 256.0 M 153.6 256.0 L 166.4 256.0 M 179.2 256.0 L 192.0 256.0 L 256.0 256.0 L 268.8 256.0 M 281.6 256.0 L 294.4 256.0 M 307.2 256.0 L 320.0 256.0 L 336.0 256.0 M -16.0 320.0 L 0.0 320.0 L 64.0 320.0 L 128.0 320.0 L 192.0 320.0 L 256.0 320.0 L 320.0 320.0 L 336.0 320.0\"/></g></svg></div>"
      ],
      "text/plain": [
       "<IPython.core.display.HTML object>"
      ]
     },
     "metadata": {},
     "output_type": "display_data"
    }
   ],
   "source": [
    "# This will be a 5x5 grid, with 4 additional corned inside\n",
    "H, W = 5, 5\n",
    "horizontal_edges, vertical_edges = sample_random_grid(H, W, np.array([FLAT_ALTERNATIVE]))\n",
    "horizontal_edges[[1, 1, 3, 3], [1, 4, 1, 4]] = FLAT\n",
    "vertical_edges[[1, 1, 4, 4], [1, 3, 1, 3]] = FLAT\n",
    "\n",
    "# First, make sure that the overall layout can only be solved one way\n",
    "assert is_unique(horizontal_edges, vertical_edges)\n",
    "\n",
    "# Show it, to illustrate the purpose\n",
    "display_grid(horizontal_edges, vertical_edges)"
   ]
  },
  {
   "cell_type": "code",
   "execution_count": 31,
   "id": "7d4cab88",
   "metadata": {},
   "outputs": [
    {
     "name": "stderr",
     "output_type": "stream",
     "text": [
      "234it [00:06, 35.18it/s]\n"
     ]
    }
   ],
   "source": [
    "# Outer perimeter cannot contain any centered small pin\n",
    "# This makes it easier to identify which corners are inside\n",
    "outer_edge_types = np.array([\n",
    "    LEFT_SMALL_MALE,\n",
    "    LEFT_SMALL_FEMALE,\n",
    "    RIGHT_SMALL_MALE,\n",
    "    RIGHT_SMALL_FEMALE,\n",
    "] * 2 + [\n",
    "    DOUBLE_SMALL_MALE,\n",
    "    DOUBLE_SMALL_FEMALE,\n",
    "    TWISTED_SMALL_MALE,\n",
    "    TWISTED_SMALL_FEMALE,\n",
    "])\n",
    "\n",
    "generator = np.random.default_rng(13746)\n",
    "\n",
    "def sampler():\n",
    "    \n",
    "    # Start with empty (i.e. flat-only) 5x5 grid\n",
    "    H = W = 5\n",
    "    horizontal_edges = np.zeros((H, W + 1), dtype=np.uint8)\n",
    "    vertical_edges = np.zeros((H + 1, W), dtype=np.uint8)\n",
    "    \n",
    "    # Sample outer perimeter\n",
    "    horizontal_edges[[0, 0, 0, 0, 4, 4, 4, 4], [1, 2, 3, 4, 1, 2, 3, 4]] = generator.choice(outer_edge_types, size=8)\n",
    "    vertical_edges[[1, 2, 3, 4, 1, 2, 3, 4], [0, 0, 0, 0, 4, 4, 4, 4]] = generator.choice(outer_edge_types, size=8)\n",
    "    \n",
    "    # Inner area is set to wildcard, for the moment\n",
    "    horizontal_edges[[1, 1, 2, 2, 2, 2, 3, 3], [2, 3, 1, 2, 3, 4, 2, 3]] = FLAT_ALTERNATIVE\n",
    "    vertical_edges[[2, 3, 1, 2, 3, 4, 2, 3], [1, 1, 2, 2, 2, 2, 3, 3]] = FLAT_ALTERNATIVE\n",
    "    \n",
    "    return horizontal_edges, vertical_edges\n",
    "\n",
    "outer_horizontal_edges, outer_vertical_edges = search(sampler, is_unique)"
   ]
  },
  {
   "cell_type": "code",
   "execution_count": 32,
   "id": "8c7b4a98",
   "metadata": {},
   "outputs": [
    {
     "data": {
      "text/html": [
       "<div style=\"padding:1em\"><svg width=\"384\" height=\"384\" xmlns=\"http://www.w3.org/2000/svg\"><g transform=\"translate(32.0 32.0)\"><path fill=\"none\" stroke=\"black\" d=\"M 0.0 -16.0 L 0.0 0.0 L 0.0 64.0 L 0.0 128.0 L 0.0 192.0 L 0.0 256.0 L 0.0 320.0 L 0.0 336.0 M 64.0 -16.0 L 64.0 0.0 C 64.0 7.999999999999999, 67.2 7.999999999999999, 67.2 15.999999999999998 A 3.2 3.2 0 0 1 62.125483399593904 17.874516600406096 A 6.4 6.4 0 1 0 62.125483399593904 26.9254833995939 A 3.2 3.2 0 0 1 67.2 28.799999999999997 C 67.2 46.400000000000006, 64.0 46.400000000000006, 64.0 64.0 L 64.0 128.0 L 64.0 140.8 M 64.0 153.6 L 64.0 166.4 M 64.0 179.2 L 64.0 192.0 L 64.0 256.0 C 64.0 264.0, 67.2 264.0, 67.2 272.0 A 3.2 3.2 0 0 1 62.125483399593904 273.8745166004061 A 6.4 6.4 0 1 0 62.125483399593904 282.9254833995939 A 3.2 3.2 0 0 1 67.2 284.8 L 67.2 291.2 A 3.2 3.2 0 0 1 62.125483399593904 293.0745166004061 A 6.4 6.4 0 1 0 62.125483399593904 302.1254833995939 A 3.2 3.2 0 0 1 67.2 304.0 C 67.2 312.0, 64.0 312.0, 64.0 320.0 L 64.0 336.0 M 128.0 -16.0 L 128.0 0.0 C 128.0 7.999999999999999, 124.8 7.999999999999999, 124.8 15.999999999999998 A 3.2 3.2 0 0 0 129.87451660040608 17.874516600406096 A 6.4 6.4 0 1 1 129.87451660040608 26.9254833995939 A 3.2 3.2 0 0 0 124.8 28.799999999999997 C 124.8 46.400000000000006, 128.0 46.400000000000006, 128.0 64.0 L 128.0 76.8 M 128.0 89.6 L 128.0 102.4 M 128.0 115.2 L 128.0 128.0 L 128.0 140.8 M 128.0 153.6 L 128.0 166.4 M 128.0 179.2 L 128.0 192.0 L 128.0 204.8 M 128.0 217.6 L 128.0 230.4 M 128.0 243.2 L 128.0 256.0 C 128.0 264.0, 124.8 264.0, 124.8 272.0 A 3.2 3.2 0 0 0 129.87451660040608 273.8745166004061 A 6.4 6.4 0 1 1 129.87451660040608 282.9254833995939 A 3.2 3.2 0 0 0 124.8 284.8 L 124.8 291.2 A 3.2 3.2 0 0 0 129.87451660040608 293.0745166004061 A 6.4 6.4 0 1 1 129.87451660040608 302.1254833995939 A 3.2 3.2 0 0 0 124.8 304.0 C 124.8 312.0, 128.0 312.0, 128.0 320.0 L 128.0 336.0 M 192.0 -16.0 L 192.0 0.0 C 192.0 17.6, 195.2 17.6, 195.2 35.2 A 3.2 3.2 0 0 1 190.12548339959392 37.0745166004061 A 6.4 6.4 0 1 0 190.12548339959392 46.125483399593904 A 3.2 3.2 0 0 1 195.2 48.0 C 195.2 56.0, 192.0 56.0, 192.0 64.0 L 192.0 76.8 M 192.0 89.6 L 192.0 102.4 M 192.0 115.2 L 192.0 128.0 L 192.0 140.8 M 192.0 153.6 L 192.0 166.4 M 192.0 179.2 L 192.0 192.0 L 192.0 204.8 M 192.0 217.6 L 192.0 230.4 M 192.0 243.2 L 192.0 256.0 C 192.0 264.0, 195.2 264.0, 195.2 272.0 A 3.2 3.2 0 0 1 190.12548339959392 273.8745166004061 A 6.4 6.4 0 1 0 190.12548339959392 282.9254833995939 A 3.2 3.2 0 0 1 195.2 284.8 C 195.2 288.0, 188.8 288.0, 188.8 291.2 A 3.2 3.2 0 0 0 193.87451660040608 293.0745166004061 A 6.4 6.4 0 1 1 193.87451660040608 302.1254833995939 A 3.2 3.2 0 0 0 188.8 304.0 C 188.8 312.0, 192.0 312.0, 192.0 320.0 L 192.0 336.0 M 256.0 -16.0 L 256.0 0.0 C 256.0 17.6, 252.8 17.6, 252.8 35.2 A 3.2 3.2 0 0 0 257.8745166004061 37.0745166004061 A 6.4 6.4 0 1 1 257.8745166004061 46.125483399593904 A 3.2 3.2 0 0 0 252.8 48.0 C 252.8 56.0, 256.0 56.0, 256.0 64.0 L 256.0 128.0 L 256.0 140.8 M 256.0 153.6 L 256.0 166.4 M 256.0 179.2 L 256.0 192.0 L 256.0 256.0 C 256.0 273.6, 259.2 273.6, 259.2 291.2 A 3.2 3.2 0 0 1 254.12548339959392 293.0745166004061 A 6.4 6.4 0 1 0 254.12548339959392 302.1254833995939 A 3.2 3.2 0 0 1 259.2 304.0 C 259.2 312.0, 256.0 312.0, 256.0 320.0 L 256.0 336.0 M 320.0 -16.0 L 320.0 0.0 L 320.0 64.0 L 320.0 128.0 L 320.0 192.0 L 320.0 256.0 L 320.0 320.0 L 320.0 336.0 M -16.0 0.0 L 0.0 0.0 L 64.0 0.0 L 128.0 0.0 L 192.0 0.0 L 256.0 0.0 L 320.0 0.0 L 336.0 0.0 M -16.0 64.0 L 0.0 64.0 C 17.6 64.0, 17.6 60.8, 35.2 60.8 A 3.2 3.2 0 0 1 37.0745166004061 65.8745166004061 A 6.4 6.4 0 1 0 46.125483399593904 65.8745166004061 A 3.2 3.2 0 0 1 48.0 60.8 C 56.0 60.8, 56.0 64.0, 64.0 64.0 L 128.0 64.0 L 140.8 64.0 M 153.6 64.0 L 166.4 64.0 M 179.2 64.0 L 192.0 64.0 L 256.0 64.0 C 264.0 64.0, 264.0 60.8, 272.0 60.8 A 3.2 3.2 0 0 1 273.8745166004061 65.8745166004061 A 6.4 6.4 0 1 0 282.9254833995939 65.8745166004061 A 3.2 3.2 0 0 1 284.8 60.8 C 288.0 60.8, 288.0 67.2, 291.2 67.2 A 3.2 3.2 0 0 0 293.0745166004061 62.125483399593904 A 6.4 6.4 0 1 1 302.1254833995939 62.125483399593904 A 3.2 3.2 0 0 0 304.0 67.2 C 312.0 67.2, 312.0 64.0, 320.0 64.0 L 336.0 64.0 M -16.0 128.0 L 0.0 128.0 C 7.999999999999999 128.0, 7.999999999999999 131.2, 15.999999999999998 131.2 A 3.2 3.2 0 0 0 17.874516600406096 126.1254833995939 A 6.4 6.4 0 1 1 26.9254833995939 126.1254833995939 A 3.2 3.2 0 0 0 28.799999999999997 131.2 C 46.400000000000006 131.2, 46.400000000000006 128.0, 64.0 128.0 L 76.8 128.0 M 89.6 128.0 L 102.4 128.0 M 115.2 128.0 L 128.0 128.0 L 140.8 128.0 M 153.6 128.0 L 166.4 128.0 M 179.2 128.0 L 192.0 128.0 L 204.8 128.0 M 217.6 128.0 L 230.4 128.0 M 243.2 128.0 L 256.0 128.0 C 264.0 128.0, 264.0 131.2, 272.0 131.2 A 3.2 3.2 0 0 0 273.8745166004061 126.1254833995939 A 6.4 6.4 0 1 1 282.9254833995939 126.1254833995939 A 3.2 3.2 0 0 0 284.8 131.2 L 291.2 131.2 A 3.2 3.2 0 0 0 293.0745166004061 126.1254833995939 A 6.4 6.4 0 1 1 302.1254833995939 126.1254833995939 A 3.2 3.2 0 0 0 304.0 131.2 C 312.0 131.2, 312.0 128.0, 320.0 128.0 L 336.0 128.0 M -16.0 192.0 L 0.0 192.0 C 7.999999999999999 192.0, 7.999999999999999 188.8, 15.999999999999998 188.8 A 3.2 3.2 0 0 1 17.874516600406096 193.87451660040608 A 6.4 6.4 0 1 0 26.9254833995939 193.87451660040608 A 3.2 3.2 0 0 1 28.799999999999997 188.8 C 46.400000000000006 188.8, 46.400000000000006 192.0, 64.0 192.0 L 76.8 192.0 M 89.6 192.0 L 102.4 192.0 M 115.2 192.0 L 128.0 192.0 L 140.8 192.0 M 153.6 192.0 L 166.4 192.0 M 179.2 192.0 L 192.0 192.0 L 204.8 192.0 M 217.6 192.0 L 230.4 192.0 M 243.2 192.0 L 256.0 192.0 C 264.0 192.0, 264.0 188.8, 272.0 188.8 A 3.2 3.2 0 0 1 273.8745166004061 193.87451660040608 A 6.4 6.4 0 1 0 282.9254833995939 193.87451660040608 A 3.2 3.2 0 0 1 284.8 188.8 L 291.2 188.8 A 3.2 3.2 0 0 1 293.0745166004061 193.87451660040608 A 6.4 6.4 0 1 0 302.1254833995939 193.87451660040608 A 3.2 3.2 0 0 1 304.0 188.8 C 312.0 188.8, 312.0 192.0, 320.0 192.0 L 336.0 192.0 M -16.0 256.0 L 0.0 256.0 C 7.999999999999999 256.0, 7.999999999999999 252.8, 15.999999999999998 252.8 A 3.2 3.2 0 0 1 17.874516600406096 257.8745166004061 A 6.4 6.4 0 1 0 26.9254833995939 257.8745166004061 A 3.2 3.2 0 0 1 28.799999999999997 252.8 C 46.400000000000006 252.8, 46.400000000000006 256.0, 64.0 256.0 L 128.0 256.0 L 140.8 256.0 M 153.6 256.0 L 166.4 256.0 M 179.2 256.0 L 192.0 256.0 L 256.0 256.0 C 264.0 256.0, 264.0 252.8, 272.0 252.8 A 3.2 3.2 0 0 1 273.8745166004061 257.8745166004061 A 6.4 6.4 0 1 0 282.9254833995939 257.8745166004061 A 3.2 3.2 0 0 1 284.8 252.8 C 302.4 252.8, 302.4 256.0, 320.0 256.0 L 336.0 256.0 M -16.0 320.0 L 0.0 320.0 L 64.0 320.0 L 128.0 320.0 L 192.0 320.0 L 256.0 320.0 L 320.0 320.0 L 336.0 320.0\"/></g></svg></div>"
      ],
      "text/plain": [
       "<IPython.core.display.HTML object>"
      ]
     },
     "metadata": {},
     "output_type": "display_data"
    }
   ],
   "source": [
    "# Show it\n",
    "display_grid(outer_horizontal_edges, outer_vertical_edges)"
   ]
  },
  {
   "cell_type": "code",
   "execution_count": 33,
   "id": "f143a422",
   "metadata": {},
   "outputs": [
    {
     "name": "stderr",
     "output_type": "stream",
     "text": [
      "8it [00:08,  1.03s/it]\n"
     ]
    }
   ],
   "source": [
    "inner_edge_types = np.array([\n",
    "    CENTERED_SMALL_MALE,\n",
    "    CENTERED_SMALL_FEMALE,\n",
    "    LEFT_SMALL_MALE,\n",
    "    LEFT_SMALL_FEMALE,\n",
    "    RIGHT_SMALL_MALE,\n",
    "    RIGHT_SMALL_FEMALE,\n",
    "] * 4 + [\n",
    "    DOUBLE_SMALL_MALE,\n",
    "    DOUBLE_SMALL_FEMALE,\n",
    "    #TWISTED_SMALL_MALE,\n",
    "    #TWISTED_SMALL_FEMALE,\n",
    "])\n",
    "\n",
    "generator = np.random.default_rng(123)\n",
    "\n",
    "def sampler():\n",
    "    \n",
    "    # Start with selected solution\n",
    "    horizontal_edges = outer_horizontal_edges.copy()\n",
    "    vertical_edges = outer_vertical_edges.copy()\n",
    "    \n",
    "    # Inner can contain twisted pins as well\n",
    "    horizontal_edges[[1, 1, 2, 2, 2, 2, 3, 3], [2, 3, 1, 2, 3, 4, 2, 3]] = generator.choice(inner_edge_types, size=8)\n",
    "    vertical_edges[[2, 3, 1, 2, 3, 4, 2, 3], [1, 1, 2, 2, 2, 2, 3, 3]] = generator.choice(inner_edge_types, size=8)\n",
    "    \n",
    "    # Place centered ones manually, to ensure diversity\n",
    "    horizontal_edges[1, 2] = CENTERED_SMALL_MALE\n",
    "    horizontal_edges[3, 2] = CENTERED_SMALL_MALE\n",
    "    horizontal_edges[3, 3] = CENTERED_SMALL_MALE\n",
    "    vertical_edges[2, 3] = CENTERED_SMALL_FEMALE\n",
    "    vertical_edges[3, 1] = CENTERED_SMALL_FEMALE\n",
    "    vertical_edges[1, 2] = CENTERED_SMALL_FEMALE\n",
    "    \n",
    "    return horizontal_edges, vertical_edges\n",
    "\n",
    "horizontal_edges, vertical_edges = search(sampler, is_unique)"
   ]
  },
  {
   "cell_type": "code",
   "execution_count": 34,
   "id": "d4486522",
   "metadata": {},
   "outputs": [
    {
     "data": {
      "text/html": [
       "<div style=\"padding:1em\"><svg width=\"384\" height=\"384\" xmlns=\"http://www.w3.org/2000/svg\"><g transform=\"translate(32.0 32.0)\"><path fill=\"none\" stroke=\"black\" d=\"M 0.0 -16.0 L 0.0 0.0 L 0.0 64.0 L 0.0 128.0 L 0.0 192.0 L 0.0 256.0 L 0.0 320.0 L 0.0 336.0 M 64.0 -16.0 L 64.0 0.0 C 64.0 7.999999999999999, 67.2 7.999999999999999, 67.2 15.999999999999998 A 3.2 3.2 0 0 1 62.125483399593904 17.874516600406096 A 6.4 6.4 0 1 0 62.125483399593904 26.9254833995939 A 3.2 3.2 0 0 1 67.2 28.799999999999997 C 67.2 46.400000000000006, 64.0 46.400000000000006, 64.0 64.0 L 64.0 128.0 C 64.0 140.8, 60.8 140.8, 60.8 153.6 A 3.2 3.2 0 0 0 65.8745166004061 155.4745166004061 A 6.4 6.4 0 1 1 65.8745166004061 164.5254833995939 A 3.2 3.2 0 0 0 60.8 166.4 C 60.8 179.2, 64.0 179.2, 64.0 192.0 L 64.0 256.0 C 64.0 264.0, 67.2 264.0, 67.2 272.0 A 3.2 3.2 0 0 1 62.125483399593904 273.8745166004061 A 6.4 6.4 0 1 0 62.125483399593904 282.9254833995939 A 3.2 3.2 0 0 1 67.2 284.8 L 67.2 291.2 A 3.2 3.2 0 0 1 62.125483399593904 293.0745166004061 A 6.4 6.4 0 1 0 62.125483399593904 302.1254833995939 A 3.2 3.2 0 0 1 67.2 304.0 C 67.2 312.0, 64.0 312.0, 64.0 320.0 L 64.0 336.0 M 128.0 -16.0 L 128.0 0.0 C 128.0 7.999999999999999, 124.8 7.999999999999999, 124.8 15.999999999999998 A 3.2 3.2 0 0 0 129.87451660040608 17.874516600406096 A 6.4 6.4 0 1 1 129.87451660040608 26.9254833995939 A 3.2 3.2 0 0 0 124.8 28.799999999999997 C 124.8 46.400000000000006, 128.0 46.400000000000006, 128.0 64.0 C 128.0 76.8, 131.2 76.8, 131.2 89.6 A 3.2 3.2 0 0 1 126.1254833995939 91.4745166004061 A 6.4 6.4 0 1 0 126.1254833995939 100.5254833995939 A 3.2 3.2 0 0 1 131.2 102.4 C 131.2 115.2, 128.0 115.2, 128.0 128.0 C 128.0 136.0, 131.2 136.0, 131.2 144.0 A 3.2 3.2 0 0 1 126.1254833995939 145.87451660040608 A 6.4 6.4 0 1 0 126.1254833995939 154.9254833995939 A 3.2 3.2 0 0 1 131.2 156.8 C 131.2 174.4, 128.0 174.4, 128.0 192.0 C 128.0 204.8, 131.2 204.8, 131.2 217.6 A 3.2 3.2 0 0 1 126.1254833995939 219.4745166004061 A 6.4 6.4 0 1 0 126.1254833995939 228.5254833995939 A 3.2 3.2 0 0 1 131.2 230.4 C 131.2 243.2, 128.0 243.2, 128.0 256.0 C 128.0 264.0, 124.8 264.0, 124.8 272.0 A 3.2 3.2 0 0 0 129.87451660040608 273.8745166004061 A 6.4 6.4 0 1 1 129.87451660040608 282.9254833995939 A 3.2 3.2 0 0 0 124.8 284.8 L 124.8 291.2 A 3.2 3.2 0 0 0 129.87451660040608 293.0745166004061 A 6.4 6.4 0 1 1 129.87451660040608 302.1254833995939 A 3.2 3.2 0 0 0 124.8 304.0 C 124.8 312.0, 128.0 312.0, 128.0 320.0 L 128.0 336.0 M 192.0 -16.0 L 192.0 0.0 C 192.0 17.6, 195.2 17.6, 195.2 35.2 A 3.2 3.2 0 0 1 190.12548339959392 37.0745166004061 A 6.4 6.4 0 1 0 190.12548339959392 46.125483399593904 A 3.2 3.2 0 0 1 195.2 48.0 C 195.2 56.0, 192.0 56.0, 192.0 64.0 C 192.0 81.6, 188.8 81.6, 188.8 99.2 A 3.2 3.2 0 0 0 193.87451660040608 101.0745166004061 A 6.4 6.4 0 1 1 193.87451660040608 110.1254833995939 A 3.2 3.2 0 0 0 188.8 112.0 C 188.8 120.0, 192.0 120.0, 192.0 128.0 C 192.0 145.6, 195.2 145.6, 195.2 163.2 A 3.2 3.2 0 0 1 190.12548339959392 165.0745166004061 A 6.4 6.4 0 1 0 190.12548339959392 174.12548339959392 A 3.2 3.2 0 0 1 195.2 176.0 C 195.2 184.0, 192.0 184.0, 192.0 192.0 C 192.0 204.8, 195.2 204.8, 195.2 217.6 A 3.2 3.2 0 0 1 190.12548339959392 219.4745166004061 A 6.4 6.4 0 1 0 190.12548339959392 228.5254833995939 A 3.2 3.2 0 0 1 195.2 230.4 C 195.2 243.2, 192.0 243.2, 192.0 256.0 C 192.0 264.0, 195.2 264.0, 195.2 272.0 A 3.2 3.2 0 0 1 190.12548339959392 273.8745166004061 A 6.4 6.4 0 1 0 190.12548339959392 282.9254833995939 A 3.2 3.2 0 0 1 195.2 284.8 C 195.2 288.0, 188.8 288.0, 188.8 291.2 A 3.2 3.2 0 0 0 193.87451660040608 293.0745166004061 A 6.4 6.4 0 1 1 193.87451660040608 302.1254833995939 A 3.2 3.2 0 0 0 188.8 304.0 C 188.8 312.0, 192.0 312.0, 192.0 320.0 L 192.0 336.0 M 256.0 -16.0 L 256.0 0.0 C 256.0 17.6, 252.8 17.6, 252.8 35.2 A 3.2 3.2 0 0 0 257.8745166004061 37.0745166004061 A 6.4 6.4 0 1 1 257.8745166004061 46.125483399593904 A 3.2 3.2 0 0 0 252.8 48.0 C 252.8 56.0, 256.0 56.0, 256.0 64.0 L 256.0 128.0 C 256.0 140.8, 259.2 140.8, 259.2 153.6 A 3.2 3.2 0 0 1 254.12548339959392 155.4745166004061 A 6.4 6.4 0 1 0 254.12548339959392 164.5254833995939 A 3.2 3.2 0 0 1 259.2 166.4 C 259.2 179.2, 256.0 179.2, 256.0 192.0 L 256.0 256.0 C 256.0 273.6, 259.2 273.6, 259.2 291.2 A 3.2 3.2 0 0 1 254.12548339959392 293.0745166004061 A 6.4 6.4 0 1 0 254.12548339959392 302.1254833995939 A 3.2 3.2 0 0 1 259.2 304.0 C 259.2 312.0, 256.0 312.0, 256.0 320.0 L 256.0 336.0 M 320.0 -16.0 L 320.0 0.0 L 320.0 64.0 L 320.0 128.0 L 320.0 192.0 L 320.0 256.0 L 320.0 320.0 L 320.0 336.0 M -16.0 0.0 L 0.0 0.0 L 64.0 0.0 L 128.0 0.0 L 192.0 0.0 L 256.0 0.0 L 320.0 0.0 L 336.0 0.0 M -16.0 64.0 L 0.0 64.0 C 17.6 64.0, 17.6 60.8, 35.2 60.8 A 3.2 3.2 0 0 1 37.0745166004061 65.8745166004061 A 6.4 6.4 0 1 0 46.125483399593904 65.8745166004061 A 3.2 3.2 0 0 1 48.0 60.8 C 56.0 60.8, 56.0 64.0, 64.0 64.0 L 128.0 64.0 C 140.8 64.0, 140.8 67.2, 153.6 67.2 A 3.2 3.2 0 0 0 155.4745166004061 62.125483399593904 A 6.4 6.4 0 1 1 164.5254833995939 62.125483399593904 A 3.2 3.2 0 0 0 166.4 67.2 C 179.2 67.2, 179.2 64.0, 192.0 64.0 L 256.0 64.0 C 264.0 64.0, 264.0 60.8, 272.0 60.8 A 3.2 3.2 0 0 1 273.8745166004061 65.8745166004061 A 6.4 6.4 0 1 0 282.9254833995939 65.8745166004061 A 3.2 3.2 0 0 1 284.8 60.8 C 288.0 60.8, 288.0 67.2, 291.2 67.2 A 3.2 3.2 0 0 0 293.0745166004061 62.125483399593904 A 6.4 6.4 0 1 1 302.1254833995939 62.125483399593904 A 3.2 3.2 0 0 0 304.0 67.2 C 312.0 67.2, 312.0 64.0, 320.0 64.0 L 336.0 64.0 M -16.0 128.0 L 0.0 128.0 C 7.999999999999999 128.0, 7.999999999999999 131.2, 15.999999999999998 131.2 A 3.2 3.2 0 0 0 17.874516600406096 126.1254833995939 A 6.4 6.4 0 1 1 26.9254833995939 126.1254833995939 A 3.2 3.2 0 0 0 28.799999999999997 131.2 C 46.400000000000006 131.2, 46.400000000000006 128.0, 64.0 128.0 C 81.6 128.0, 81.6 124.8, 99.2 124.8 A 3.2 3.2 0 0 1 101.0745166004061 129.87451660040608 A 6.4 6.4 0 1 0 110.1254833995939 129.87451660040608 A 3.2 3.2 0 0 1 112.0 124.8 C 120.0 124.8, 120.0 128.0, 128.0 128.0 C 140.8 128.0, 140.8 131.2, 153.6 131.2 A 3.2 3.2 0 0 0 155.4745166004061 126.1254833995939 A 6.4 6.4 0 1 1 164.5254833995939 126.1254833995939 A 3.2 3.2 0 0 0 166.4 131.2 C 179.2 131.2, 179.2 128.0, 192.0 128.0 C 204.8 128.0, 204.8 131.2, 217.6 131.2 A 3.2 3.2 0 0 0 219.4745166004061 126.1254833995939 A 6.4 6.4 0 1 1 228.5254833995939 126.1254833995939 A 3.2 3.2 0 0 0 230.4 131.2 C 243.2 131.2, 243.2 128.0, 256.0 128.0 C 264.0 128.0, 264.0 131.2, 272.0 131.2 A 3.2 3.2 0 0 0 273.8745166004061 126.1254833995939 A 6.4 6.4 0 1 1 282.9254833995939 126.1254833995939 A 3.2 3.2 0 0 0 284.8 131.2 L 291.2 131.2 A 3.2 3.2 0 0 0 293.0745166004061 126.1254833995939 A 6.4 6.4 0 1 1 302.1254833995939 126.1254833995939 A 3.2 3.2 0 0 0 304.0 131.2 C 312.0 131.2, 312.0 128.0, 320.0 128.0 L 336.0 128.0 M -16.0 192.0 L 0.0 192.0 C 7.999999999999999 192.0, 7.999999999999999 188.8, 15.999999999999998 188.8 A 3.2 3.2 0 0 1 17.874516600406096 193.87451660040608 A 6.4 6.4 0 1 0 26.9254833995939 193.87451660040608 A 3.2 3.2 0 0 1 28.799999999999997 188.8 C 46.400000000000006 188.8, 46.400000000000006 192.0, 64.0 192.0 C 76.8 192.0, 76.8 195.2, 89.6 195.2 A 3.2 3.2 0 0 0 91.4745166004061 190.12548339959392 A 6.4 6.4 0 1 1 100.5254833995939 190.12548339959392 A 3.2 3.2 0 0 0 102.4 195.2 C 115.2 195.2, 115.2 192.0, 128.0 192.0 C 136.0 192.0, 136.0 188.8, 144.0 188.8 A 3.2 3.2 0 0 1 145.87451660040608 193.87451660040608 A 6.4 6.4 0 1 0 154.9254833995939 193.87451660040608 A 3.2 3.2 0 0 1 156.8 188.8 C 174.4 188.8, 174.4 192.0, 192.0 192.0 C 200.0 192.0, 200.0 195.2, 208.0 195.2 A 3.2 3.2 0 0 0 209.87451660040608 190.12548339959392 A 6.4 6.4 0 1 1 218.9254833995939 190.12548339959392 A 3.2 3.2 0 0 0 220.8 195.2 C 238.4 195.2, 238.4 192.0, 256.0 192.0 C 264.0 192.0, 264.0 188.8, 272.0 188.8 A 3.2 3.2 0 0 1 273.8745166004061 193.87451660040608 A 6.4 6.4 0 1 0 282.9254833995939 193.87451660040608 A 3.2 3.2 0 0 1 284.8 188.8 L 291.2 188.8 A 3.2 3.2 0 0 1 293.0745166004061 193.87451660040608 A 6.4 6.4 0 1 0 302.1254833995939 193.87451660040608 A 3.2 3.2 0 0 1 304.0 188.8 C 312.0 188.8, 312.0 192.0, 320.0 192.0 L 336.0 192.0 M -16.0 256.0 L 0.0 256.0 C 7.999999999999999 256.0, 7.999999999999999 252.8, 15.999999999999998 252.8 A 3.2 3.2 0 0 1 17.874516600406096 257.8745166004061 A 6.4 6.4 0 1 0 26.9254833995939 257.8745166004061 A 3.2 3.2 0 0 1 28.799999999999997 252.8 C 46.400000000000006 252.8, 46.400000000000006 256.0, 64.0 256.0 L 128.0 256.0 C 145.6 256.0, 145.6 252.8, 163.2 252.8 A 3.2 3.2 0 0 1 165.0745166004061 257.8745166004061 A 6.4 6.4 0 1 0 174.12548339959392 257.8745166004061 A 3.2 3.2 0 0 1 176.0 252.8 C 184.0 252.8, 184.0 256.0, 192.0 256.0 L 256.0 256.0 C 264.0 256.0, 264.0 252.8, 272.0 252.8 A 3.2 3.2 0 0 1 273.8745166004061 257.8745166004061 A 6.4 6.4 0 1 0 282.9254833995939 257.8745166004061 A 3.2 3.2 0 0 1 284.8 252.8 C 302.4 252.8, 302.4 256.0, 320.0 256.0 L 336.0 256.0 M -16.0 320.0 L 0.0 320.0 L 64.0 320.0 L 128.0 320.0 L 192.0 320.0 L 256.0 320.0 L 320.0 320.0 L 336.0 320.0\"/></g></svg></div>"
      ],
      "text/plain": [
       "<IPython.core.display.HTML object>"
      ]
     },
     "metadata": {},
     "output_type": "display_data"
    }
   ],
   "source": [
    "# Show it\n",
    "display_grid(horizontal_edges, vertical_edges)"
   ]
  },
  {
   "cell_type": "code",
   "execution_count": 35,
   "id": "f78aab23",
   "metadata": {},
   "outputs": [
    {
     "data": {
      "text/html": [
       "<div style=\"padding:1em\"><svg width=\"256\" height=\"256\" xmlns=\"http://www.w3.org/2000/svg\"><g transform=\"translate(32.0 32.0)\"><path fill=\"none\" stroke=\"black\" d=\"M 0.0 -16.0 L 0.0 0.0 L 0.0 64.0 C 0.0 76.8, -3.2 76.8, -3.2 89.6 A 3.2 3.2 0 0 0 1.8745166004060954 91.4745166004061 A 6.4 6.4 0 1 1 1.8745166004060954 100.5254833995939 A 3.2 3.2 0 0 0 -3.2 102.4 C -3.2 115.2, 0.0 115.2, 0.0 128.0 L 0.0 192.0 L 0.0 208.0 M 64.0 -16.0 L 64.0 0.0 C 64.0 12.8, 67.2 12.8, 67.2 25.6 A 3.2 3.2 0 0 1 62.125483399593904 27.474516600406098 A 6.4 6.4 0 1 0 62.125483399593904 36.5254833995939 A 3.2 3.2 0 0 1 67.2 38.4 C 67.2 51.2, 64.0 51.2, 64.0 64.0 C 64.0 72.0, 67.2 72.0, 67.2 80.0 A 3.2 3.2 0 0 1 62.125483399593904 81.8745166004061 A 6.4 6.4 0 1 0 62.125483399593904 90.9254833995939 A 3.2 3.2 0 0 1 67.2 92.8 C 67.2 110.4, 64.0 110.4, 64.0 128.0 C 64.0 140.8, 67.2 140.8, 67.2 153.6 A 3.2 3.2 0 0 1 62.125483399593904 155.4745166004061 A 6.4 6.4 0 1 0 62.125483399593904 164.5254833995939 A 3.2 3.2 0 0 1 67.2 166.4 C 67.2 179.2, 64.0 179.2, 64.0 192.0 L 64.0 208.0 M 128.0 -16.0 L 128.0 0.0 C 128.0 17.6, 124.8 17.6, 124.8 35.2 A 3.2 3.2 0 0 0 129.87451660040608 37.0745166004061 A 6.4 6.4 0 1 1 129.87451660040608 46.125483399593904 A 3.2 3.2 0 0 0 124.8 48.0 C 124.8 56.0, 128.0 56.0, 128.0 64.0 C 128.0 81.6, 131.2 81.6, 131.2 99.2 A 3.2 3.2 0 0 1 126.1254833995939 101.0745166004061 A 6.4 6.4 0 1 0 126.1254833995939 110.1254833995939 A 3.2 3.2 0 0 1 131.2 112.0 C 131.2 120.0, 128.0 120.0, 128.0 128.0 C 128.0 140.8, 131.2 140.8, 131.2 153.6 A 3.2 3.2 0 0 1 126.1254833995939 155.4745166004061 A 6.4 6.4 0 1 0 126.1254833995939 164.5254833995939 A 3.2 3.2 0 0 1 131.2 166.4 C 131.2 179.2, 128.0 179.2, 128.0 192.0 L 128.0 208.0 M 192.0 -16.0 L 192.0 0.0 L 192.0 64.0 C 192.0 76.8, 195.2 76.8, 195.2 89.6 A 3.2 3.2 0 0 1 190.12548339959392 91.4745166004061 A 6.4 6.4 0 1 0 190.12548339959392 100.5254833995939 A 3.2 3.2 0 0 1 195.2 102.4 C 195.2 115.2, 192.0 115.2, 192.0 128.0 L 192.0 192.0 L 192.0 208.0 M -16.0 0.0 L 0.0 0.0 L 64.0 0.0 C 76.8 0.0, 76.8 3.2, 89.6 3.2 A 3.2 3.2 0 0 0 91.4745166004061 -1.8745166004060954 A 6.4 6.4 0 1 1 100.5254833995939 -1.8745166004060954 A 3.2 3.2 0 0 0 102.4 3.2 C 115.2 3.2, 115.2 0.0, 128.0 0.0 L 192.0 0.0 L 208.0 0.0 M -16.0 64.0 L 0.0 64.0 C 17.6 64.0, 17.6 60.8, 35.2 60.8 A 3.2 3.2 0 0 1 37.0745166004061 65.8745166004061 A 6.4 6.4 0 1 0 46.125483399593904 65.8745166004061 A 3.2 3.2 0 0 1 48.0 60.8 C 56.0 60.8, 56.0 64.0, 64.0 64.0 C 76.8 64.0, 76.8 67.2, 89.6 67.2 A 3.2 3.2 0 0 0 91.4745166004061 62.125483399593904 A 6.4 6.4 0 1 1 100.5254833995939 62.125483399593904 A 3.2 3.2 0 0 0 102.4 67.2 C 115.2 67.2, 115.2 64.0, 128.0 64.0 C 140.8 64.0, 140.8 67.2, 153.6 67.2 A 3.2 3.2 0 0 0 155.4745166004061 62.125483399593904 A 6.4 6.4 0 1 1 164.5254833995939 62.125483399593904 A 3.2 3.2 0 0 0 166.4 67.2 C 179.2 67.2, 179.2 64.0, 192.0 64.0 L 208.0 64.0 M -16.0 128.0 L 0.0 128.0 C 12.8 128.0, 12.8 131.2, 25.6 131.2 A 3.2 3.2 0 0 0 27.474516600406098 126.1254833995939 A 6.4 6.4 0 1 1 36.5254833995939 126.1254833995939 A 3.2 3.2 0 0 0 38.4 131.2 C 51.2 131.2, 51.2 128.0, 64.0 128.0 C 72.0 128.0, 72.0 124.8, 80.0 124.8 A 3.2 3.2 0 0 1 81.8745166004061 129.87451660040608 A 6.4 6.4 0 1 0 90.9254833995939 129.87451660040608 A 3.2 3.2 0 0 1 92.8 124.8 C 110.4 124.8, 110.4 128.0, 128.0 128.0 C 136.0 128.0, 136.0 131.2, 144.0 131.2 A 3.2 3.2 0 0 0 145.87451660040608 126.1254833995939 A 6.4 6.4 0 1 1 154.9254833995939 126.1254833995939 A 3.2 3.2 0 0 0 156.8 131.2 C 174.4 131.2, 174.4 128.0, 192.0 128.0 L 208.0 128.0 M -16.0 192.0 L 0.0 192.0 L 64.0 192.0 C 81.6 192.0, 81.6 188.8, 99.2 188.8 A 3.2 3.2 0 0 1 101.0745166004061 193.87451660040608 A 6.4 6.4 0 1 0 110.1254833995939 193.87451660040608 A 3.2 3.2 0 0 1 112.0 188.8 C 120.0 188.8, 120.0 192.0, 128.0 192.0 L 192.0 192.0 L 208.0 192.0\"/></g></svg></div>"
      ],
      "text/plain": [
       "<IPython.core.display.HTML object>"
      ]
     },
     "metadata": {},
     "output_type": "display_data"
    }
   ],
   "source": [
    "# Focus on the inner part\n",
    "inner_horizontal_edges = horizontal_edges[1:-1, 1:-1]\n",
    "inner_vertical_edges = vertical_edges[1:-1, 1:-1]\n",
    "\n",
    "# Show it\n",
    "display_grid(inner_horizontal_edges, inner_vertical_edges)"
   ]
  },
  {
   "cell_type": "code",
   "execution_count": 36,
   "id": "ac60708c",
   "metadata": {},
   "outputs": [
    {
     "data": {
      "text/plain": [
       "1"
      ]
     },
     "execution_count": 36,
     "metadata": {},
     "output_type": "execute_result"
    }
   ],
   "source": [
    "# Checking unicity on this subset is a bit more tricky\n",
    "# We need to allow any pins on the central edges\n",
    "horizontal_constraints = np.full((3, 3 + 1), -1)\n",
    "vertical_constraints = np.full((3 + 1, 3), -1)\n",
    "horizontal_constraints[0, [0, -1]] = FLAT\n",
    "horizontal_constraints[2, [0, -1]] = FLAT\n",
    "vertical_constraints[[0, -1], 0] = FLAT\n",
    "vertical_constraints[[0, -1], 2] = FLAT\n",
    "constraints = horizontal_constraints, vertical_constraints\n",
    "\n",
    "# Hopefully there is only a unique solution\n",
    "count_solutions(inner_horizontal_edges, inner_vertical_edges, constraints=constraints)"
   ]
  },
  {
   "cell_type": "code",
   "execution_count": 37,
   "id": "ad522876",
   "metadata": {},
   "outputs": [],
   "source": [
    "# Keep it for later\n",
    "pieces_5x5_nested = grid_to_pieces(horizontal_edges, vertical_edges, opposite)"
   ]
  },
  {
   "cell_type": "markdown",
   "id": "bdc2fa09",
   "metadata": {},
   "source": [
    "## 8. 5x5 with 5th corner"
   ]
  },
  {
   "cell_type": "code",
   "execution_count": 38,
   "id": "8e2546ef",
   "metadata": {},
   "outputs": [
    {
     "name": "stderr",
     "output_type": "stream",
     "text": [
      "9it [00:00, 163.67it/s]\n"
     ]
    }
   ],
   "source": [
    "# Generate grid\n",
    "generator = np.random.default_rng(456)\n",
    "def sampler():\n",
    "    \n",
    "    # Generate a grid with small edges\n",
    "    edge_types = np.array([\n",
    "        CENTERED_SMALL_MALE,\n",
    "        CENTERED_SMALL_FEMALE,\n",
    "    ] * 3 + [\n",
    "        LEFT_SMALL_MALE,\n",
    "        LEFT_SMALL_FEMALE,\n",
    "        RIGHT_SMALL_MALE,\n",
    "        RIGHT_SMALL_FEMALE,\n",
    "    ] * 2 + [\n",
    "        DOUBLE_SMALL_MALE,\n",
    "        DOUBLE_SMALL_FEMALE,\n",
    "        TWISTED_SMALL_MALE,\n",
    "        TWISTED_SMALL_FEMALE,\n",
    "    ])\n",
    "    horizontal_edges, vertical_edges = sample_random_grid(5, 5, edge_types, generator=generator)\n",
    "\n",
    "    # Add 5th corner\n",
    "    # Note: there is only one way to place it (x4, due to rotation)\n",
    "    horizontal_edges[2, 3] = FLAT\n",
    "    vertical_edges[3, 2] = FLAT\n",
    "    \n",
    "    # Make sure that the 5th corner has only female edges\n",
    "    horizontal_edges[2, 2] = CENTERED_SMALL_FEMALE\n",
    "    vertical_edges[2, 2] = CENTERED_SMALL_MALE\n",
    "    \n",
    "    # Make sure that the two extra edge pieces have femal edges on the side\n",
    "    horizontal_edges[3, 2] = CENTERED_SMALL_FEMALE\n",
    "    horizontal_edges[3, 3] = CENTERED_SMALL_MALE\n",
    "    vertical_edges[2, 3] = CENTERED_SMALL_MALE\n",
    "    vertical_edges[3, 3] = CENTERED_SMALL_FEMALE\n",
    "\n",
    "    # Make sure that the two extra edge pieces have double edges (one of each polarity)\n",
    "    horizontal_edges[2, 4] = DOUBLE_SMALL_MALE\n",
    "    vertical_edges[4, 2] = DOUBLE_SMALL_MALE\n",
    "    \n",
    "    return horizontal_edges, vertical_edges\n",
    "\n",
    "def is_acceptable(horizontal_edges, vertical_edges):\n",
    "    \n",
    "    # Make sure no other corner has only centered small female edges\n",
    "    if horizontal_edges[0, 1] == CENTERED_SMALL_MALE and vertical_edges[1, 0] == CENTERED_SMALL_FEMALE:\n",
    "        return False\n",
    "    if horizontal_edges[0, 4] == CENTERED_SMALL_FEMALE and vertical_edges[1, 4] == CENTERED_SMALL_FEMALE:\n",
    "        return False\n",
    "    if horizontal_edges[4, 1] == CENTERED_SMALL_MALE and vertical_edges[4, 0] == CENTERED_SMALL_MALE:\n",
    "        return False\n",
    "    if horizontal_edges[4, 4] == CENTERED_SMALL_FEMALE and vertical_edges[4, 4] == CENTERED_SMALL_MALE:\n",
    "        return False\n",
    "\n",
    "    # Make sure no other edge piece has two small female on the sides\n",
    "    for i in range(4):\n",
    "        for j in [0, 4]:\n",
    "            if horizontal_edges[j, i+1] == CENTERED_SMALL_FEMALE and horizontal_edges[j, i+2] == CENTERED_SMALL_MALE:\n",
    "                return False\n",
    "            if vertical_edges[i+1, j] == CENTERED_SMALL_MALE and vertical_edges[i+2, j] == CENTERED_SMALL_FEMALE:\n",
    "                return False\n",
    "    \n",
    "    # Make sure no other edge piece has double pins on the inner side\n",
    "    if (\n",
    "        horizontal_edges[1, 1] in {DOUBLE_SMALL_MALE, DOUBLE_SMALL_FEMALE} or\n",
    "        horizontal_edges[2, 1] in {DOUBLE_SMALL_MALE, DOUBLE_SMALL_FEMALE} or\n",
    "        horizontal_edges[3, 1] in {DOUBLE_SMALL_MALE, DOUBLE_SMALL_FEMALE} or\n",
    "        horizontal_edges[1, 4] in {DOUBLE_SMALL_MALE, DOUBLE_SMALL_FEMALE} or\n",
    "        horizontal_edges[3, 4] in {DOUBLE_SMALL_MALE, DOUBLE_SMALL_FEMALE} or\n",
    "        vertical_edges[1, 1] in {DOUBLE_SMALL_MALE, DOUBLE_SMALL_FEMALE} or\n",
    "        vertical_edges[1, 2] in {DOUBLE_SMALL_MALE, DOUBLE_SMALL_FEMALE} or\n",
    "        vertical_edges[1, 3] in {DOUBLE_SMALL_MALE, DOUBLE_SMALL_FEMALE} or\n",
    "        vertical_edges[4, 1] in {DOUBLE_SMALL_MALE, DOUBLE_SMALL_FEMALE} or\n",
    "        vertical_edges[4, 3] in {DOUBLE_SMALL_MALE, DOUBLE_SMALL_FEMALE}\n",
    "    ):\n",
    "        return False\n",
    "\n",
    "    return True\n",
    "\n",
    "horizontal_edges, vertical_edges = search(sampler, is_acceptable, is_unique)"
   ]
  },
  {
   "cell_type": "code",
   "execution_count": 39,
   "id": "cf3e04cf",
   "metadata": {},
   "outputs": [
    {
     "data": {
      "text/html": [
       "<div style=\"padding:1em\"><svg width=\"384\" height=\"384\" xmlns=\"http://www.w3.org/2000/svg\"><g transform=\"translate(32.0 32.0)\"><path fill=\"none\" stroke=\"black\" d=\"M 0.0 -16.0 L 0.0 0.0 L 0.0 64.0 L 0.0 128.0 L 0.0 192.0 L 0.0 256.0 L 0.0 320.0 L 0.0 336.0 M 64.0 -16.0 L 64.0 0.0 C 64.0 7.999999999999999, 67.2 7.999999999999999, 67.2 15.999999999999998 A 3.2 3.2 0 0 1 62.125483399593904 17.874516600406096 A 6.4 6.4 0 1 0 62.125483399593904 26.9254833995939 A 3.2 3.2 0 0 1 67.2 28.799999999999997 C 67.2 46.400000000000006, 64.0 46.400000000000006, 64.0 64.0 C 64.0 72.0, 67.2 72.0, 67.2 80.0 A 3.2 3.2 0 0 1 62.125483399593904 81.8745166004061 A 6.4 6.4 0 1 0 62.125483399593904 90.9254833995939 A 3.2 3.2 0 0 1 67.2 92.8 C 67.2 110.4, 64.0 110.4, 64.0 128.0 C 64.0 140.8, 60.8 140.8, 60.8 153.6 A 3.2 3.2 0 0 0 65.8745166004061 155.4745166004061 A 6.4 6.4 0 1 1 65.8745166004061 164.5254833995939 A 3.2 3.2 0 0 0 60.8 166.4 C 60.8 179.2, 64.0 179.2, 64.0 192.0 C 64.0 200.0, 60.8 200.0, 60.8 208.0 A 3.2 3.2 0 0 0 65.8745166004061 209.87451660040608 A 6.4 6.4 0 1 1 65.8745166004061 218.9254833995939 A 3.2 3.2 0 0 0 60.8 220.8 C 60.8 224.0, 67.2 224.0, 67.2 227.2 A 3.2 3.2 0 0 1 62.125483399593904 229.0745166004061 A 6.4 6.4 0 1 0 62.125483399593904 238.12548339959392 A 3.2 3.2 0 0 1 67.2 240.0 C 67.2 248.0, 64.0 248.0, 64.0 256.0 C 64.0 264.0, 60.8 264.0, 60.8 272.0 A 3.2 3.2 0 0 0 65.8745166004061 273.8745166004061 A 6.4 6.4 0 1 1 65.8745166004061 282.9254833995939 A 3.2 3.2 0 0 0 60.8 284.8 C 60.8 302.4, 64.0 302.4, 64.0 320.0 L 64.0 336.0 M 128.0 -16.0 L 128.0 0.0 C 128.0 17.6, 131.2 17.6, 131.2 35.2 A 3.2 3.2 0 0 1 126.1254833995939 37.0745166004061 A 6.4 6.4 0 1 0 126.1254833995939 46.125483399593904 A 3.2 3.2 0 0 1 131.2 48.0 C 131.2 56.0, 128.0 56.0, 128.0 64.0 C 128.0 72.0, 124.8 72.0, 124.8 80.0 A 3.2 3.2 0 0 0 129.87451660040608 81.8745166004061 A 6.4 6.4 0 1 1 129.87451660040608 90.9254833995939 A 3.2 3.2 0 0 0 124.8 92.8 C 124.8 96.0, 131.2 96.0, 131.2 99.2 A 3.2 3.2 0 0 1 126.1254833995939 101.0745166004061 A 6.4 6.4 0 1 0 126.1254833995939 110.1254833995939 A 3.2 3.2 0 0 1 131.2 112.0 C 131.2 120.0, 128.0 120.0, 128.0 128.0 C 128.0 140.8, 124.8 140.8, 124.8 153.6 A 3.2 3.2 0 0 0 129.87451660040608 155.4745166004061 A 6.4 6.4 0 1 1 129.87451660040608 164.5254833995939 A 3.2 3.2 0 0 0 124.8 166.4 C 124.8 179.2, 128.0 179.2, 128.0 192.0 C 128.0 204.8, 124.8 204.8, 124.8 217.6 A 3.2 3.2 0 0 0 129.87451660040608 219.4745166004061 A 6.4 6.4 0 1 1 129.87451660040608 228.5254833995939 A 3.2 3.2 0 0 0 124.8 230.4 C 124.8 243.2, 128.0 243.2, 128.0 256.0 C 128.0 264.0, 131.2 264.0, 131.2 272.0 A 3.2 3.2 0 0 1 126.1254833995939 273.8745166004061 A 6.4 6.4 0 1 0 126.1254833995939 282.9254833995939 A 3.2 3.2 0 0 1 131.2 284.8 C 131.2 288.0, 124.8 288.0, 124.8 291.2 A 3.2 3.2 0 0 0 129.87451660040608 293.0745166004061 A 6.4 6.4 0 1 1 129.87451660040608 302.1254833995939 A 3.2 3.2 0 0 0 124.8 304.0 C 124.8 312.0, 128.0 312.0, 128.0 320.0 L 128.0 336.0 M 192.0 -16.0 L 192.0 0.0 C 192.0 7.999999999999999, 195.2 7.999999999999999, 195.2 15.999999999999998 A 3.2 3.2 0 0 1 190.12548339959392 17.874516600406096 A 6.4 6.4 0 1 0 190.12548339959392 26.9254833995939 A 3.2 3.2 0 0 1 195.2 28.799999999999997 L 195.2 35.2 A 3.2 3.2 0 0 1 190.12548339959392 37.0745166004061 A 6.4 6.4 0 1 0 190.12548339959392 46.125483399593904 A 3.2 3.2 0 0 1 195.2 48.0 C 195.2 56.0, 192.0 56.0, 192.0 64.0 C 192.0 81.6, 195.2 81.6, 195.2 99.2 A 3.2 3.2 0 0 1 190.12548339959392 101.0745166004061 A 6.4 6.4 0 1 0 190.12548339959392 110.1254833995939 A 3.2 3.2 0 0 1 195.2 112.0 C 195.2 120.0, 192.0 120.0, 192.0 128.0 L 192.0 192.0 C 192.0 204.8, 195.2 204.8, 195.2 217.6 A 3.2 3.2 0 0 1 190.12548339959392 219.4745166004061 A 6.4 6.4 0 1 0 190.12548339959392 228.5254833995939 A 3.2 3.2 0 0 1 195.2 230.4 C 195.2 243.2, 192.0 243.2, 192.0 256.0 C 192.0 273.6, 188.8 273.6, 188.8 291.2 A 3.2 3.2 0 0 0 193.87451660040608 293.0745166004061 A 6.4 6.4 0 1 1 193.87451660040608 302.1254833995939 A 3.2 3.2 0 0 0 188.8 304.0 C 188.8 312.0, 192.0 312.0, 192.0 320.0 L 192.0 336.0 M 256.0 -16.0 L 256.0 0.0 C 256.0 7.999999999999999, 252.8 7.999999999999999, 252.8 15.999999999999998 A 3.2 3.2 0 0 0 257.8745166004061 17.874516600406096 A 6.4 6.4 0 1 1 257.8745166004061 26.9254833995939 A 3.2 3.2 0 0 0 252.8 28.799999999999997 C 252.8 46.400000000000006, 256.0 46.400000000000006, 256.0 64.0 C 256.0 72.0, 259.2 72.0, 259.2 80.0 A 3.2 3.2 0 0 1 254.12548339959392 81.8745166004061 A 6.4 6.4 0 1 0 254.12548339959392 90.9254833995939 A 3.2 3.2 0 0 1 259.2 92.8 C 259.2 110.4, 256.0 110.4, 256.0 128.0 C 256.0 136.0, 259.2 136.0, 259.2 144.0 A 3.2 3.2 0 0 1 254.12548339959392 145.87451660040608 A 6.4 6.4 0 1 0 254.12548339959392 154.9254833995939 A 3.2 3.2 0 0 1 259.2 156.8 L 259.2 163.2 A 3.2 3.2 0 0 1 254.12548339959392 165.0745166004061 A 6.4 6.4 0 1 0 254.12548339959392 174.12548339959392 A 3.2 3.2 0 0 1 259.2 176.0 C 259.2 184.0, 256.0 184.0, 256.0 192.0 C 256.0 200.0, 259.2 200.0, 259.2 208.0 A 3.2 3.2 0 0 1 254.12548339959392 209.87451660040608 A 6.4 6.4 0 1 0 254.12548339959392 218.9254833995939 A 3.2 3.2 0 0 1 259.2 220.8 C 259.2 238.4, 256.0 238.4, 256.0 256.0 C 256.0 264.0, 252.8 264.0, 252.8 272.0 A 3.2 3.2 0 0 0 257.8745166004061 273.8745166004061 A 6.4 6.4 0 1 1 257.8745166004061 282.9254833995939 A 3.2 3.2 0 0 0 252.8 284.8 L 252.8 291.2 A 3.2 3.2 0 0 0 257.8745166004061 293.0745166004061 A 6.4 6.4 0 1 1 257.8745166004061 302.1254833995939 A 3.2 3.2 0 0 0 252.8 304.0 C 252.8 312.0, 256.0 312.0, 256.0 320.0 L 256.0 336.0 M 320.0 -16.0 L 320.0 0.0 L 320.0 64.0 L 320.0 128.0 L 320.0 192.0 L 320.0 256.0 L 320.0 320.0 L 320.0 336.0 M -16.0 0.0 L 0.0 0.0 L 64.0 0.0 L 128.0 0.0 L 192.0 0.0 L 256.0 0.0 L 320.0 0.0 L 336.0 0.0 M -16.0 64.0 L 0.0 64.0 C 7.999999999999999 64.0, 7.999999999999999 60.8, 15.999999999999998 60.8 A 3.2 3.2 0 0 1 17.874516600406096 65.8745166004061 A 6.4 6.4 0 1 0 26.9254833995939 65.8745166004061 A 3.2 3.2 0 0 1 28.799999999999997 60.8 C 32.0 60.8, 32.0 67.2, 35.2 67.2 A 3.2 3.2 0 0 0 37.0745166004061 62.125483399593904 A 6.4 6.4 0 1 1 46.125483399593904 62.125483399593904 A 3.2 3.2 0 0 0 48.0 67.2 C 56.0 67.2, 56.0 64.0, 64.0 64.0 C 76.8 64.0, 76.8 67.2, 89.6 67.2 A 3.2 3.2 0 0 0 91.4745166004061 62.125483399593904 A 6.4 6.4 0 1 1 100.5254833995939 62.125483399593904 A 3.2 3.2 0 0 0 102.4 67.2 C 115.2 67.2, 115.2 64.0, 128.0 64.0 C 140.8 64.0, 140.8 67.2, 153.6 67.2 A 3.2 3.2 0 0 0 155.4745166004061 62.125483399593904 A 6.4 6.4 0 1 1 164.5254833995939 62.125483399593904 A 3.2 3.2 0 0 0 166.4 67.2 C 179.2 67.2, 179.2 64.0, 192.0 64.0 C 204.8 64.0, 204.8 60.8, 217.6 60.8 A 3.2 3.2 0 0 1 219.4745166004061 65.8745166004061 A 6.4 6.4 0 1 0 228.5254833995939 65.8745166004061 A 3.2 3.2 0 0 1 230.4 60.8 C 243.2 60.8, 243.2 64.0, 256.0 64.0 C 273.6 64.0, 273.6 60.8, 291.2 60.8 A 3.2 3.2 0 0 1 293.0745166004061 65.8745166004061 A 6.4 6.4 0 1 0 302.1254833995939 65.8745166004061 A 3.2 3.2 0 0 1 304.0 60.8 C 312.0 60.8, 312.0 64.0, 320.0 64.0 L 336.0 64.0 M -16.0 128.0 L 0.0 128.0 C 12.8 128.0, 12.8 124.8, 25.6 124.8 A 3.2 3.2 0 0 1 27.474516600406098 129.87451660040608 A 6.4 6.4 0 1 0 36.5254833995939 129.87451660040608 A 3.2 3.2 0 0 1 38.4 124.8 C 51.2 124.8, 51.2 128.0, 64.0 128.0 C 76.8 128.0, 76.8 131.2, 89.6 131.2 A 3.2 3.2 0 0 0 91.4745166004061 126.1254833995939 A 6.4 6.4 0 1 1 100.5254833995939 126.1254833995939 A 3.2 3.2 0 0 0 102.4 131.2 C 115.2 131.2, 115.2 128.0, 128.0 128.0 C 140.8 128.0, 140.8 124.8, 153.6 124.8 A 3.2 3.2 0 0 1 155.4745166004061 129.87451660040608 A 6.4 6.4 0 1 0 164.5254833995939 129.87451660040608 A 3.2 3.2 0 0 1 166.4 124.8 C 179.2 124.8, 179.2 128.0, 192.0 128.0 C 204.8 128.0, 204.8 124.8, 217.6 124.8 A 3.2 3.2 0 0 1 219.4745166004061 129.87451660040608 A 6.4 6.4 0 1 0 228.5254833995939 129.87451660040608 A 3.2 3.2 0 0 1 230.4 124.8 C 243.2 124.8, 243.2 128.0, 256.0 128.0 C 268.8 128.0, 268.8 124.8, 281.6 124.8 A 3.2 3.2 0 0 1 283.4745166004061 129.87451660040608 A 6.4 6.4 0 1 0 292.5254833995939 129.87451660040608 A 3.2 3.2 0 0 1 294.4 124.8 C 307.2 124.8, 307.2 128.0, 320.0 128.0 L 336.0 128.0 M -16.0 192.0 L 0.0 192.0 C 7.999999999999999 192.0, 7.999999999999999 188.8, 15.999999999999998 188.8 A 3.2 3.2 0 0 1 17.874516600406096 193.87451660040608 A 6.4 6.4 0 1 0 26.9254833995939 193.87451660040608 A 3.2 3.2 0 0 1 28.799999999999997 188.8 L 35.2 188.8 A 3.2 3.2 0 0 1 37.0745166004061 193.87451660040608 A 6.4 6.4 0 1 0 46.125483399593904 193.87451660040608 A 3.2 3.2 0 0 1 48.0 188.8 C 56.0 188.8, 56.0 192.0, 64.0 192.0 C 76.8 192.0, 76.8 188.8, 89.6 188.8 A 3.2 3.2 0 0 1 91.4745166004061 193.87451660040608 A 6.4 6.4 0 1 0 100.5254833995939 193.87451660040608 A 3.2 3.2 0 0 1 102.4 188.8 C 115.2 188.8, 115.2 192.0, 128.0 192.0 L 192.0 192.0 C 204.8 192.0, 204.8 195.2, 217.6 195.2 A 3.2 3.2 0 0 0 219.4745166004061 190.12548339959392 A 6.4 6.4 0 1 1 228.5254833995939 190.12548339959392 A 3.2 3.2 0 0 0 230.4 195.2 C 243.2 195.2, 243.2 192.0, 256.0 192.0 C 264.0 192.0, 264.0 188.8, 272.0 188.8 A 3.2 3.2 0 0 1 273.8745166004061 193.87451660040608 A 6.4 6.4 0 1 0 282.9254833995939 193.87451660040608 A 3.2 3.2 0 0 1 284.8 188.8 C 302.4 188.8, 302.4 192.0, 320.0 192.0 L 336.0 192.0 M -16.0 256.0 L 0.0 256.0 C 17.6 256.0, 17.6 252.8, 35.2 252.8 A 3.2 3.2 0 0 1 37.0745166004061 257.8745166004061 A 6.4 6.4 0 1 0 46.125483399593904 257.8745166004061 A 3.2 3.2 0 0 1 48.0 252.8 C 56.0 252.8, 56.0 256.0, 64.0 256.0 C 76.8 256.0, 76.8 252.8, 89.6 252.8 A 3.2 3.2 0 0 1 91.4745166004061 257.8745166004061 A 6.4 6.4 0 1 0 100.5254833995939 257.8745166004061 A 3.2 3.2 0 0 1 102.4 252.8 C 115.2 252.8, 115.2 256.0, 128.0 256.0 C 136.0 256.0, 136.0 252.8, 144.0 252.8 A 3.2 3.2 0 0 1 145.87451660040608 257.8745166004061 A 6.4 6.4 0 1 0 154.9254833995939 257.8745166004061 A 3.2 3.2 0 0 1 156.8 252.8 L 163.2 252.8 A 3.2 3.2 0 0 1 165.0745166004061 257.8745166004061 A 6.4 6.4 0 1 0 174.12548339959392 257.8745166004061 A 3.2 3.2 0 0 1 176.0 252.8 C 184.0 252.8, 184.0 256.0, 192.0 256.0 C 209.6 256.0, 209.6 259.2, 227.2 259.2 A 3.2 3.2 0 0 0 229.0745166004061 254.12548339959392 A 6.4 6.4 0 1 1 238.12548339959392 254.12548339959392 A 3.2 3.2 0 0 0 240.0 259.2 C 248.0 259.2, 248.0 256.0, 256.0 256.0 C 273.6 256.0, 273.6 259.2, 291.2 259.2 A 3.2 3.2 0 0 0 293.0745166004061 254.12548339959392 A 6.4 6.4 0 1 1 302.1254833995939 254.12548339959392 A 3.2 3.2 0 0 0 304.0 259.2 C 312.0 259.2, 312.0 256.0, 320.0 256.0 L 336.0 256.0 M -16.0 320.0 L 0.0 320.0 L 64.0 320.0 L 128.0 320.0 L 192.0 320.0 L 256.0 320.0 L 320.0 320.0 L 336.0 320.0\"/></g></svg></div>"
      ],
      "text/plain": [
       "<IPython.core.display.HTML object>"
      ]
     },
     "metadata": {},
     "output_type": "display_data"
    }
   ],
   "source": [
    "# Show it\n",
    "display_grid(horizontal_edges, vertical_edges)"
   ]
  },
  {
   "cell_type": "code",
   "execution_count": 40,
   "id": "9056754f",
   "metadata": {},
   "outputs": [],
   "source": [
    "# Keep it for later\n",
    "pieces_5x5_5th = grid_to_pieces(horizontal_edges, vertical_edges, opposite)"
   ]
  },
  {
   "cell_type": "markdown",
   "id": "a885b0e2",
   "metadata": {},
   "source": [
    "## Export as SVG"
   ]
  },
  {
   "cell_type": "code",
   "execution_count": 41,
   "id": "47f62b3a",
   "metadata": {},
   "outputs": [
    {
     "data": {
      "text/html": [
       "<div style=\"padding:1em\"><svg width=\"650\" height=\"450\" xmlns=\"http://www.w3.org/2000/svg\"><g transform=\"translate(25.0 25.0)\"><path fill=\"none\" stroke=\"black\" d=\"M 0.0 0.0 L 0.0 50.0 L 0.0 100.0 L 0.0 150.0 L 0.0 200.0 L 0.0 250.0 L 0.0 300.0 L 0.0 350.0 L 0.0 400.0 M 50.0 0.0 C 50.0 10.0, 52.5 10.0, 52.5 20.0 A 2.5 2.5 0 0 1 48.53553390593274 21.464466094067262 A 5.0 5.0 0 1 0 48.53553390593274 28.535533905932738 A 2.5 2.5 0 0 1 52.5 30.0 C 52.5 40.0, 50.0 40.0, 50.0 50.0 C 50.0 60.0, 47.5 60.0, 47.5 70.0 A 2.5 2.5 0 0 0 51.46446609406726 71.46446609406726 A 5.0 5.0 0 1 1 51.46446609406726 78.53553390593274 A 2.5 2.5 0 0 0 47.5 80.0 C 47.5 90.0, 50.0 90.0, 50.0 100.0 C 50.0 110.0, 47.5 110.0, 47.5 120.0 A 2.5 2.5 0 0 0 51.46446609406726 121.46446609406726 A 5.0 5.0 0 1 1 51.46446609406726 128.53553390593274 A 2.5 2.5 0 0 0 47.5 130.0 C 47.5 140.0, 50.0 140.0, 50.0 150.0 C 50.0 159.0, 53.5 159.0, 53.5 168.0 A 3.4999999999999996 3.4999999999999996 0 0 1 47.94974746830583 170.05025253169418 A 6.999999999999999 6.999999999999999 0 1 0 47.94974746830583 179.94974746830582 A 3.4999999999999996 3.4999999999999996 0 0 1 53.5 182.0 C 53.5 191.0, 50.0 191.0, 50.0 200.0 C 50.0 210.0, 52.5 210.0, 52.5 220.0 A 2.5 2.5 0 0 1 48.53553390593274 221.46446609406726 A 5.0 5.0 0 1 0 48.53553390593274 228.53553390593274 A 2.5 2.5 0 0 1 52.5 230.0 C 52.5 240.0, 50.0 240.0, 50.0 250.0 L 50.0 300.0 C 50.0 309.0, 46.5 309.0, 46.5 318.0 A 3.4999999999999996 3.4999999999999996 0 0 0 52.05025253169417 320.0502525316942 A 6.999999999999999 6.999999999999999 0 1 1 52.05025253169417 329.9497474683058 A 3.4999999999999996 3.4999999999999996 0 0 0 46.5 332.0 C 46.5 341.0, 50.0 341.0, 50.0 350.0 C 50.0 359.0, 46.5 359.0, 46.5 368.0 A 3.4999999999999996 3.4999999999999996 0 0 0 52.05025253169417 370.0502525316942 A 6.999999999999999 6.999999999999999 0 1 1 52.05025253169417 379.9497474683058 A 3.4999999999999996 3.4999999999999996 0 0 0 46.5 382.0 C 46.5 391.0, 50.0 391.0, 50.0 400.0 M 100.0 0.0 C 100.0 10.0, 102.5 10.0, 102.5 20.0 A 2.5 2.5 0 0 1 98.53553390593274 21.464466094067262 A 5.0 5.0 0 1 0 98.53553390593274 28.535533905932738 A 2.5 2.5 0 0 1 102.5 30.0 C 102.5 40.0, 100.0 40.0, 100.0 50.0 L 100.0 100.0 C 100.0 110.0, 102.5 110.0, 102.5 120.0 A 2.5 2.5 0 0 1 98.53553390593274 121.46446609406726 A 5.0 5.0 0 1 0 98.53553390593274 128.53553390593274 A 2.5 2.5 0 0 1 102.5 130.0 C 102.5 140.0, 100.0 140.0, 100.0 150.0 C 100.0 160.0, 97.5 160.0, 97.5 170.0 A 2.5 2.5 0 0 0 101.46446609406726 171.46446609406726 A 5.0 5.0 0 1 1 101.46446609406726 178.53553390593274 A 2.5 2.5 0 0 0 97.5 180.0 C 97.5 190.0, 100.0 190.0, 100.0 200.0 C 100.0 206.25, 97.5 206.25, 97.5 212.5 A 2.5 2.5 0 0 0 101.46446609406726 213.96446609406726 A 5.0 5.0 0 1 1 101.46446609406726 221.03553390593274 A 2.5 2.5 0 0 0 97.5 222.5 C 97.5 236.25, 100.0 236.25, 100.0 250.0 C 100.0 256.25, 102.5 256.25, 102.5 262.5 A 2.5 2.5 0 0 1 98.53553390593274 263.96446609406723 A 5.0 5.0 0 1 0 98.53553390593274 271.0355339059327 A 2.5 2.5 0 0 1 102.5 272.5 C 102.5 286.25, 100.0 286.25, 100.0 300.0 L 100.0 350.0 C 100.0 359.0, 96.5 359.0, 96.5 368.0 A 3.4999999999999996 3.4999999999999996 0 0 0 102.05025253169417 370.0502525316942 A 6.999999999999999 6.999999999999999 0 1 1 102.05025253169417 379.9497474683058 A 3.4999999999999996 3.4999999999999996 0 0 0 96.5 382.0 C 96.5 391.0, 100.0 391.0, 100.0 400.0 M 150.0 0.0 C 150.0 9.0, 153.5 9.0, 153.5 18.0 A 3.4999999999999996 3.4999999999999996 0 0 1 147.94974746830584 20.05025253169417 A 6.999999999999999 6.999999999999999 0 1 0 147.94974746830584 29.94974746830583 A 3.4999999999999996 3.4999999999999996 0 0 1 153.5 32.0 C 153.5 41.0, 150.0 41.0, 150.0 50.0 C 150.0 60.0, 147.5 60.0, 147.5 70.0 A 2.5 2.5 0 0 0 151.46446609406726 71.46446609406726 A 5.0 5.0 0 1 1 151.46446609406726 78.53553390593274 A 2.5 2.5 0 0 0 147.5 80.0 C 147.5 90.0, 150.0 90.0, 150.0 100.0 C 150.0 110.0, 147.5 110.0, 147.5 120.0 A 2.5 2.5 0 0 0 151.46446609406726 121.46446609406726 A 5.0 5.0 0 1 1 151.46446609406726 128.53553390593274 A 2.5 2.5 0 0 0 147.5 130.0 C 147.5 140.0, 150.0 140.0, 150.0 150.0 C 150.0 160.0, 152.5 160.0, 152.5 170.0 A 2.5 2.5 0 0 1 148.53553390593274 171.46446609406726 A 5.0 5.0 0 1 0 148.53553390593274 178.53553390593274 A 2.5 2.5 0 0 1 152.5 180.0 C 152.5 190.0, 150.0 190.0, 150.0 200.0 C 150.0 210.0, 152.5 210.0, 152.5 220.0 A 2.5 2.5 0 0 1 148.53553390593274 221.46446609406726 A 5.0 5.0 0 1 0 148.53553390593274 228.53553390593274 A 2.5 2.5 0 0 1 152.5 230.0 C 152.5 240.0, 150.0 240.0, 150.0 250.0 C 150.0 256.25, 152.5 256.25, 152.5 262.5 A 2.5 2.5 0 0 1 148.53553390593274 263.96446609406723 A 5.0 5.0 0 1 0 148.53553390593274 271.0355339059327 A 2.5 2.5 0 0 1 152.5 272.5 C 152.5 286.25, 150.0 286.25, 150.0 300.0 C 150.0 313.75, 152.5 313.75, 152.5 327.5 A 2.5 2.5 0 0 1 148.53553390593274 328.9644660940673 A 5.0 5.0 0 1 0 148.53553390593274 336.03553390593277 A 2.5 2.5 0 0 1 152.5 337.5 C 152.5 343.75, 150.0 343.75, 150.0 350.0 L 150.0 400.0 M 200.0 0.0 L 200.0 50.0 L 200.0 100.0 L 200.0 150.0 L 200.0 200.0 L 200.0 250.0 L 200.0 300.0 L 200.0 350.0 L 200.0 400.0 M 250.0 0.0 C 250.0 6.249999999999999, 252.5 6.249999999999999, 252.5 12.499999999999998 A 2.5 2.5 0 0 1 248.53553390593274 13.964466094067262 A 5.0 5.0 0 1 0 248.53553390593274 21.035533905932734 A 2.5 2.5 0 0 1 252.5 22.499999999999996 C 252.5 25.0, 247.5 25.0, 247.5 27.500000000000004 A 2.5 2.5 0 0 0 251.46446609406726 28.964466094067266 A 5.0 5.0 0 1 1 251.46446609406726 36.03553390593274 A 2.5 2.5 0 0 0 247.5 37.5 C 247.5 43.75, 250.0 43.75, 250.0 50.0 C 250.0 60.0, 247.5 60.0, 247.5 70.0 A 2.5 2.5 0 0 0 251.46446609406726 71.46446609406726 A 5.0 5.0 0 1 1 251.46446609406726 78.53553390593274 A 2.5 2.5 0 0 0 247.5 80.0 C 247.5 90.0, 250.0 90.0, 250.0 100.0 L 250.0 150.0 C 250.0 156.25, 247.5 156.25, 247.5 162.5 A 2.5 2.5 0 0 0 251.46446609406726 163.96446609406726 A 5.0 5.0 0 1 1 251.46446609406726 171.03553390593274 A 2.5 2.5 0 0 0 247.5 172.5 L 247.5 177.5 A 2.5 2.5 0 0 0 251.46446609406726 178.96446609406726 A 5.0 5.0 0 1 1 251.46446609406726 186.03553390593274 A 2.5 2.5 0 0 0 247.5 187.5 C 247.5 193.75, 250.0 193.75, 250.0 200.0 L 250.0 250.0 C 250.0 260.0, 252.5 260.0, 252.5 270.0 A 2.5 2.5 0 0 1 248.53553390593274 271.46446609406723 A 5.0 5.0 0 1 0 248.53553390593274 278.53553390593277 A 2.5 2.5 0 0 1 252.5 280.0 C 252.5 290.0, 250.0 290.0, 250.0 300.0 C 250.0 310.0, 252.5 310.0, 252.5 320.0 A 2.5 2.5 0 0 1 248.53553390593274 321.46446609406723 A 5.0 5.0 0 1 0 248.53553390593274 328.53553390593277 A 2.5 2.5 0 0 1 252.5 330.0 C 252.5 340.0, 250.0 340.0, 250.0 350.0 C 250.0 360.0, 247.5 360.0, 247.5 370.0 A 2.5 2.5 0 0 0 251.46446609406726 371.46446609406723 A 5.0 5.0 0 1 1 251.46446609406726 378.53553390593277 A 2.5 2.5 0 0 0 247.5 380.0 C 247.5 390.0, 250.0 390.0, 250.0 400.0 M 300.0 0.0 L 300.0 50.0 L 300.0 100.0 C 300.0 113.75, 302.5 113.75, 302.5 127.5 A 2.5 2.5 0 0 1 298.53553390593277 128.96446609406726 A 5.0 5.0 0 1 0 298.53553390593277 136.03553390593274 A 2.5 2.5 0 0 1 302.5 137.5 C 302.5 143.75, 300.0 143.75, 300.0 150.0 C 300.0 163.75, 302.5 163.75, 302.5 177.5 A 2.5 2.5 0 0 1 298.53553390593277 178.96446609406726 A 5.0 5.0 0 1 0 298.53553390593277 186.03553390593274 A 2.5 2.5 0 0 1 302.5 187.5 C 302.5 193.75, 300.0 193.75, 300.0 200.0 C 300.0 210.0, 297.5 210.0, 297.5 220.0 A 2.5 2.5 0 0 0 301.46446609406723 221.46446609406726 A 5.0 5.0 0 1 1 301.46446609406723 228.53553390593274 A 2.5 2.5 0 0 0 297.5 230.0 C 297.5 240.0, 300.0 240.0, 300.0 250.0 C 300.0 259.0, 296.5 259.0, 296.5 268.0 A 3.4999999999999996 3.4999999999999996 0 0 0 302.0502525316942 270.0502525316942 A 6.999999999999999 6.999999999999999 0 1 1 302.0502525316942 279.9497474683058 A 3.4999999999999996 3.4999999999999996 0 0 0 296.5 282.0 C 296.5 291.0, 300.0 291.0, 300.0 300.0 C 300.0 310.0, 297.5 310.0, 297.5 320.0 A 2.5 2.5 0 0 0 301.46446609406723 321.46446609406723 A 5.0 5.0 0 1 1 301.46446609406723 328.53553390593277 A 2.5 2.5 0 0 0 297.5 330.0 C 297.5 340.0, 300.0 340.0, 300.0 350.0 C 300.0 360.0, 302.5 360.0, 302.5 370.0 A 2.5 2.5 0 0 1 298.53553390593277 371.46446609406723 A 5.0 5.0 0 1 0 298.53553390593277 378.53553390593277 A 2.5 2.5 0 0 1 302.5 380.0 C 302.5 390.0, 300.0 390.0, 300.0 400.0 M 350.0 0.0 C 350.0 6.249999999999999, 347.5 6.249999999999999, 347.5 12.499999999999998 A 2.5 2.5 0 0 0 351.46446609406723 13.964466094067262 A 5.0 5.0 0 1 1 351.46446609406723 21.035533905932734 A 2.5 2.5 0 0 0 347.5 22.499999999999996 L 347.5 27.500000000000004 A 2.5 2.5 0 0 0 351.46446609406723 28.964466094067266 A 5.0 5.0 0 1 1 351.46446609406723 36.03553390593274 A 2.5 2.5 0 0 0 347.5 37.5 C 347.5 43.75, 350.0 43.75, 350.0 50.0 L 350.0 100.0 L 350.0 150.0 C 350.0 163.75, 347.5 163.75, 347.5 177.5 A 2.5 2.5 0 0 0 351.46446609406723 178.96446609406726 A 5.0 5.0 0 1 1 351.46446609406723 186.03553390593274 A 2.5 2.5 0 0 0 347.5 187.5 C 347.5 193.75, 350.0 193.75, 350.0 200.0 C 350.0 210.0, 352.5 210.0, 352.5 220.0 A 2.5 2.5 0 0 1 348.53553390593277 221.46446609406726 A 5.0 5.0 0 1 0 348.53553390593277 228.53553390593274 A 2.5 2.5 0 0 1 352.5 230.0 C 352.5 240.0, 350.0 240.0, 350.0 250.0 C 350.0 259.0, 346.5 259.0, 346.5 268.0 A 3.4999999999999996 3.4999999999999996 0 0 0 352.0502525316942 270.0502525316942 A 6.999999999999999 6.999999999999999 0 1 1 352.0502525316942 279.9497474683058 A 3.4999999999999996 3.4999999999999996 0 0 0 346.5 282.0 C 346.5 291.0, 350.0 291.0, 350.0 300.0 C 350.0 310.0, 347.5 310.0, 347.5 320.0 A 2.5 2.5 0 0 0 351.46446609406723 321.46446609406723 A 5.0 5.0 0 1 1 351.46446609406723 328.53553390593277 A 2.5 2.5 0 0 0 347.5 330.0 C 347.5 340.0, 350.0 340.0, 350.0 350.0 C 350.0 359.0, 353.5 359.0, 353.5 368.0 A 3.4999999999999996 3.4999999999999996 0 0 1 347.9497474683058 370.0502525316942 A 6.999999999999999 6.999999999999999 0 1 0 347.9497474683058 379.9497474683058 A 3.4999999999999996 3.4999999999999996 0 0 1 353.5 382.0 C 353.5 391.0, 350.0 391.0, 350.0 400.0 M 400.0 0.0 L 400.0 50.0 L 400.0 100.0 L 400.0 150.0 L 400.0 200.0 L 400.0 250.0 L 400.0 300.0 L 400.0 350.0 L 400.0 400.0 M 450.0 0.0 C 450.0 6.249999999999999, 447.5 6.249999999999999, 447.5 12.499999999999998 A 2.5 2.5 0 0 0 451.46446609406723 13.964466094067262 A 5.0 5.0 0 1 1 451.46446609406723 21.035533905932734 A 2.5 2.5 0 0 0 447.5 22.499999999999996 C 447.5 36.25000000000001, 450.0 36.25000000000001, 450.0 50.0 C 450.0 60.0, 447.5 60.0, 447.5 70.0 A 2.5 2.5 0 0 0 451.46446609406723 71.46446609406726 A 5.0 5.0 0 1 1 451.46446609406723 78.53553390593274 A 2.5 2.5 0 0 0 447.5 80.0 C 447.5 90.0, 450.0 90.0, 450.0 100.0 C 450.0 110.0, 447.5 110.0, 447.5 120.0 A 2.5 2.5 0 0 0 451.46446609406723 121.46446609406726 A 5.0 5.0 0 1 1 451.46446609406723 128.53553390593274 A 2.5 2.5 0 0 0 447.5 130.0 C 447.5 140.0, 450.0 140.0, 450.0 150.0 C 450.0 156.25, 452.5 156.25, 452.5 162.5 A 2.5 2.5 0 0 1 448.53553390593277 163.96446609406726 A 5.0 5.0 0 1 0 448.53553390593277 171.03553390593274 A 2.5 2.5 0 0 1 452.5 172.5 C 452.5 186.25, 450.0 186.25, 450.0 200.0 C 450.0 213.75, 452.5 213.75, 452.5 227.5 A 2.5 2.5 0 0 1 448.53553390593277 228.96446609406726 A 5.0 5.0 0 1 0 448.53553390593277 236.03553390593274 A 2.5 2.5 0 0 1 452.5 237.5 C 452.5 243.75, 450.0 243.75, 450.0 250.0 C 450.0 260.0, 447.5 260.0, 447.5 270.0 A 2.5 2.5 0 0 0 451.46446609406723 271.46446609406723 A 5.0 5.0 0 1 1 451.46446609406723 278.53553390593277 A 2.5 2.5 0 0 0 447.5 280.0 C 447.5 290.0, 450.0 290.0, 450.0 300.0 C 450.0 313.75, 447.5 313.75, 447.5 327.5 A 2.5 2.5 0 0 0 451.46446609406723 328.9644660940673 A 5.0 5.0 0 1 1 451.46446609406723 336.03553390593277 A 2.5 2.5 0 0 0 447.5 337.5 C 447.5 343.75, 450.0 343.75, 450.0 350.0 C 450.0 356.25, 452.5 356.25, 452.5 362.5 A 2.5 2.5 0 0 1 448.53553390593277 363.96446609406723 A 5.0 5.0 0 1 0 448.53553390593277 371.0355339059327 A 2.5 2.5 0 0 1 452.5 372.5 L 452.5 377.5 A 2.5 2.5 0 0 1 448.53553390593277 378.9644660940673 A 5.0 5.0 0 1 0 448.53553390593277 386.03553390593277 A 2.5 2.5 0 0 1 452.5 387.5 C 452.5 393.75, 450.0 393.75, 450.0 400.0 M 500.0 0.0 C 500.0 13.750000000000002, 502.5 13.750000000000002, 502.5 27.500000000000004 A 2.5 2.5 0 0 1 498.53553390593277 28.964466094067266 A 5.0 5.0 0 1 0 498.53553390593277 36.03553390593274 A 2.5 2.5 0 0 1 502.5 37.5 C 502.5 43.75, 500.0 43.75, 500.0 50.0 C 500.0 56.25, 502.5 56.25, 502.5 62.5 A 2.5 2.5 0 0 1 498.53553390593277 63.96446609406726 A 5.0 5.0 0 1 0 498.53553390593277 71.03553390593274 A 2.5 2.5 0 0 1 502.5 72.5 L 502.5 77.5 A 2.5 2.5 0 0 1 498.53553390593277 78.96446609406726 A 5.0 5.0 0 1 0 498.53553390593277 86.03553390593274 A 2.5 2.5 0 0 1 502.5 87.5 C 502.5 93.75, 500.0 93.75, 500.0 100.0 C 500.0 106.25, 502.5 106.25, 502.5 112.5 A 2.5 2.5 0 0 1 498.53553390593277 113.96446609406726 A 5.0 5.0 0 1 0 498.53553390593277 121.03553390593274 A 2.5 2.5 0 0 1 502.5 122.5 L 502.5 127.5 A 2.5 2.5 0 0 1 498.53553390593277 128.96446609406726 A 5.0 5.0 0 1 0 498.53553390593277 136.03553390593274 A 2.5 2.5 0 0 1 502.5 137.5 C 502.5 143.75, 500.0 143.75, 500.0 150.0 C 500.0 163.75, 497.5 163.75, 497.5 177.5 A 2.5 2.5 0 0 0 501.46446609406723 178.96446609406726 A 5.0 5.0 0 1 1 501.46446609406723 186.03553390593274 A 2.5 2.5 0 0 0 497.5 187.5 C 497.5 193.75, 500.0 193.75, 500.0 200.0 L 500.0 250.0 C 500.0 260.0, 502.5 260.0, 502.5 270.0 A 2.5 2.5 0 0 1 498.53553390593277 271.46446609406723 A 5.0 5.0 0 1 0 498.53553390593277 278.53553390593277 A 2.5 2.5 0 0 1 502.5 280.0 C 502.5 290.0, 500.0 290.0, 500.0 300.0 C 500.0 306.25, 502.5 306.25, 502.5 312.5 A 2.5 2.5 0 0 1 498.53553390593277 313.96446609406723 A 5.0 5.0 0 1 0 498.53553390593277 321.0355339059327 A 2.5 2.5 0 0 1 502.5 322.5 C 502.5 336.25, 500.0 336.25, 500.0 350.0 C 500.0 360.0, 502.5 360.0, 502.5 370.0 A 2.5 2.5 0 0 1 498.53553390593277 371.46446609406723 A 5.0 5.0 0 1 0 498.53553390593277 378.53553390593277 A 2.5 2.5 0 0 1 502.5 380.0 C 502.5 390.0, 500.0 390.0, 500.0 400.0 M 550.0 0.0 C 550.0 13.750000000000002, 547.5 13.750000000000002, 547.5 27.500000000000004 A 2.5 2.5 0 0 0 551.4644660940672 28.964466094067266 A 5.0 5.0 0 1 1 551.4644660940672 36.03553390593274 A 2.5 2.5 0 0 0 547.5 37.5 C 547.5 43.75, 550.0 43.75, 550.0 50.0 C 550.0 56.25, 547.5 56.25, 547.5 62.5 A 2.5 2.5 0 0 0 551.4644660940672 63.96446609406726 A 5.0 5.0 0 1 1 551.4644660940672 71.03553390593274 A 2.5 2.5 0 0 0 547.5 72.5 C 547.5 86.25, 550.0 86.25, 550.0 100.0 C 550.0 113.75, 547.5 113.75, 547.5 127.5 A 2.5 2.5 0 0 0 551.4644660940672 128.96446609406726 A 5.0 5.0 0 1 1 551.4644660940672 136.03553390593274 A 2.5 2.5 0 0 0 547.5 137.5 C 547.5 143.75, 550.0 143.75, 550.0 150.0 C 550.0 163.75, 547.5 163.75, 547.5 177.5 A 2.5 2.5 0 0 0 551.4644660940672 178.96446609406726 A 5.0 5.0 0 1 1 551.4644660940672 186.03553390593274 A 2.5 2.5 0 0 0 547.5 187.5 C 547.5 193.75, 550.0 193.75, 550.0 200.0 C 550.0 206.25, 552.5 206.25, 552.5 212.5 A 2.5 2.5 0 0 1 548.5355339059328 213.96446609406726 A 5.0 5.0 0 1 0 548.5355339059328 221.03553390593274 A 2.5 2.5 0 0 1 552.5 222.5 C 552.5 236.25, 550.0 236.25, 550.0 250.0 C 550.0 260.0, 552.5 260.0, 552.5 270.0 A 2.5 2.5 0 0 1 548.5355339059328 271.46446609406723 A 5.0 5.0 0 1 0 548.5355339059328 278.53553390593277 A 2.5 2.5 0 0 1 552.5 280.0 C 552.5 290.0, 550.0 290.0, 550.0 300.0 C 550.0 313.75, 547.5 313.75, 547.5 327.5 A 2.5 2.5 0 0 0 551.4644660940672 328.9644660940673 A 5.0 5.0 0 1 1 551.4644660940672 336.03553390593277 A 2.5 2.5 0 0 0 547.5 337.5 C 547.5 343.75, 550.0 343.75, 550.0 350.0 C 550.0 356.25, 547.5 356.25, 547.5 362.5 A 2.5 2.5 0 0 0 551.4644660940672 363.96446609406723 A 5.0 5.0 0 1 1 551.4644660940672 371.0355339059327 A 2.5 2.5 0 0 0 547.5 372.5 C 547.5 386.25, 550.0 386.25, 550.0 400.0 M 600.0 0.0 L 600.0 50.0 L 600.0 100.0 L 600.0 150.0 L 600.0 200.0 L 600.0 250.0 L 600.0 300.0 L 600.0 350.0 L 600.0 400.0 M 0.0 0.0 L 50.0 0.0 L 100.0 0.0 L 150.0 0.0 L 200.0 0.0 L 250.0 0.0 L 300.0 0.0 L 350.0 0.0 L 400.0 0.0 L 450.0 0.0 L 500.0 0.0 L 550.0 0.0 L 600.0 0.0 M 0.0 50.0 C 10.0 50.0, 10.0 47.5, 20.0 47.5 A 2.5 2.5 0 0 1 21.464466094067262 51.46446609406726 A 5.0 5.0 0 1 0 28.535533905932738 51.46446609406726 A 2.5 2.5 0 0 1 30.0 47.5 C 40.0 47.5, 40.0 50.0, 50.0 50.0 C 60.0 50.0, 60.0 47.5, 70.0 47.5 A 2.5 2.5 0 0 1 71.46446609406726 51.46446609406726 A 5.0 5.0 0 1 0 78.53553390593274 51.46446609406726 A 2.5 2.5 0 0 1 80.0 47.5 C 90.0 47.5, 90.0 50.0, 100.0 50.0 C 110.0 50.0, 110.0 47.5, 120.0 47.5 A 2.5 2.5 0 0 1 121.46446609406726 51.46446609406726 A 5.0 5.0 0 1 0 128.53553390593274 51.46446609406726 A 2.5 2.5 0 0 1 130.0 47.5 C 140.0 47.5, 140.0 50.0, 150.0 50.0 C 159.0 50.0, 159.0 46.5, 168.0 46.5 A 3.4999999999999996 3.4999999999999996 0 0 1 170.05025253169418 52.05025253169417 A 6.999999999999999 6.999999999999999 0 1 0 179.94974746830582 52.05025253169417 A 3.4999999999999996 3.4999999999999996 0 0 1 182.0 46.5 C 191.0 46.5, 191.0 50.0, 200.0 50.0 L 250.0 50.0 C 256.25 50.0, 256.25 47.5, 262.5 47.5 A 2.5 2.5 0 0 1 263.96446609406723 51.46446609406726 A 5.0 5.0 0 1 0 271.0355339059327 51.46446609406726 A 2.5 2.5 0 0 1 272.5 47.5 C 275.0 47.5, 275.0 52.5, 277.5 52.5 A 2.5 2.5 0 0 0 278.9644660940673 48.53553390593274 A 5.0 5.0 0 1 1 286.03553390593277 48.53553390593274 A 2.5 2.5 0 0 0 287.5 52.5 C 293.75 52.5, 293.75 50.0, 300.0 50.0 C 313.75 50.0, 313.75 52.5, 327.5 52.5 A 2.5 2.5 0 0 0 328.9644660940673 48.53553390593274 A 5.0 5.0 0 1 1 336.03553390593277 48.53553390593274 A 2.5 2.5 0 0 0 337.5 52.5 C 343.75 52.5, 343.75 50.0, 350.0 50.0 C 356.25 50.0, 356.25 52.5, 362.5 52.5 A 2.5 2.5 0 0 0 363.96446609406723 48.53553390593274 A 5.0 5.0 0 1 1 371.0355339059327 48.53553390593274 A 2.5 2.5 0 0 0 372.5 52.5 C 375.0 52.5, 375.0 47.5, 377.5 47.5 A 2.5 2.5 0 0 1 378.9644660940673 51.46446609406726 A 5.0 5.0 0 1 0 386.03553390593277 51.46446609406726 A 2.5 2.5 0 0 1 387.5 47.5 C 393.75 47.5, 393.75 50.0, 400.0 50.0 C 413.75 50.0, 413.75 47.5, 427.5 47.5 A 2.5 2.5 0 0 1 428.9644660940673 51.46446609406726 A 5.0 5.0 0 1 0 436.03553390593277 51.46446609406726 A 2.5 2.5 0 0 1 437.5 47.5 C 443.75 47.5, 443.75 50.0, 450.0 50.0 C 463.75 50.0, 463.75 52.5, 477.5 52.5 A 2.5 2.5 0 0 0 478.9644660940673 48.53553390593274 A 5.0 5.0 0 1 1 486.03553390593277 48.53553390593274 A 2.5 2.5 0 0 0 487.5 52.5 C 493.75 52.5, 493.75 50.0, 500.0 50.0 C 506.25 50.0, 506.25 52.5, 512.5 52.5 A 2.5 2.5 0 0 0 513.9644660940672 48.53553390593274 A 5.0 5.0 0 1 1 521.0355339059328 48.53553390593274 A 2.5 2.5 0 0 0 522.5 52.5 C 536.25 52.5, 536.25 50.0, 550.0 50.0 C 563.75 50.0, 563.75 47.5, 577.5 47.5 A 2.5 2.5 0 0 1 578.9644660940672 51.46446609406726 A 5.0 5.0 0 1 0 586.0355339059328 51.46446609406726 A 2.5 2.5 0 0 1 587.5 47.5 C 593.75 47.5, 593.75 50.0, 600.0 50.0 M 0.0 100.0 C 10.0 100.0, 10.0 97.5, 20.0 97.5 A 2.5 2.5 0 0 1 21.464466094067262 101.46446609406726 A 5.0 5.0 0 1 0 28.535533905932738 101.46446609406726 A 2.5 2.5 0 0 1 30.0 97.5 C 40.0 97.5, 40.0 100.0, 50.0 100.0 L 100.0 100.0 C 110.0 100.0, 110.0 102.5, 120.0 102.5 A 2.5 2.5 0 0 0 121.46446609406726 98.53553390593274 A 5.0 5.0 0 1 1 128.53553390593274 98.53553390593274 A 2.5 2.5 0 0 0 130.0 102.5 C 140.0 102.5, 140.0 100.0, 150.0 100.0 C 160.0 100.0, 160.0 102.5, 170.0 102.5 A 2.5 2.5 0 0 0 171.46446609406726 98.53553390593274 A 5.0 5.0 0 1 1 178.53553390593274 98.53553390593274 A 2.5 2.5 0 0 0 180.0 102.5 C 190.0 102.5, 190.0 100.0, 200.0 100.0 C 210.0 100.0, 210.0 97.5, 220.0 97.5 A 2.5 2.5 0 0 1 221.46446609406726 101.46446609406726 A 5.0 5.0 0 1 0 228.53553390593274 101.46446609406726 A 2.5 2.5 0 0 1 230.0 97.5 C 240.0 97.5, 240.0 100.0, 250.0 100.0 L 300.0 100.0 C 306.25 100.0, 306.25 97.5, 312.5 97.5 A 2.5 2.5 0 0 1 313.96446609406723 101.46446609406726 A 5.0 5.0 0 1 0 321.0355339059327 101.46446609406726 A 2.5 2.5 0 0 1 322.5 97.5 C 336.25 97.5, 336.25 100.0, 350.0 100.0 C 356.25 100.0, 356.25 102.5, 362.5 102.5 A 2.5 2.5 0 0 0 363.96446609406723 98.53553390593274 A 5.0 5.0 0 1 1 371.0355339059327 98.53553390593274 A 2.5 2.5 0 0 0 372.5 102.5 C 375.0 102.5, 375.0 97.5, 377.5 97.5 A 2.5 2.5 0 0 1 378.9644660940673 101.46446609406726 A 5.0 5.0 0 1 0 386.03553390593277 101.46446609406726 A 2.5 2.5 0 0 1 387.5 97.5 C 393.75 97.5, 393.75 100.0, 400.0 100.0 C 410.0 100.0, 410.0 102.5, 420.0 102.5 A 2.5 2.5 0 0 0 421.46446609406723 98.53553390593274 A 5.0 5.0 0 1 1 428.53553390593277 98.53553390593274 A 2.5 2.5 0 0 0 430.0 102.5 C 440.0 102.5, 440.0 100.0, 450.0 100.0 L 500.0 100.0 L 550.0 100.0 C 563.75 100.0, 563.75 102.5, 577.5 102.5 A 2.5 2.5 0 0 0 578.9644660940672 98.53553390593274 A 5.0 5.0 0 1 1 586.0355339059328 98.53553390593274 A 2.5 2.5 0 0 0 587.5 102.5 C 593.75 102.5, 593.75 100.0, 600.0 100.0 M 0.0 150.0 C 10.0 150.0, 10.0 147.5, 20.0 147.5 A 2.5 2.5 0 0 1 21.464466094067262 151.46446609406726 A 5.0 5.0 0 1 0 28.535533905932738 151.46446609406726 A 2.5 2.5 0 0 1 30.0 147.5 C 40.0 147.5, 40.0 150.0, 50.0 150.0 C 59.0 150.0, 59.0 146.5, 68.0 146.5 A 3.4999999999999996 3.4999999999999996 0 0 1 70.05025253169417 152.05025253169416 A 6.999999999999999 6.999999999999999 0 1 0 79.94974746830583 152.05025253169416 A 3.4999999999999996 3.4999999999999996 0 0 1 82.0 146.5 C 91.0 146.5, 91.0 150.0, 100.0 150.0 C 110.0 150.0, 110.0 152.5, 120.0 152.5 A 2.5 2.5 0 0 0 121.46446609406726 148.53553390593274 A 5.0 5.0 0 1 1 128.53553390593274 148.53553390593274 A 2.5 2.5 0 0 0 130.0 152.5 C 140.0 152.5, 140.0 150.0, 150.0 150.0 C 160.0 150.0, 160.0 147.5, 170.0 147.5 A 2.5 2.5 0 0 1 171.46446609406726 151.46446609406726 A 5.0 5.0 0 1 0 178.53553390593274 151.46446609406726 A 2.5 2.5 0 0 1 180.0 147.5 C 190.0 147.5, 190.0 150.0, 200.0 150.0 C 210.0 150.0, 210.0 147.5, 220.0 147.5 A 2.5 2.5 0 0 1 221.46446609406726 151.46446609406726 A 5.0 5.0 0 1 0 228.53553390593274 151.46446609406726 A 2.5 2.5 0 0 1 230.0 147.5 C 240.0 147.5, 240.0 150.0, 250.0 150.0 L 300.0 150.0 L 350.0 150.0 C 363.75 150.0, 363.75 147.5, 377.5 147.5 A 2.5 2.5 0 0 1 378.9644660940673 151.46446609406726 A 5.0 5.0 0 1 0 386.03553390593277 151.46446609406726 A 2.5 2.5 0 0 1 387.5 147.5 C 393.75 147.5, 393.75 150.0, 400.0 150.0 C 410.0 150.0, 410.0 147.5, 420.0 147.5 A 2.5 2.5 0 0 1 421.46446609406723 151.46446609406726 A 5.0 5.0 0 1 0 428.53553390593277 151.46446609406726 A 2.5 2.5 0 0 1 430.0 147.5 C 440.0 147.5, 440.0 150.0, 450.0 150.0 C 460.0 150.0, 460.0 147.5, 470.0 147.5 A 2.5 2.5 0 0 1 471.46446609406723 151.46446609406726 A 5.0 5.0 0 1 0 478.53553390593277 151.46446609406726 A 2.5 2.5 0 0 1 480.0 147.5 C 490.0 147.5, 490.0 150.0, 500.0 150.0 C 510.0 150.0, 510.0 147.5, 520.0 147.5 A 2.5 2.5 0 0 1 521.4644660940672 151.46446609406726 A 5.0 5.0 0 1 0 528.5355339059328 151.46446609406726 A 2.5 2.5 0 0 1 530.0 147.5 C 540.0 147.5, 540.0 150.0, 550.0 150.0 C 556.25 150.0, 556.25 147.5, 562.5 147.5 A 2.5 2.5 0 0 1 563.9644660940672 151.46446609406726 A 5.0 5.0 0 1 0 571.0355339059328 151.46446609406726 A 2.5 2.5 0 0 1 572.5 147.5 C 586.25 147.5, 586.25 150.0, 600.0 150.0 M 0.0 200.0 L 50.0 200.0 L 100.0 200.0 L 150.0 200.0 L 200.0 200.0 L 250.0 200.0 L 300.0 200.0 L 350.0 200.0 L 400.0 200.0 L 450.0 200.0 L 500.0 200.0 L 550.0 200.0 L 600.0 200.0 M 0.0 250.0 L 50.0 250.0 C 63.75 250.0, 63.75 252.5, 77.5 252.5 A 2.5 2.5 0 0 0 78.96446609406726 248.53553390593274 A 5.0 5.0 0 1 1 86.03553390593274 248.53553390593274 A 2.5 2.5 0 0 0 87.5 252.5 C 93.75 252.5, 93.75 250.0, 100.0 250.0 C 110.0 250.0, 110.0 247.5, 120.0 247.5 A 2.5 2.5 0 0 1 121.46446609406726 251.46446609406726 A 5.0 5.0 0 1 0 128.53553390593274 251.46446609406726 A 2.5 2.5 0 0 1 130.0 247.5 C 140.0 247.5, 140.0 250.0, 150.0 250.0 C 160.0 250.0, 160.0 247.5, 170.0 247.5 A 2.5 2.5 0 0 1 171.46446609406726 251.46446609406726 A 5.0 5.0 0 1 0 178.53553390593274 251.46446609406726 A 2.5 2.5 0 0 1 180.0 247.5 C 190.0 247.5, 190.0 250.0, 200.0 250.0 L 250.0 250.0 C 259.0 250.0, 259.0 253.5, 268.0 253.5 A 3.4999999999999996 3.4999999999999996 0 0 0 270.0502525316942 247.94974746830584 A 6.999999999999999 6.999999999999999 0 1 1 279.9497474683058 247.94974746830584 A 3.4999999999999996 3.4999999999999996 0 0 0 282.0 253.5 C 291.0 253.5, 291.0 250.0, 300.0 250.0 C 309.0 250.0, 309.0 253.5, 318.0 253.5 A 3.4999999999999996 3.4999999999999996 0 0 0 320.0502525316942 247.94974746830584 A 6.999999999999999 6.999999999999999 0 1 1 329.9497474683058 247.94974746830584 A 3.4999999999999996 3.4999999999999996 0 0 0 332.0 253.5 C 341.0 253.5, 341.0 250.0, 350.0 250.0 C 359.0 250.0, 359.0 246.5, 368.0 246.5 A 3.4999999999999996 3.4999999999999996 0 0 1 370.0502525316942 252.05025253169416 A 6.999999999999999 6.999999999999999 0 1 0 379.9497474683058 252.05025253169416 A 3.4999999999999996 3.4999999999999996 0 0 1 382.0 246.5 C 391.0 246.5, 391.0 250.0, 400.0 250.0 C 406.25 250.0, 406.25 252.5, 412.5 252.5 A 2.5 2.5 0 0 0 413.96446609406723 248.53553390593274 A 5.0 5.0 0 1 1 421.0355339059327 248.53553390593274 A 2.5 2.5 0 0 0 422.5 252.5 C 436.25 252.5, 436.25 250.0, 450.0 250.0 C 456.25 250.0, 456.25 247.5, 462.5 247.5 A 2.5 2.5 0 0 1 463.96446609406723 251.46446609406726 A 5.0 5.0 0 1 0 471.0355339059327 251.46446609406726 A 2.5 2.5 0 0 1 472.5 247.5 L 477.5 247.5 A 2.5 2.5 0 0 1 478.9644660940673 251.46446609406726 A 5.0 5.0 0 1 0 486.03553390593277 251.46446609406726 A 2.5 2.5 0 0 1 487.5 247.5 C 493.75 247.5, 493.75 250.0, 500.0 250.0 C 510.0 250.0, 510.0 247.5, 520.0 247.5 A 2.5 2.5 0 0 1 521.4644660940672 251.46446609406726 A 5.0 5.0 0 1 0 528.5355339059328 251.46446609406726 A 2.5 2.5 0 0 1 530.0 247.5 C 540.0 247.5, 540.0 250.0, 550.0 250.0 C 556.25 250.0, 556.25 247.5, 562.5 247.5 A 2.5 2.5 0 0 1 563.9644660940672 251.46446609406726 A 5.0 5.0 0 1 0 571.0355339059328 251.46446609406726 A 2.5 2.5 0 0 1 572.5 247.5 C 586.25 247.5, 586.25 250.0, 600.0 250.0 M 0.0 300.0 C 9.0 300.0, 9.0 303.5, 18.0 303.5 A 3.4999999999999996 3.4999999999999996 0 0 0 20.05025253169417 297.9497474683058 A 6.999999999999999 6.999999999999999 0 1 1 29.94974746830583 297.9497474683058 A 3.4999999999999996 3.4999999999999996 0 0 0 32.0 303.5 C 41.0 303.5, 41.0 300.0, 50.0 300.0 L 100.0 300.0 C 106.25 300.0, 106.25 297.5, 112.5 297.5 A 2.5 2.5 0 0 1 113.96446609406726 301.46446609406723 A 5.0 5.0 0 1 0 121.03553390593274 301.46446609406723 A 2.5 2.5 0 0 1 122.5 297.5 C 136.25 297.5, 136.25 300.0, 150.0 300.0 C 156.25 300.0, 156.25 302.5, 162.5 302.5 A 2.5 2.5 0 0 0 163.96446609406726 298.53553390593277 A 5.0 5.0 0 1 1 171.03553390593274 298.53553390593277 A 2.5 2.5 0 0 0 172.5 302.5 C 186.25 302.5, 186.25 300.0, 200.0 300.0 C 210.0 300.0, 210.0 302.5, 220.0 302.5 A 2.5 2.5 0 0 0 221.46446609406726 298.53553390593277 A 5.0 5.0 0 1 1 228.53553390593274 298.53553390593277 A 2.5 2.5 0 0 0 230.0 302.5 C 240.0 302.5, 240.0 300.0, 250.0 300.0 C 260.0 300.0, 260.0 297.5, 270.0 297.5 A 2.5 2.5 0 0 1 271.46446609406723 301.46446609406723 A 5.0 5.0 0 1 0 278.53553390593277 301.46446609406723 A 2.5 2.5 0 0 1 280.0 297.5 C 290.0 297.5, 290.0 300.0, 300.0 300.0 C 309.0 300.0, 309.0 303.5, 318.0 303.5 A 3.4999999999999996 3.4999999999999996 0 0 0 320.0502525316942 297.9497474683058 A 6.999999999999999 6.999999999999999 0 1 1 329.9497474683058 297.9497474683058 A 3.4999999999999996 3.4999999999999996 0 0 0 332.0 303.5 C 341.0 303.5, 341.0 300.0, 350.0 300.0 C 359.0 300.0, 359.0 303.5, 368.0 303.5 A 3.4999999999999996 3.4999999999999996 0 0 0 370.0502525316942 297.9497474683058 A 6.999999999999999 6.999999999999999 0 1 1 379.9497474683058 297.9497474683058 A 3.4999999999999996 3.4999999999999996 0 0 0 382.0 303.5 C 391.0 303.5, 391.0 300.0, 400.0 300.0 C 413.75 300.0, 413.75 302.5, 427.5 302.5 A 2.5 2.5 0 0 0 428.9644660940673 298.53553390593277 A 5.0 5.0 0 1 1 436.03553390593277 298.53553390593277 A 2.5 2.5 0 0 0 437.5 302.5 C 443.75 302.5, 443.75 300.0, 450.0 300.0 C 456.25 300.0, 456.25 297.5, 462.5 297.5 A 2.5 2.5 0 0 1 463.96446609406723 301.46446609406723 A 5.0 5.0 0 1 0 471.0355339059327 301.46446609406723 A 2.5 2.5 0 0 1 472.5 297.5 C 486.25 297.5, 486.25 300.0, 500.0 300.0 C 513.75 300.0, 513.75 297.5, 527.5 297.5 A 2.5 2.5 0 0 1 528.9644660940672 301.46446609406723 A 5.0 5.0 0 1 0 536.0355339059328 301.46446609406723 A 2.5 2.5 0 0 1 537.5 297.5 C 543.75 297.5, 543.75 300.0, 550.0 300.0 C 560.0 300.0, 560.0 297.5, 570.0 297.5 A 2.5 2.5 0 0 1 571.4644660940672 301.46446609406723 A 5.0 5.0 0 1 0 578.5355339059328 301.46446609406723 A 2.5 2.5 0 0 1 580.0 297.5 C 590.0 297.5, 590.0 300.0, 600.0 300.0 M 0.0 350.0 C 9.0 350.0, 9.0 353.5, 18.0 353.5 A 3.4999999999999996 3.4999999999999996 0 0 0 20.05025253169417 347.9497474683058 A 6.999999999999999 6.999999999999999 0 1 1 29.94974746830583 347.9497474683058 A 3.4999999999999996 3.4999999999999996 0 0 0 32.0 353.5 C 41.0 353.5, 41.0 350.0, 50.0 350.0 C 59.0 350.0, 59.0 353.5, 68.0 353.5 A 3.4999999999999996 3.4999999999999996 0 0 0 70.05025253169417 347.9497474683058 A 6.999999999999999 6.999999999999999 0 1 1 79.94974746830583 347.9497474683058 A 3.4999999999999996 3.4999999999999996 0 0 0 82.0 353.5 C 91.0 353.5, 91.0 350.0, 100.0 350.0 L 150.0 350.0 C 156.25 350.0, 156.25 347.5, 162.5 347.5 A 2.5 2.5 0 0 1 163.96446609406726 351.46446609406723 A 5.0 5.0 0 1 0 171.03553390593274 351.46446609406723 A 2.5 2.5 0 0 1 172.5 347.5 C 186.25 347.5, 186.25 350.0, 200.0 350.0 C 210.0 350.0, 210.0 352.5, 220.0 352.5 A 2.5 2.5 0 0 0 221.46446609406726 348.53553390593277 A 5.0 5.0 0 1 1 228.53553390593274 348.53553390593277 A 2.5 2.5 0 0 0 230.0 352.5 C 240.0 352.5, 240.0 350.0, 250.0 350.0 C 260.0 350.0, 260.0 347.5, 270.0 347.5 A 2.5 2.5 0 0 1 271.46446609406723 351.46446609406723 A 5.0 5.0 0 1 0 278.53553390593277 351.46446609406723 A 2.5 2.5 0 0 1 280.0 347.5 C 290.0 347.5, 290.0 350.0, 300.0 350.0 C 309.0 350.0, 309.0 346.5, 318.0 346.5 A 3.4999999999999996 3.4999999999999996 0 0 1 320.0502525316942 352.0502525316942 A 6.999999999999999 6.999999999999999 0 1 0 329.9497474683058 352.0502525316942 A 3.4999999999999996 3.4999999999999996 0 0 1 332.0 346.5 C 341.0 346.5, 341.0 350.0, 350.0 350.0 C 359.0 350.0, 359.0 353.5, 368.0 353.5 A 3.4999999999999996 3.4999999999999996 0 0 0 370.0502525316942 347.9497474683058 A 6.999999999999999 6.999999999999999 0 1 1 379.9497474683058 347.9497474683058 A 3.4999999999999996 3.4999999999999996 0 0 0 382.0 353.5 C 391.0 353.5, 391.0 350.0, 400.0 350.0 C 410.0 350.0, 410.0 352.5, 420.0 352.5 A 2.5 2.5 0 0 0 421.46446609406723 348.53553390593277 A 5.0 5.0 0 1 1 428.53553390593277 348.53553390593277 A 2.5 2.5 0 0 0 430.0 352.5 C 440.0 352.5, 440.0 350.0, 450.0 350.0 C 456.25 350.0, 456.25 352.5, 462.5 352.5 A 2.5 2.5 0 0 0 463.96446609406723 348.53553390593277 A 5.0 5.0 0 1 1 471.0355339059327 348.53553390593277 A 2.5 2.5 0 0 0 472.5 352.5 C 486.25 352.5, 486.25 350.0, 500.0 350.0 C 506.25 350.0, 506.25 347.5, 512.5 347.5 A 2.5 2.5 0 0 1 513.9644660940672 351.46446609406723 A 5.0 5.0 0 1 0 521.0355339059328 351.46446609406723 A 2.5 2.5 0 0 1 522.5 347.5 L 527.5 347.5 A 2.5 2.5 0 0 1 528.9644660940672 351.46446609406723 A 5.0 5.0 0 1 0 536.0355339059328 351.46446609406723 A 2.5 2.5 0 0 1 537.5 347.5 C 543.75 347.5, 543.75 350.0, 550.0 350.0 C 560.0 350.0, 560.0 347.5, 570.0 347.5 A 2.5 2.5 0 0 1 571.4644660940672 351.46446609406723 A 5.0 5.0 0 1 0 578.5355339059328 351.46446609406723 A 2.5 2.5 0 0 1 580.0 347.5 C 590.0 347.5, 590.0 350.0, 600.0 350.0 M 0.0 400.0 L 50.0 400.0 L 100.0 400.0 L 150.0 400.0 L 200.0 400.0 L 250.0 400.0 L 300.0 400.0 L 350.0 400.0 L 400.0 400.0 L 450.0 400.0 L 500.0 400.0 L 550.0 400.0 L 600.0 400.0\"/></g></svg></div>"
      ],
      "text/plain": [
       "<IPython.core.display.HTML object>"
      ]
     },
     "metadata": {},
     "output_type": "display_data"
    }
   ],
   "source": [
    "# Pack jigsaw puzzles as a single grid\n",
    "pieces = np.zeros((8, 12, 4), dtype=np.uint8)\n",
    "pieces[0:4, 0:4] = pieces_4x4_5th\n",
    "pieces[4:8, 0:4] = pieces_4x4_split\n",
    "pieces[0:4, 4:8] = pieces_4x4_snake\n",
    "pieces[4:8, 4:8] = pieces_4x4_pure\n",
    "pieces[0:4, 8:12] = pieces_4x4_edge\n",
    "pieces[4:8, 8:12] = pieces_4x4_6_corners\n",
    "horizontal_edges, vertical_edges = pieces_to_grid(pieces, opposite)\n",
    "display_grid(horizontal_edges, vertical_edges, scale=50.0, margin=0)\n",
    "with open(\"selection_01.svg\", \"w\") as file:\n",
    "    file.write(grid_to_svg(horizontal_edges, vertical_edges, scale=25.0, margin=1/25))"
   ]
  },
  {
   "cell_type": "code",
   "execution_count": 42,
   "id": "1c12fed3",
   "metadata": {},
   "outputs": [],
   "source": [
    "# TODO pieces_5x5_nested, pieces_5x5_5th"
   ]
  },
  {
   "cell_type": "markdown",
   "id": "79e5700e",
   "metadata": {},
   "source": [
    "## Individual packing"
   ]
  },
  {
   "cell_type": "code",
   "execution_count": 43,
   "id": "ba54ca0d",
   "metadata": {},
   "outputs": [
    {
     "name": "stderr",
     "output_type": "stream",
     "text": [
      "C:\\Users\\Jojo\\AppData\\Local\\Temp\\ipykernel_13952\\2873478938.py:2: DeprecationWarning: Importing display from IPython.core.display is deprecated since IPython 7.14, please import from IPython display\n",
      "  from IPython.core.display import HTML, display\n"
     ]
    }
   ],
   "source": [
    "from jigsaw.svg import get_style\n",
    "from IPython.core.display import HTML, display"
   ]
  },
  {
   "cell_type": "code",
   "execution_count": 44,
   "id": "fda720ca",
   "metadata": {},
   "outputs": [
    {
     "data": {
      "text/html": [
       "<div style=\"padding:1em\"><svg width=\"601\" height=\"401\" xmlns=\"http://www.w3.org/2000/svg\"><path fill=\"none\" stroke=\"black\" d=\"M 12.5 12.5 L 12.5 37.5 C 17.5 37.5, 17.5 36.25, 22.5 36.25 A 1.25 1.25 0 0 1 23.23223304703363 38.23223304703363 A 2.5 2.5 0 1 0 26.76776695296637 38.23223304703363 A 1.25 1.25 0 0 1 27.5 36.25 C 32.5 36.25, 32.5 37.5, 37.5 37.5 C 37.5 32.5, 38.75 32.5, 38.75 27.5 A 1.25 1.25 0 0 0 36.76776695296637 26.76776695296637 A 2.5 2.5 0 1 1 36.76776695296637 23.23223304703363 A 1.25 1.25 0 0 0 38.75 22.5 C 38.75 17.5, 37.5 17.5, 37.5 12.5 L 12.5 12.5 Z M 62.5 12.5 C 62.5 17.5, 63.75 17.5, 63.75 22.5 A 1.25 1.25 0 0 1 61.76776695296637 23.23223304703363 A 2.5 2.5 0 1 0 61.76776695296637 26.76776695296637 A 1.25 1.25 0 0 1 63.75 27.5 C 63.75 32.5, 62.5 32.5, 62.5 37.5 C 67.5 37.5, 67.5 36.25, 72.5 36.25 A 1.25 1.25 0 0 1 73.23223304703363 38.23223304703363 A 2.5 2.5 0 1 0 76.76776695296637 38.23223304703363 A 1.25 1.25 0 0 1 77.5 36.25 C 82.5 36.25, 82.5 37.5, 87.5 37.5 C 87.5 32.5, 88.75 32.5, 88.75 27.5 A 1.25 1.25 0 0 0 86.76776695296637 26.76776695296637 A 2.5 2.5 0 1 1 86.76776695296637 23.23223304703363 A 1.25 1.25 0 0 0 88.75 22.5 C 88.75 17.5, 87.5 17.5, 87.5 12.5 L 62.5 12.5 Z M 112.5 12.5 C 112.5 17.5, 113.75 17.5, 113.75 22.5 A 1.25 1.25 0 0 1 111.76776695296637 23.23223304703363 A 2.5 2.5 0 1 0 111.76776695296637 26.76776695296637 A 1.25 1.25 0 0 1 113.75 27.5 C 113.75 32.5, 112.5 32.5, 112.5 37.5 C 117.5 37.5, 117.5 36.25, 122.5 36.25 A 1.25 1.25 0 0 1 123.23223304703363 38.23223304703363 A 2.5 2.5 0 1 0 126.76776695296637 38.23223304703363 A 1.25 1.25 0 0 1 127.5 36.25 C 132.5 36.25, 132.5 37.5, 137.5 37.5 C 137.5 33.0, 139.25 33.0, 139.25 28.5 A 1.7499999999999998 1.7499999999999998 0 0 0 136.4748737341529 27.474873734152915 A 3.4999999999999996 3.4999999999999996 0 1 1 136.4748737341529 22.525126265847085 A 1.7499999999999998 1.7499999999999998 0 0 0 139.25 21.5 C 139.25 17.0, 137.5 17.0, 137.5 12.5 L 112.5 12.5 Z M 162.5 12.5 C 162.5 17.0, 164.25 17.0, 164.25 21.5 A 1.7499999999999998 1.7499999999999998 0 0 1 161.4748737341529 22.525126265847085 A 3.4999999999999996 3.4999999999999996 0 1 0 161.4748737341529 27.474873734152915 A 1.7499999999999998 1.7499999999999998 0 0 1 164.25 28.5 C 164.25 33.0, 162.5 33.0, 162.5 37.5 C 167.0 37.5, 167.0 35.75, 171.5 35.75 A 1.7499999999999998 1.7499999999999998 0 0 1 172.5251262658471 38.525126265847085 A 3.4999999999999996 3.4999999999999996 0 1 0 177.4748737341529 38.525126265847085 A 1.7499999999999998 1.7499999999999998 0 0 1 178.5 35.75 C 183.0 35.75, 183.0 37.5, 187.5 37.5 L 187.5 12.5 L 162.5 12.5 Z M 212.5 12.5 L 212.5 37.5 L 237.5 37.5 C 237.5 34.375, 236.25 34.375, 236.25 31.25 A 1.25 1.25 0 0 1 238.23223304703362 30.51776695296637 A 2.5 2.5 0 1 0 238.23223304703362 26.98223304703363 A 1.25 1.25 0 0 1 236.25 26.25 C 236.25 25.0, 238.75 25.0, 238.75 23.75 A 1.25 1.25 0 0 0 236.76776695296638 23.01776695296637 A 2.5 2.5 0 1 1 236.76776695296638 19.48223304703363 A 1.25 1.25 0 0 0 238.75 18.75 C 238.75 15.625, 237.5 15.625, 237.5 12.5 L 212.5 12.5 Z M 262.5 12.5 C 262.5 15.625, 263.75 15.625, 263.75 18.75 A 1.25 1.25 0 0 1 261.7677669529664 19.48223304703363 A 2.5 2.5 0 1 0 261.7677669529664 23.01776695296637 A 1.25 1.25 0 0 1 263.75 23.75 C 263.75 25.0, 261.25 25.0, 261.25 26.25 A 1.25 1.25 0 0 0 263.2322330470336 26.98223304703363 A 2.5 2.5 0 1 1 263.2322330470336 30.51776695296637 A 1.25 1.25 0 0 0 261.25 31.25 C 261.25 34.375, 262.5 34.375, 262.5 37.5 C 265.625 37.5, 265.625 36.25, 268.75 36.25 A 1.25 1.25 0 0 1 269.4822330470336 38.23223304703363 A 2.5 2.5 0 1 0 273.0177669529664 38.23223304703363 A 1.25 1.25 0 0 1 273.75 36.25 C 275.0 36.25, 275.0 38.75, 276.25 38.75 A 1.25 1.25 0 0 0 276.9822330470336 36.76776695296637 A 2.5 2.5 0 1 1 280.5177669529664 36.76776695296637 A 1.25 1.25 0 0 0 281.25 38.75 C 284.375 38.75, 284.375 37.5, 287.5 37.5 L 287.5 12.5 L 262.5 12.5 Z M 312.5 12.5 L 312.5 37.5 C 319.375 37.5, 319.375 38.75, 326.25 38.75 A 1.25 1.25 0 0 0 326.9822330470336 36.76776695296637 A 2.5 2.5 0 1 1 330.5177669529664 36.76776695296637 A 1.25 1.25 0 0 0 331.25 38.75 C 334.375 38.75, 334.375 37.5, 337.5 37.5 C 337.5 34.375, 336.25 34.375, 336.25 31.25 A 1.25 1.25 0 0 1 338.2322330470336 30.51776695296637 A 2.5 2.5 0 1 0 338.2322330470336 26.98223304703363 A 1.25 1.25 0 0 1 336.25 26.25 L 336.25 23.75 A 1.25 1.25 0 0 1 338.2322330470336 23.01776695296637 A 2.5 2.5 0 1 0 338.2322330470336 19.48223304703363 A 1.25 1.25 0 0 1 336.25 18.75 C 336.25 15.625, 337.5 15.625, 337.5 12.5 L 312.5 12.5 Z M 362.5 12.5 C 362.5 15.625, 361.25 15.625, 361.25 18.75 A 1.25 1.25 0 0 0 363.2322330470336 19.48223304703363 A 2.5 2.5 0 1 1 363.2322330470336 23.01776695296637 A 1.25 1.25 0 0 0 361.25 23.75 L 361.25 26.25 A 1.25 1.25 0 0 0 363.2322330470336 26.98223304703363 A 2.5 2.5 0 1 1 363.2322330470336 30.51776695296637 A 1.25 1.25 0 0 0 361.25 31.25 C 361.25 34.375, 362.5 34.375, 362.5 37.5 C 365.625 37.5, 365.625 38.75, 368.75 38.75 A 1.25 1.25 0 0 0 369.4822330470336 36.76776695296637 A 2.5 2.5 0 1 1 373.0177669529664 36.76776695296637 A 1.25 1.25 0 0 0 373.75 38.75 C 375.0 38.75, 375.0 36.25, 376.25 36.25 A 1.25 1.25 0 0 1 376.9822330470336 38.23223304703363 A 2.5 2.5 0 1 0 380.5177669529664 38.23223304703363 A 1.25 1.25 0 0 1 381.25 36.25 C 384.375 36.25, 384.375 37.5, 387.5 37.5 L 387.5 12.5 L 362.5 12.5 Z M 412.5 12.5 L 412.5 37.5 C 419.375 37.5, 419.375 36.25, 426.25 36.25 A 1.25 1.25 0 0 1 426.9822330470336 38.23223304703363 A 2.5 2.5 0 1 0 430.5177669529664 38.23223304703363 A 1.25 1.25 0 0 1 431.25 36.25 C 434.375 36.25, 434.375 37.5, 437.5 37.5 C 437.5 30.625, 436.25 30.625, 436.25 23.75 A 1.25 1.25 0 0 1 438.2322330470336 23.01776695296637 A 2.5 2.5 0 1 0 438.2322330470336 19.48223304703363 A 1.25 1.25 0 0 1 436.25 18.75 C 436.25 15.625, 437.5 15.625, 437.5 12.5 L 412.5 12.5 Z M 462.5 12.5 C 462.5 15.625, 461.25 15.625, 461.25 18.75 A 1.25 1.25 0 0 0 463.2322330470336 19.48223304703363 A 2.5 2.5 0 1 1 463.2322330470336 23.01776695296637 A 1.25 1.25 0 0 0 461.25 23.75 C 461.25 30.625000000000004, 462.5 30.625000000000004, 462.5 37.5 C 469.375 37.5, 469.375 38.75, 476.25 38.75 A 1.25 1.25 0 0 0 476.9822330470336 36.76776695296637 A 2.5 2.5 0 1 1 480.5177669529664 36.76776695296637 A 1.25 1.25 0 0 0 481.25 38.75 C 484.375 38.75, 484.375 37.5, 487.5 37.5 C 487.5 34.375, 488.75 34.375, 488.75 31.25 A 1.25 1.25 0 0 0 486.7677669529664 30.51776695296637 A 2.5 2.5 0 1 1 486.7677669529664 26.98223304703363 A 1.25 1.25 0 0 0 488.75 26.25 C 488.75 19.374999999999996, 487.5 19.374999999999996, 487.5 12.5 L 462.5 12.5 Z M 512.5 12.5 C 512.5 19.375, 513.75 19.375, 513.75 26.25 A 1.25 1.25 0 0 1 511.7677669529664 26.98223304703363 A 2.5 2.5 0 1 0 511.7677669529664 30.51776695296637 A 1.25 1.25 0 0 1 513.75 31.25 C 513.75 34.375, 512.5 34.375, 512.5 37.5 C 515.625 37.5, 515.625 38.75, 518.75 38.75 A 1.25 1.25 0 0 0 519.4822330470337 36.76776695296637 A 2.5 2.5 0 1 1 523.0177669529663 36.76776695296637 A 1.25 1.25 0 0 0 523.75 38.75 C 530.625 38.75, 530.625 37.5, 537.5 37.5 C 537.5 34.375, 536.25 34.375, 536.25 31.25 A 1.25 1.25 0 0 1 538.2322330470337 30.51776695296637 A 2.5 2.5 0 1 0 538.2322330470337 26.98223304703363 A 1.25 1.25 0 0 1 536.25 26.25 C 536.25 19.374999999999996, 537.5 19.374999999999996, 537.5 12.5 L 512.5 12.5 Z M 562.5 12.5 C 562.5 19.375, 561.25 19.375, 561.25 26.25 A 1.25 1.25 0 0 0 563.2322330470337 26.98223304703363 A 2.5 2.5 0 1 1 563.2322330470337 30.51776695296637 A 1.25 1.25 0 0 0 561.25 31.25 C 561.25 34.375, 562.5 34.375, 562.5 37.5 C 569.375 37.5, 569.375 36.25, 576.25 36.25 A 1.25 1.25 0 0 1 576.9822330470337 38.23223304703363 A 2.5 2.5 0 1 0 580.5177669529663 38.23223304703363 A 1.25 1.25 0 0 1 581.25 36.25 C 584.375 36.25, 584.375 37.5, 587.5 37.5 L 587.5 12.5 L 562.5 12.5 Z M 12.5 62.5 L 12.5 87.5 C 17.5 87.5, 17.5 86.25, 22.5 86.25 A 1.25 1.25 0 0 1 23.23223304703363 88.23223304703363 A 2.5 2.5 0 1 0 26.76776695296637 88.23223304703363 A 1.25 1.25 0 0 1 27.5 86.25 C 32.5 86.25, 32.5 87.5, 37.5 87.5 C 37.5 82.5, 36.25 82.5, 36.25 77.5 A 1.25 1.25 0 0 1 38.23223304703363 76.76776695296637 A 2.5 2.5 0 1 0 38.23223304703363 73.23223304703363 A 1.25 1.25 0 0 1 36.25 72.5 C 36.25 67.5, 37.5 67.5, 37.5 62.5 C 32.5 62.5, 32.5 61.25, 27.5 61.25 A 1.25 1.25 0 0 0 26.76776695296637 63.23223304703363 A 2.5 2.5 0 1 1 23.23223304703363 63.23223304703363 A 1.25 1.25 0 0 0 22.5 61.25 C 17.5 61.25, 17.5 62.5, 12.5 62.5 Z M 62.5 62.5 C 62.5 67.5, 61.25 67.5, 61.25 72.5 A 1.25 1.25 0 0 0 63.23223304703363 73.23223304703363 A 2.5 2.5 0 1 1 63.23223304703363 76.76776695296637 A 1.25 1.25 0 0 0 61.25 77.5 C 61.25 82.5, 62.5 82.5, 62.5 87.5 L 87.5 87.5 L 87.5 62.5 C 82.5 62.5, 82.5 61.25, 77.5 61.25 A 1.25 1.25 0 0 0 76.76776695296637 63.23223304703363 A 2.5 2.5 0 1 1 73.23223304703363 63.23223304703363 A 1.25 1.25 0 0 0 72.5 61.25 C 67.5 61.25, 67.5 62.5, 62.5 62.5 Z M 112.5 62.5 L 112.5 87.5 C 117.5 87.5, 117.5 88.75, 122.5 88.75 A 1.25 1.25 0 0 0 123.23223304703363 86.76776695296637 A 2.5 2.5 0 1 1 126.76776695296637 86.76776695296637 A 1.25 1.25 0 0 0 127.5 88.75 C 132.5 88.75, 132.5 87.5, 137.5 87.5 C 137.5 82.5, 136.25 82.5, 136.25 77.5 A 1.25 1.25 0 0 1 138.23223304703362 76.76776695296637 A 2.5 2.5 0 1 0 138.23223304703362 73.23223304703363 A 1.25 1.25 0 0 1 136.25 72.5 C 136.25 67.5, 137.5 67.5, 137.5 62.5 C 132.5 62.5, 132.5 61.25, 127.5 61.25 A 1.25 1.25 0 0 0 126.76776695296637 63.23223304703363 A 2.5 2.5 0 1 1 123.23223304703363 63.23223304703363 A 1.25 1.25 0 0 0 122.5 61.25 C 117.5 61.25, 117.5 62.5, 112.5 62.5 Z M 162.5 62.5 C 162.5 67.5, 161.25 67.5, 161.25 72.5 A 1.25 1.25 0 0 0 163.23223304703362 73.23223304703363 A 2.5 2.5 0 1 1 163.23223304703362 76.76776695296637 A 1.25 1.25 0 0 0 161.25 77.5 C 161.25 82.5, 162.5 82.5, 162.5 87.5 C 167.5 87.5, 167.5 88.75, 172.5 88.75 A 1.25 1.25 0 0 0 173.23223304703362 86.76776695296637 A 2.5 2.5 0 1 1 176.76776695296638 86.76776695296637 A 1.25 1.25 0 0 0 177.5 88.75 C 182.5 88.75, 182.5 87.5, 187.5 87.5 L 187.5 62.5 C 183.0 62.5, 183.0 60.75, 178.5 60.75 A 1.7499999999999998 1.7499999999999998 0 0 0 177.4748737341529 63.525126265847085 A 3.4999999999999996 3.4999999999999996 0 1 1 172.5251262658471 63.525126265847085 A 1.7499999999999998 1.7499999999999998 0 0 0 171.5 60.75 C 167.0 60.75, 167.0 62.5, 162.5 62.5 Z M 212.5 62.5 L 212.5 87.5 C 217.5 87.5, 217.5 86.25, 222.5 86.25 A 1.25 1.25 0 0 1 223.23223304703362 88.23223304703363 A 2.5 2.5 0 1 0 226.76776695296638 88.23223304703363 A 1.25 1.25 0 0 1 227.5 86.25 C 232.5 86.25, 232.5 87.5, 237.5 87.5 C 237.5 82.5, 236.25 82.5, 236.25 77.5 A 1.25 1.25 0 0 1 238.23223304703362 76.76776695296637 A 2.5 2.5 0 1 0 238.23223304703362 73.23223304703363 A 1.25 1.25 0 0 1 236.25 72.5 C 236.25 67.5, 237.5 67.5, 237.5 62.5 L 212.5 62.5 Z M 262.5 62.5 C 262.5 67.5, 261.25 67.5, 261.25 72.5 A 1.25 1.25 0 0 0 263.2322330470336 73.23223304703363 A 2.5 2.5 0 1 1 263.2322330470336 76.76776695296637 A 1.25 1.25 0 0 0 261.25 77.5 C 261.25 82.5, 262.5 82.5, 262.5 87.5 L 287.5 87.5 L 287.5 62.5 C 284.375 62.5, 284.375 63.75, 281.25 63.75 A 1.25 1.25 0 0 1 280.5177669529664 61.76776695296637 A 2.5 2.5 0 1 0 276.9822330470336 61.76776695296637 A 1.25 1.25 0 0 1 276.25 63.75 C 275.0 63.75, 275.0 61.25, 273.75 61.25 A 1.25 1.25 0 0 0 273.0177669529664 63.23223304703363 A 2.5 2.5 0 1 1 269.4822330470336 63.23223304703363 A 1.25 1.25 0 0 0 268.75 61.25 C 265.625 61.25, 265.625 62.5, 262.5 62.5 Z M 312.5 62.5 L 312.5 87.5 C 315.625 87.5, 315.625 86.25, 318.75 86.25 A 1.25 1.25 0 0 1 319.4822330470336 88.23223304703363 A 2.5 2.5 0 1 0 323.0177669529664 88.23223304703363 A 1.25 1.25 0 0 1 323.75 86.25 C 330.625 86.25, 330.625 87.5, 337.5 87.5 L 337.5 62.5 C 334.375 62.5, 334.375 63.75, 331.25 63.75 A 1.25 1.25 0 0 1 330.5177669529664 61.76776695296637 A 2.5 2.5 0 1 0 326.9822330470336 61.76776695296637 A 1.25 1.25 0 0 1 326.25 63.75 C 319.375 63.75, 319.375 62.5, 312.5 62.5 Z M 362.5 62.5 L 362.5 87.5 C 365.625 87.5, 365.625 88.75, 368.75 88.75 A 1.25 1.25 0 0 0 369.4822330470336 86.76776695296637 A 2.5 2.5 0 1 1 373.0177669529664 86.76776695296637 A 1.25 1.25 0 0 0 373.75 88.75 C 375.0 88.75, 375.0 86.25, 376.25 86.25 A 1.25 1.25 0 0 1 376.9822330470336 88.23223304703363 A 2.5 2.5 0 1 0 380.5177669529664 88.23223304703363 A 1.25 1.25 0 0 1 381.25 86.25 C 384.375 86.25, 384.375 87.5, 387.5 87.5 L 387.5 62.5 C 384.375 62.5, 384.375 61.25, 381.25 61.25 A 1.25 1.25 0 0 0 380.5177669529664 63.23223304703363 A 2.5 2.5 0 1 1 376.9822330470336 63.23223304703363 A 1.25 1.25 0 0 0 376.25 61.25 C 375.0 61.25, 375.0 63.75, 373.75 63.75 A 1.25 1.25 0 0 1 373.0177669529664 61.76776695296637 A 2.5 2.5 0 1 0 369.4822330470336 61.76776695296637 A 1.25 1.25 0 0 1 368.75 63.75 C 365.625 63.75, 365.625 62.5, 362.5 62.5 Z M 412.5 62.5 L 412.5 87.5 C 417.5 87.5, 417.5 88.75, 422.5 88.75 A 1.25 1.25 0 0 0 423.2322330470336 86.76776695296637 A 2.5 2.5 0 1 1 426.7677669529664 86.76776695296637 A 1.25 1.25 0 0 0 427.5 88.75 C 432.5 88.75, 432.5 87.5, 437.5 87.5 C 437.5 82.5, 436.25 82.5, 436.25 77.5 A 1.25 1.25 0 0 1 438.2322330470336 76.76776695296637 A 2.5 2.5 0 1 0 438.2322330470336 73.23223304703363 A 1.25 1.25 0 0 1 436.25 72.5 C 436.25 67.5, 437.5 67.5, 437.5 62.5 C 434.375 62.5, 434.375 61.25, 431.25 61.25 A 1.25 1.25 0 0 0 430.5177669529664 63.23223304703363 A 2.5 2.5 0 1 1 426.9822330470336 63.23223304703363 A 1.25 1.25 0 0 0 426.25 61.25 C 419.375 61.25, 419.375 62.5, 412.5 62.5 Z M 462.5 62.5 C 462.5 67.5, 461.25 67.5, 461.25 72.5 A 1.25 1.25 0 0 0 463.2322330470336 73.23223304703363 A 2.5 2.5 0 1 1 463.2322330470336 76.76776695296637 A 1.25 1.25 0 0 0 461.25 77.5 C 461.25 82.5, 462.5 82.5, 462.5 87.5 L 487.5 87.5 C 487.5 84.375, 488.75 84.375, 488.75 81.25 A 1.25 1.25 0 0 0 486.7677669529664 80.51776695296637 A 2.5 2.5 0 1 1 486.7677669529664 76.98223304703363 A 1.25 1.25 0 0 0 488.75 76.25 L 488.75 73.75 A 1.25 1.25 0 0 0 486.7677669529664 73.01776695296637 A 2.5 2.5 0 1 1 486.7677669529664 69.48223304703363 A 1.25 1.25 0 0 0 488.75 68.75 C 488.75 65.625, 487.5 65.625, 487.5 62.5 C 484.375 62.5, 484.375 63.75, 481.25 63.75 A 1.25 1.25 0 0 1 480.5177669529664 61.76776695296637 A 2.5 2.5 0 1 0 476.9822330470336 61.76776695296637 A 1.25 1.25 0 0 1 476.25 63.75 C 469.375 63.75, 469.375 62.5, 462.5 62.5 Z M 512.5 62.5 C 512.5 65.625, 513.75 65.625, 513.75 68.75 A 1.25 1.25 0 0 1 511.7677669529664 69.48223304703363 A 2.5 2.5 0 1 0 511.7677669529664 73.01776695296637 A 1.25 1.25 0 0 1 513.75 73.75 L 513.75 76.25 A 1.25 1.25 0 0 1 511.7677669529664 76.98223304703363 A 2.5 2.5 0 1 0 511.7677669529664 80.51776695296637 A 1.25 1.25 0 0 1 513.75 81.25 C 513.75 84.375, 512.5 84.375, 512.5 87.5 L 537.5 87.5 C 537.5 80.625, 536.25 80.625, 536.25 73.75 A 1.25 1.25 0 0 1 538.2322330470337 73.01776695296637 A 2.5 2.5 0 1 0 538.2322330470337 69.48223304703363 A 1.25 1.25 0 0 1 536.25 68.75 C 536.25 65.625, 537.5 65.625, 537.5 62.5 C 530.625 62.5, 530.625 63.75, 523.75 63.75 A 1.25 1.25 0 0 1 523.0177669529663 61.76776695296637 A 2.5 2.5 0 1 0 519.4822330470337 61.76776695296637 A 1.25 1.25 0 0 1 518.75 63.75 C 515.625 63.75, 515.625 62.5, 512.5 62.5 Z M 562.5 62.5 C 562.5 65.625, 561.25 65.625, 561.25 68.75 A 1.25 1.25 0 0 0 563.2322330470337 69.48223304703363 A 2.5 2.5 0 1 1 563.2322330470337 73.01776695296637 A 1.25 1.25 0 0 0 561.25 73.75 C 561.25 80.625, 562.5 80.625, 562.5 87.5 C 569.375 87.5, 569.375 88.75, 576.25 88.75 A 1.25 1.25 0 0 0 576.9822330470337 86.76776695296637 A 2.5 2.5 0 1 1 580.5177669529663 86.76776695296637 A 1.25 1.25 0 0 0 581.25 88.75 C 584.375 88.75, 584.375 87.5, 587.5 87.5 L 587.5 62.5 C 584.375 62.5, 584.375 61.25, 581.25 61.25 A 1.25 1.25 0 0 0 580.5177669529663 63.23223304703363 A 2.5 2.5 0 1 1 576.9822330470337 63.23223304703363 A 1.25 1.25 0 0 0 576.25 61.25 C 569.375 61.25, 569.375 62.5, 562.5 62.5 Z M 12.5 112.5 L 12.5 137.5 C 17.5 137.5, 17.5 136.25, 22.5 136.25 A 1.25 1.25 0 0 1 23.23223304703363 138.23223304703362 A 2.5 2.5 0 1 0 26.76776695296637 138.23223304703362 A 1.25 1.25 0 0 1 27.5 136.25 C 32.5 136.25, 32.5 137.5, 37.5 137.5 C 37.5 132.5, 36.25 132.5, 36.25 127.5 A 1.25 1.25 0 0 1 38.23223304703363 126.76776695296637 A 2.5 2.5 0 1 0 38.23223304703363 123.23223304703363 A 1.25 1.25 0 0 1 36.25 122.5 C 36.25 117.5, 37.5 117.5, 37.5 112.5 C 32.5 112.5, 32.5 111.25, 27.5 111.25 A 1.25 1.25 0 0 0 26.76776695296637 113.23223304703363 A 2.5 2.5 0 1 1 23.23223304703363 113.23223304703363 A 1.25 1.25 0 0 0 22.5 111.25 C 17.5 111.25, 17.5 112.5, 12.5 112.5 Z M 62.5 112.5 C 62.5 117.5, 61.25 117.5, 61.25 122.5 A 1.25 1.25 0 0 0 63.23223304703363 123.23223304703363 A 2.5 2.5 0 1 1 63.23223304703363 126.76776695296637 A 1.25 1.25 0 0 0 61.25 127.5 C 61.25 132.5, 62.5 132.5, 62.5 137.5 C 67.0 137.5, 67.0 135.75, 71.5 135.75 A 1.7499999999999998 1.7499999999999998 0 0 1 72.52512626584709 138.5251262658471 A 3.4999999999999996 3.4999999999999996 0 1 0 77.47487373415291 138.5251262658471 A 1.7499999999999998 1.7499999999999998 0 0 1 78.5 135.75 C 83.0 135.75, 83.0 137.5, 87.5 137.5 C 87.5 132.5, 88.75 132.5, 88.75 127.5 A 1.25 1.25 0 0 0 86.76776695296637 126.76776695296637 A 2.5 2.5 0 1 1 86.76776695296637 123.23223304703363 A 1.25 1.25 0 0 0 88.75 122.5 C 88.75 117.5, 87.5 117.5, 87.5 112.5 L 62.5 112.5 Z M 112.5 112.5 C 112.5 117.5, 113.75 117.5, 113.75 122.5 A 1.25 1.25 0 0 1 111.76776695296637 123.23223304703363 A 2.5 2.5 0 1 0 111.76776695296637 126.76776695296637 A 1.25 1.25 0 0 1 113.75 127.5 C 113.75 132.5, 112.5 132.5, 112.5 137.5 C 117.5 137.5, 117.5 138.75, 122.5 138.75 A 1.25 1.25 0 0 0 123.23223304703363 136.76776695296638 A 2.5 2.5 0 1 1 126.76776695296637 136.76776695296638 A 1.25 1.25 0 0 0 127.5 138.75 C 132.5 138.75, 132.5 137.5, 137.5 137.5 C 137.5 132.5, 136.25 132.5, 136.25 127.5 A 1.25 1.25 0 0 1 138.23223304703362 126.76776695296637 A 2.5 2.5 0 1 0 138.23223304703362 123.23223304703363 A 1.25 1.25 0 0 1 136.25 122.5 C 136.25 117.5, 137.5 117.5, 137.5 112.5 C 132.5 112.5, 132.5 113.75, 127.5 113.75 A 1.25 1.25 0 0 1 126.76776695296637 111.76776695296637 A 2.5 2.5 0 1 0 123.23223304703363 111.76776695296637 A 1.25 1.25 0 0 1 122.5 113.75 C 117.5 113.75, 117.5 112.5, 112.5 112.5 Z M 162.5 112.5 C 162.5 117.5, 161.25 117.5, 161.25 122.5 A 1.25 1.25 0 0 0 163.23223304703362 123.23223304703363 A 2.5 2.5 0 1 1 163.23223304703362 126.76776695296637 A 1.25 1.25 0 0 0 161.25 127.5 C 161.25 132.5, 162.5 132.5, 162.5 137.5 C 167.5 137.5, 167.5 136.25, 172.5 136.25 A 1.25 1.25 0 0 1 173.23223304703362 138.23223304703362 A 2.5 2.5 0 1 0 176.76776695296638 138.23223304703362 A 1.25 1.25 0 0 1 177.5 136.25 C 182.5 136.25, 182.5 137.5, 187.5 137.5 L 187.5 112.5 C 182.5 112.5, 182.5 113.75, 177.5 113.75 A 1.25 1.25 0 0 1 176.76776695296638 111.76776695296637 A 2.5 2.5 0 1 0 173.23223304703362 111.76776695296637 A 1.25 1.25 0 0 1 172.5 113.75 C 167.5 113.75, 167.5 112.5, 162.5 112.5 Z M 212.5 112.5 L 212.5 137.5 C 217.5 137.5, 217.5 136.25, 222.5 136.25 A 1.25 1.25 0 0 1 223.23223304703362 138.23223304703362 A 2.5 2.5 0 1 0 226.76776695296638 138.23223304703362 A 1.25 1.25 0 0 1 227.5 136.25 C 232.5 136.25, 232.5 137.5, 237.5 137.5 L 237.5 112.5 C 232.5 112.5, 232.5 111.25, 227.5 111.25 A 1.25 1.25 0 0 0 226.76776695296638 113.23223304703363 A 2.5 2.5 0 1 1 223.23223304703362 113.23223304703363 A 1.25 1.25 0 0 0 222.5 111.25 C 217.5 111.25, 217.5 112.5, 212.5 112.5 Z M 262.5 112.5 L 262.5 137.5 L 287.5 137.5 C 287.5 134.375, 288.75 134.375, 288.75 131.25 A 1.25 1.25 0 0 0 286.7677669529664 130.51776695296638 A 2.5 2.5 0 1 1 286.7677669529664 126.98223304703363 A 1.25 1.25 0 0 0 288.75 126.25 C 288.75 119.375, 287.5 119.375, 287.5 112.5 L 262.5 112.5 Z M 312.5 112.5 C 312.5 119.375, 313.75 119.375, 313.75 126.25 A 1.25 1.25 0 0 1 311.7677669529664 126.98223304703363 A 2.5 2.5 0 1 0 311.7677669529664 130.51776695296638 A 1.25 1.25 0 0 1 313.75 131.25 C 313.75 134.375, 312.5 134.375, 312.5 137.5 L 337.5 137.5 L 337.5 112.5 C 330.625 112.5, 330.625 111.25, 323.75 111.25 A 1.25 1.25 0 0 0 323.0177669529664 113.23223304703363 A 2.5 2.5 0 1 1 319.4822330470336 113.23223304703363 A 1.25 1.25 0 0 0 318.75 111.25 C 315.625 111.25, 315.625 112.5, 312.5 112.5 Z M 362.5 112.5 L 362.5 137.5 C 369.375 137.5, 369.375 136.25, 376.25 136.25 A 1.25 1.25 0 0 1 376.9822330470336 138.23223304703362 A 2.5 2.5 0 1 0 380.5177669529664 138.23223304703362 A 1.25 1.25 0 0 1 381.25 136.25 C 384.375 136.25, 384.375 137.5, 387.5 137.5 L 387.5 112.5 C 384.375 112.5, 384.375 111.25, 381.25 111.25 A 1.25 1.25 0 0 0 380.5177669529664 113.23223304703363 A 2.5 2.5 0 1 1 376.9822330470336 113.23223304703363 A 1.25 1.25 0 0 0 376.25 111.25 C 375.0 111.25, 375.0 113.75, 373.75 113.75 A 1.25 1.25 0 0 1 373.0177669529664 111.76776695296637 A 2.5 2.5 0 1 0 369.4822330470336 111.76776695296637 A 1.25 1.25 0 0 1 368.75 113.75 C 365.625 113.75, 365.625 112.5, 362.5 112.5 Z M 412.5 112.5 L 412.5 137.5 C 417.5 137.5, 417.5 136.25, 422.5 136.25 A 1.25 1.25 0 0 1 423.2322330470336 138.23223304703362 A 2.5 2.5 0 1 0 426.7677669529664 138.23223304703362 A 1.25 1.25 0 0 1 427.5 136.25 C 432.5 136.25, 432.5 137.5, 437.5 137.5 C 437.5 132.5, 436.25 132.5, 436.25 127.5 A 1.25 1.25 0 0 1 438.2322330470336 126.76776695296637 A 2.5 2.5 0 1 0 438.2322330470336 123.23223304703363 A 1.25 1.25 0 0 1 436.25 122.5 C 436.25 117.5, 437.5 117.5, 437.5 112.5 C 432.5 112.5, 432.5 113.75, 427.5 113.75 A 1.25 1.25 0 0 1 426.7677669529664 111.76776695296637 A 2.5 2.5 0 1 0 423.2322330470336 111.76776695296637 A 1.25 1.25 0 0 1 422.5 113.75 C 417.5 113.75, 417.5 112.5, 412.5 112.5 Z M 462.5 112.5 C 462.5 117.5, 461.25 117.5, 461.25 122.5 A 1.25 1.25 0 0 0 463.2322330470336 123.23223304703363 A 2.5 2.5 0 1 1 463.2322330470336 126.76776695296637 A 1.25 1.25 0 0 0 461.25 127.5 C 461.25 132.5, 462.5 132.5, 462.5 137.5 C 467.5 137.5, 467.5 136.25, 472.5 136.25 A 1.25 1.25 0 0 1 473.2322330470336 138.23223304703362 A 2.5 2.5 0 1 0 476.7677669529664 138.23223304703362 A 1.25 1.25 0 0 1 477.5 136.25 C 482.5 136.25, 482.5 137.5, 487.5 137.5 C 487.5 134.375, 488.75 134.375, 488.75 131.25 A 1.25 1.25 0 0 0 486.7677669529664 130.51776695296638 A 2.5 2.5 0 1 1 486.7677669529664 126.98223304703363 A 1.25 1.25 0 0 0 488.75 126.25 L 488.75 123.75 A 1.25 1.25 0 0 0 486.7677669529664 123.01776695296637 A 2.5 2.5 0 1 1 486.7677669529664 119.48223304703363 A 1.25 1.25 0 0 0 488.75 118.75 C 488.75 115.625, 487.5 115.625, 487.5 112.5 L 462.5 112.5 Z M 512.5 112.5 C 512.5 115.625, 513.75 115.625, 513.75 118.75 A 1.25 1.25 0 0 1 511.7677669529664 119.48223304703363 A 2.5 2.5 0 1 0 511.7677669529664 123.01776695296637 A 1.25 1.25 0 0 1 513.75 123.75 L 513.75 126.25 A 1.25 1.25 0 0 1 511.7677669529664 126.98223304703363 A 2.5 2.5 0 1 0 511.7677669529664 130.51776695296638 A 1.25 1.25 0 0 1 513.75 131.25 C 513.75 134.375, 512.5 134.375, 512.5 137.5 C 517.5 137.5, 517.5 136.25, 522.5 136.25 A 1.25 1.25 0 0 1 523.2322330470337 138.23223304703362 A 2.5 2.5 0 1 0 526.7677669529663 138.23223304703362 A 1.25 1.25 0 0 1 527.5 136.25 C 532.5 136.25, 532.5 137.5, 537.5 137.5 C 537.5 134.375, 536.25 134.375, 536.25 131.25 A 1.25 1.25 0 0 1 538.2322330470337 130.51776695296638 A 2.5 2.5 0 1 0 538.2322330470337 126.98223304703363 A 1.25 1.25 0 0 1 536.25 126.25 C 536.25 119.375, 537.5 119.375, 537.5 112.5 L 512.5 112.5 Z M 562.5 112.5 C 562.5 119.375, 561.25 119.375, 561.25 126.25 A 1.25 1.25 0 0 0 563.2322330470337 126.98223304703363 A 2.5 2.5 0 1 1 563.2322330470337 130.51776695296638 A 1.25 1.25 0 0 0 561.25 131.25 C 561.25 134.375, 562.5 134.375, 562.5 137.5 C 565.625 137.5, 565.625 136.25, 568.75 136.25 A 1.25 1.25 0 0 1 569.4822330470337 138.23223304703362 A 2.5 2.5 0 1 0 573.0177669529663 138.23223304703362 A 1.25 1.25 0 0 1 573.75 136.25 C 580.625 136.25, 580.625 137.5, 587.5 137.5 L 587.5 112.5 C 584.375 112.5, 584.375 113.75, 581.25 113.75 A 1.25 1.25 0 0 1 580.5177669529663 111.76776695296637 A 2.5 2.5 0 1 0 576.9822330470337 111.76776695296637 A 1.25 1.25 0 0 1 576.25 113.75 C 569.375 113.75, 569.375 112.5, 562.5 112.5 Z M 12.5 162.5 L 12.5 187.5 L 37.5 187.5 C 37.5 183.0, 39.25 183.0, 39.25 178.5 A 1.7499999999999998 1.7499999999999998 0 0 0 36.474873734152915 177.4748737341529 A 3.4999999999999996 3.4999999999999996 0 1 1 36.474873734152915 172.5251262658471 A 1.7499999999999998 1.7499999999999998 0 0 0 39.25 171.5 C 39.25 167.0, 37.5 167.0, 37.5 162.5 C 32.5 162.5, 32.5 161.25, 27.5 161.25 A 1.25 1.25 0 0 0 26.76776695296637 163.23223304703362 A 2.5 2.5 0 1 1 23.23223304703363 163.23223304703362 A 1.25 1.25 0 0 0 22.5 161.25 C 17.5 161.25, 17.5 162.5, 12.5 162.5 Z M 62.5 162.5 C 62.5 167.0, 64.25 167.0, 64.25 171.5 A 1.7499999999999998 1.7499999999999998 0 0 1 61.474873734152915 172.5251262658471 A 3.4999999999999996 3.4999999999999996 0 1 0 61.474873734152915 177.4748737341529 A 1.7499999999999998 1.7499999999999998 0 0 1 64.25 178.5 C 64.25 183.0, 62.5 183.0, 62.5 187.5 L 87.5 187.5 C 87.5 182.5, 86.25 182.5, 86.25 177.5 A 1.25 1.25 0 0 1 88.23223304703363 176.76776695296638 A 2.5 2.5 0 1 0 88.23223304703363 173.23223304703362 A 1.25 1.25 0 0 1 86.25 172.5 C 86.25 167.5, 87.5 167.5, 87.5 162.5 C 83.0 162.5, 83.0 160.75, 78.5 160.75 A 1.7499999999999998 1.7499999999999998 0 0 0 77.47487373415291 163.5251262658471 A 3.4999999999999996 3.4999999999999996 0 1 1 72.52512626584709 163.5251262658471 A 1.7499999999999998 1.7499999999999998 0 0 0 71.5 160.75 C 67.0 160.75, 67.0 162.5, 62.5 162.5 Z M 112.5 162.5 C 112.5 167.5, 111.25 167.5, 111.25 172.5 A 1.25 1.25 0 0 0 113.23223304703363 173.23223304703362 A 2.5 2.5 0 1 1 113.23223304703363 176.76776695296638 A 1.25 1.25 0 0 0 111.25 177.5 C 111.25 182.5, 112.5 182.5, 112.5 187.5 L 137.5 187.5 C 137.5 182.5, 138.75 182.5, 138.75 177.5 A 1.25 1.25 0 0 0 136.76776695296638 176.76776695296638 A 2.5 2.5 0 1 1 136.76776695296638 173.23223304703362 A 1.25 1.25 0 0 0 138.75 172.5 C 138.75 167.5, 137.5 167.5, 137.5 162.5 C 132.5 162.5, 132.5 163.75, 127.5 163.75 A 1.25 1.25 0 0 1 126.76776695296637 161.76776695296638 A 2.5 2.5 0 1 0 123.23223304703363 161.76776695296638 A 1.25 1.25 0 0 1 122.5 163.75 C 117.5 163.75, 117.5 162.5, 112.5 162.5 Z M 162.5 162.5 C 162.5 167.5, 163.75 167.5, 163.75 172.5 A 1.25 1.25 0 0 1 161.76776695296638 173.23223304703362 A 2.5 2.5 0 1 0 161.76776695296638 176.76776695296638 A 1.25 1.25 0 0 1 163.75 177.5 C 163.75 182.5, 162.5 182.5, 162.5 187.5 L 187.5 187.5 L 187.5 162.5 C 182.5 162.5, 182.5 161.25, 177.5 161.25 A 1.25 1.25 0 0 0 176.76776695296638 163.23223304703362 A 2.5 2.5 0 1 1 173.23223304703362 163.23223304703362 A 1.25 1.25 0 0 0 172.5 161.25 C 167.5 161.25, 167.5 162.5, 162.5 162.5 Z M 212.5 162.5 L 212.5 187.5 L 237.5 187.5 C 237.5 184.375, 236.25 184.375, 236.25 181.25 A 1.25 1.25 0 0 1 238.23223304703362 180.51776695296638 A 2.5 2.5 0 1 0 238.23223304703362 176.98223304703365 A 1.25 1.25 0 0 1 236.25 176.25 L 236.25 173.75 A 1.25 1.25 0 0 1 238.23223304703362 173.01776695296635 A 2.5 2.5 0 1 0 238.23223304703362 169.48223304703362 A 1.25 1.25 0 0 1 236.25 168.75 C 236.25 165.625, 237.5 165.625, 237.5 162.5 C 232.5 162.5, 232.5 161.25, 227.5 161.25 A 1.25 1.25 0 0 0 226.76776695296638 163.23223304703362 A 2.5 2.5 0 1 1 223.23223304703362 163.23223304703362 A 1.25 1.25 0 0 0 222.5 161.25 C 217.5 161.25, 217.5 162.5, 212.5 162.5 Z M 262.5 162.5 C 262.5 165.625, 261.25 165.625, 261.25 168.75 A 1.25 1.25 0 0 0 263.2322330470336 169.48223304703362 A 2.5 2.5 0 1 1 263.2322330470336 173.01776695296635 A 1.25 1.25 0 0 0 261.25 173.75 L 261.25 176.25 A 1.25 1.25 0 0 0 263.2322330470336 176.98223304703365 A 2.5 2.5 0 1 1 263.2322330470336 180.51776695296638 A 1.25 1.25 0 0 0 261.25 181.25 C 261.25 184.375, 262.5 184.375, 262.5 187.5 L 287.5 187.5 C 287.5 184.375, 288.75 184.375, 288.75 181.25 A 1.25 1.25 0 0 0 286.7677669529664 180.51776695296638 A 2.5 2.5 0 1 1 286.7677669529664 176.98223304703365 A 1.25 1.25 0 0 0 288.75 176.25 C 288.75 169.375, 287.5 169.375, 287.5 162.5 L 262.5 162.5 Z M 312.5 162.5 C 312.5 169.375, 313.75 169.375, 313.75 176.25 A 1.25 1.25 0 0 1 311.7677669529664 176.98223304703365 A 2.5 2.5 0 1 0 311.7677669529664 180.51776695296638 A 1.25 1.25 0 0 1 313.75 181.25 C 313.75 184.375, 312.5 184.375, 312.5 187.5 L 337.5 187.5 C 337.5 184.375, 336.25 184.375, 336.25 181.25 A 1.25 1.25 0 0 1 338.2322330470336 180.51776695296638 A 2.5 2.5 0 1 0 338.2322330470336 176.98223304703365 A 1.25 1.25 0 0 1 336.25 176.25 C 336.25 169.375, 337.5 169.375, 337.5 162.5 L 312.5 162.5 Z M 362.5 162.5 C 362.5 169.375, 361.25 169.375, 361.25 176.25 A 1.25 1.25 0 0 0 363.2322330470336 176.98223304703365 A 2.5 2.5 0 1 1 363.2322330470336 180.51776695296638 A 1.25 1.25 0 0 0 361.25 181.25 C 361.25 184.375, 362.5 184.375, 362.5 187.5 L 387.5 187.5 L 387.5 162.5 C 384.375 162.5, 384.375 161.25, 381.25 161.25 A 1.25 1.25 0 0 0 380.5177669529664 163.23223304703362 A 2.5 2.5 0 1 1 376.9822330470336 163.23223304703362 A 1.25 1.25 0 0 0 376.25 161.25 C 369.375 161.25, 369.375 162.5, 362.5 162.5 Z M 412.5 162.5 L 412.5 187.5 L 437.5 187.5 C 437.5 180.625, 438.75 180.625, 438.75 173.75 A 1.25 1.25 0 0 0 436.7677669529664 173.01776695296635 A 2.5 2.5 0 1 1 436.7677669529664 169.48223304703362 A 1.25 1.25 0 0 0 438.75 168.75 C 438.75 165.625, 437.5 165.625, 437.5 162.5 C 432.5 162.5, 432.5 161.25, 427.5 161.25 A 1.25 1.25 0 0 0 426.7677669529664 163.23223304703362 A 2.5 2.5 0 1 1 423.2322330470336 163.23223304703362 A 1.25 1.25 0 0 0 422.5 161.25 C 417.5 161.25, 417.5 162.5, 412.5 162.5 Z M 462.5 162.5 C 462.5 165.625, 463.75 165.625, 463.75 168.75 A 1.25 1.25 0 0 1 461.7677669529664 169.48223304703362 A 2.5 2.5 0 1 0 461.7677669529664 173.01776695296635 A 1.25 1.25 0 0 1 463.75 173.75 C 463.75 180.625, 462.5 180.625, 462.5 187.5 L 487.5 187.5 C 487.5 184.375, 486.25 184.375, 486.25 181.25 A 1.25 1.25 0 0 1 488.2322330470336 180.51776695296638 A 2.5 2.5 0 1 0 488.2322330470336 176.98223304703365 A 1.25 1.25 0 0 1 486.25 176.25 C 486.25 169.375, 487.5 169.375, 487.5 162.5 C 482.5 162.5, 482.5 161.25, 477.5 161.25 A 1.25 1.25 0 0 0 476.7677669529664 163.23223304703362 A 2.5 2.5 0 1 1 473.2322330470336 163.23223304703362 A 1.25 1.25 0 0 0 472.5 161.25 C 467.5 161.25, 467.5 162.5, 462.5 162.5 Z M 512.5 162.5 C 512.5 169.375, 511.25 169.375, 511.25 176.25 A 1.25 1.25 0 0 0 513.2322330470337 176.98223304703365 A 2.5 2.5 0 1 1 513.2322330470337 180.51776695296638 A 1.25 1.25 0 0 0 511.25 181.25 C 511.25 184.375, 512.5 184.375, 512.5 187.5 L 537.5 187.5 C 537.5 184.375, 536.25 184.375, 536.25 181.25 A 1.25 1.25 0 0 1 538.2322330470337 180.51776695296638 A 2.5 2.5 0 1 0 538.2322330470337 176.98223304703365 A 1.25 1.25 0 0 1 536.25 176.25 C 536.25 169.375, 537.5 169.375, 537.5 162.5 C 532.5 162.5, 532.5 161.25, 527.5 161.25 A 1.25 1.25 0 0 0 526.7677669529663 163.23223304703362 A 2.5 2.5 0 1 1 523.2322330470337 163.23223304703362 A 1.25 1.25 0 0 0 522.5 161.25 C 517.5 161.25, 517.5 162.5, 512.5 162.5 Z M 562.5 162.5 C 562.5 169.375, 561.25 169.375, 561.25 176.25 A 1.25 1.25 0 0 0 563.2322330470337 176.98223304703365 A 2.5 2.5 0 1 1 563.2322330470337 180.51776695296638 A 1.25 1.25 0 0 0 561.25 181.25 C 561.25 184.375, 562.5 184.375, 562.5 187.5 L 587.5 187.5 L 587.5 162.5 C 580.625 162.5, 580.625 161.25, 573.75 161.25 A 1.25 1.25 0 0 0 573.0177669529663 163.23223304703362 A 2.5 2.5 0 1 1 569.4822330470337 163.23223304703362 A 1.25 1.25 0 0 0 568.75 161.25 C 565.625 161.25, 565.625 162.5, 562.5 162.5 Z M 12.5 212.5 L 12.5 237.5 L 37.5 237.5 C 37.5 232.5, 38.75 232.5, 38.75 227.5 A 1.25 1.25 0 0 0 36.76776695296637 226.76776695296638 A 2.5 2.5 0 1 1 36.76776695296637 223.23223304703362 A 1.25 1.25 0 0 0 38.75 222.5 C 38.75 217.5, 37.5 217.5, 37.5 212.5 L 12.5 212.5 Z M 62.5 212.5 C 62.5 217.5, 63.75 217.5, 63.75 222.5 A 1.25 1.25 0 0 1 61.76776695296637 223.23223304703362 A 2.5 2.5 0 1 0 61.76776695296637 226.76776695296638 A 1.25 1.25 0 0 1 63.75 227.5 C 63.75 232.5, 62.5 232.5, 62.5 237.5 C 69.375 237.5, 69.375 238.75, 76.25 238.75 A 1.25 1.25 0 0 0 76.98223304703363 236.76776695296638 A 2.5 2.5 0 1 1 80.51776695296637 236.76776695296638 A 1.25 1.25 0 0 0 81.25 238.75 C 84.375 238.75, 84.375 237.5, 87.5 237.5 C 87.5 230.625, 86.25 230.625, 86.25 223.75 A 1.25 1.25 0 0 1 88.23223304703363 223.01776695296635 A 2.5 2.5 0 1 0 88.23223304703363 219.48223304703362 A 1.25 1.25 0 0 1 86.25 218.75 C 86.25 215.625, 87.5 215.625, 87.5 212.5 L 62.5 212.5 Z M 112.5 212.5 C 112.5 215.625, 111.25 215.625, 111.25 218.75 A 1.25 1.25 0 0 0 113.23223304703363 219.48223304703362 A 2.5 2.5 0 1 1 113.23223304703363 223.01776695296635 A 1.25 1.25 0 0 0 111.25 223.75 C 111.25 230.625, 112.5 230.625, 112.5 237.5 C 117.5 237.5, 117.5 236.25, 122.5 236.25 A 1.25 1.25 0 0 1 123.23223304703363 238.23223304703362 A 2.5 2.5 0 1 0 126.76776695296637 238.23223304703362 A 1.25 1.25 0 0 1 127.5 236.25 C 132.5 236.25, 132.5 237.5, 137.5 237.5 C 137.5 232.5, 138.75 232.5, 138.75 227.5 A 1.25 1.25 0 0 0 136.76776695296638 226.76776695296638 A 2.5 2.5 0 1 1 136.76776695296638 223.23223304703362 A 1.25 1.25 0 0 0 138.75 222.5 C 138.75 217.5, 137.5 217.5, 137.5 212.5 L 112.5 212.5 Z M 162.5 212.5 C 162.5 217.5, 163.75 217.5, 163.75 222.5 A 1.25 1.25 0 0 1 161.76776695296638 223.23223304703362 A 2.5 2.5 0 1 0 161.76776695296638 226.76776695296638 A 1.25 1.25 0 0 1 163.75 227.5 C 163.75 232.5, 162.5 232.5, 162.5 237.5 C 167.5 237.5, 167.5 236.25, 172.5 236.25 A 1.25 1.25 0 0 1 173.23223304703362 238.23223304703362 A 2.5 2.5 0 1 0 176.76776695296638 238.23223304703362 A 1.25 1.25 0 0 1 177.5 236.25 C 182.5 236.25, 182.5 237.5, 187.5 237.5 L 187.5 212.5 L 162.5 212.5 Z M 212.5 212.5 L 212.5 237.5 L 237.5 237.5 L 237.5 212.5 L 212.5 212.5 Z M 262.5 212.5 L 262.5 237.5 C 267.0 237.5, 267.0 239.25, 271.5 239.25 A 1.7499999999999998 1.7499999999999998 0 0 0 272.52512626584706 236.4748737341529 A 3.4999999999999996 3.4999999999999996 0 1 1 277.47487373415294 236.4748737341529 A 1.7499999999999998 1.7499999999999998 0 0 0 278.5 239.25 C 283.0 239.25, 283.0 237.5, 287.5 237.5 C 287.5 232.5, 286.25 232.5, 286.25 227.5 A 1.25 1.25 0 0 1 288.2322330470336 226.76776695296638 A 2.5 2.5 0 1 0 288.2322330470336 223.23223304703362 A 1.25 1.25 0 0 1 286.25 222.5 C 286.25 217.5, 287.5 217.5, 287.5 212.5 L 262.5 212.5 Z M 312.5 212.5 C 312.5 217.5, 311.25 217.5, 311.25 222.5 A 1.25 1.25 0 0 0 313.2322330470336 223.23223304703362 A 2.5 2.5 0 1 1 313.2322330470336 226.76776695296638 A 1.25 1.25 0 0 0 311.25 227.5 C 311.25 232.5, 312.5 232.5, 312.5 237.5 C 317.0 237.5, 317.0 239.25, 321.5 239.25 A 1.7499999999999998 1.7499999999999998 0 0 0 322.52512626584706 236.4748737341529 A 3.4999999999999996 3.4999999999999996 0 1 1 327.47487373415294 236.4748737341529 A 1.7499999999999998 1.7499999999999998 0 0 0 328.5 239.25 C 333.0 239.25, 333.0 237.5, 337.5 237.5 C 337.5 232.5, 338.75 232.5, 338.75 227.5 A 1.25 1.25 0 0 0 336.7677669529664 226.76776695296638 A 2.5 2.5 0 1 1 336.7677669529664 223.23223304703362 A 1.25 1.25 0 0 0 338.75 222.5 C 338.75 217.5, 337.5 217.5, 337.5 212.5 L 312.5 212.5 Z M 362.5 212.5 C 362.5 217.5, 363.75 217.5, 363.75 222.5 A 1.25 1.25 0 0 1 361.7677669529664 223.23223304703362 A 2.5 2.5 0 1 0 361.7677669529664 226.76776695296638 A 1.25 1.25 0 0 1 363.75 227.5 C 363.75 232.5, 362.5 232.5, 362.5 237.5 C 367.0 237.5, 367.0 235.75, 371.5 235.75 A 1.7499999999999998 1.7499999999999998 0 0 1 372.52512626584706 238.5251262658471 A 3.4999999999999996 3.4999999999999996 0 1 0 377.47487373415294 238.5251262658471 A 1.7499999999999998 1.7499999999999998 0 0 1 378.5 235.75 C 383.0 235.75, 383.0 237.5, 387.5 237.5 L 387.5 212.5 L 362.5 212.5 Z M 412.5 212.5 L 412.5 237.5 C 415.625 237.5, 415.625 238.75, 418.75 238.75 A 1.25 1.25 0 0 0 419.4822330470336 236.76776695296638 A 2.5 2.5 0 1 1 423.0177669529664 236.76776695296638 A 1.25 1.25 0 0 0 423.75 238.75 C 430.625 238.75, 430.625 237.5, 437.5 237.5 C 437.5 234.375, 438.75 234.375, 438.75 231.25 A 1.25 1.25 0 0 0 436.7677669529664 230.51776695296638 A 2.5 2.5 0 1 1 436.7677669529664 226.98223304703365 A 1.25 1.25 0 0 0 438.75 226.25 C 438.75 219.375, 437.5 219.375, 437.5 212.5 L 412.5 212.5 Z M 462.5 212.5 C 462.5 219.375, 463.75 219.375, 463.75 226.25 A 1.25 1.25 0 0 1 461.7677669529664 226.98223304703365 A 2.5 2.5 0 1 0 461.7677669529664 230.51776695296638 A 1.25 1.25 0 0 1 463.75 231.25 C 463.75 234.375, 462.5 234.375, 462.5 237.5 C 465.625 237.5, 465.625 236.25, 468.75 236.25 A 1.25 1.25 0 0 1 469.4822330470336 238.23223304703362 A 2.5 2.5 0 1 0 473.0177669529664 238.23223304703362 A 1.25 1.25 0 0 1 473.75 236.25 L 476.25 236.25 A 1.25 1.25 0 0 1 476.9822330470336 238.23223304703362 A 2.5 2.5 0 1 0 480.5177669529664 238.23223304703362 A 1.25 1.25 0 0 1 481.25 236.25 C 484.375 236.25, 484.375 237.5, 487.5 237.5 L 487.5 212.5 L 462.5 212.5 Z M 512.5 212.5 L 512.5 237.5 C 517.5 237.5, 517.5 236.25, 522.5 236.25 A 1.25 1.25 0 0 1 523.2322330470337 238.23223304703362 A 2.5 2.5 0 1 0 526.7677669529663 238.23223304703362 A 1.25 1.25 0 0 1 527.5 236.25 C 532.5 236.25, 532.5 237.5, 537.5 237.5 C 537.5 230.625, 538.75 230.625, 538.75 223.75 A 1.25 1.25 0 0 0 536.7677669529663 223.01776695296635 A 2.5 2.5 0 1 1 536.7677669529663 219.48223304703362 A 1.25 1.25 0 0 0 538.75 218.75 C 538.75 215.625, 537.5 215.625, 537.5 212.5 L 512.5 212.5 Z M 562.5 212.5 C 562.5 215.625, 563.75 215.625, 563.75 218.75 A 1.25 1.25 0 0 1 561.7677669529663 219.48223304703362 A 2.5 2.5 0 1 0 561.7677669529663 223.01776695296635 A 1.25 1.25 0 0 1 563.75 223.75 C 563.75 230.625, 562.5 230.625, 562.5 237.5 C 565.625 237.5, 565.625 236.25, 568.75 236.25 A 1.25 1.25 0 0 1 569.4822330470337 238.23223304703362 A 2.5 2.5 0 1 0 573.0177669529663 238.23223304703362 A 1.25 1.25 0 0 1 573.75 236.25 C 580.625 236.25, 580.625 237.5, 587.5 237.5 L 587.5 212.5 L 562.5 212.5 Z M 12.5 262.5 L 12.5 287.5 C 17.0 287.5, 17.0 289.25, 21.5 289.25 A 1.7499999999999998 1.7499999999999998 0 0 0 22.525126265847085 286.47487373415294 A 3.4999999999999996 3.4999999999999996 0 1 1 27.474873734152915 286.47487373415294 A 1.7499999999999998 1.7499999999999998 0 0 0 28.5 289.25 C 33.0 289.25, 33.0 287.5, 37.5 287.5 L 37.5 262.5 L 12.5 262.5 Z M 62.5 262.5 L 62.5 287.5 L 87.5 287.5 C 87.5 280.625, 88.75 280.625, 88.75 273.75 A 1.25 1.25 0 0 0 86.76776695296637 273.0177669529664 A 2.5 2.5 0 1 1 86.76776695296637 269.4822330470336 A 1.25 1.25 0 0 0 88.75 268.75 C 88.75 265.625, 87.5 265.625, 87.5 262.5 C 84.375 262.5, 84.375 263.75, 81.25 263.75 A 1.25 1.25 0 0 1 80.51776695296637 261.7677669529664 A 2.5 2.5 0 1 0 76.98223304703363 261.7677669529664 A 1.25 1.25 0 0 1 76.25 263.75 C 69.375 263.75, 69.375 262.5, 62.5 262.5 Z M 112.5 262.5 C 112.5 265.625, 113.75 265.625, 113.75 268.75 A 1.25 1.25 0 0 1 111.76776695296637 269.4822330470336 A 2.5 2.5 0 1 0 111.76776695296637 273.0177669529664 A 1.25 1.25 0 0 1 113.75 273.75 C 113.75 280.625, 112.5 280.625, 112.5 287.5 C 115.625 287.5, 115.625 286.25, 118.75 286.25 A 1.25 1.25 0 0 1 119.48223304703363 288.2322330470336 A 2.5 2.5 0 1 0 123.01776695296637 288.2322330470336 A 1.25 1.25 0 0 1 123.75 286.25 C 130.625 286.25, 130.625 287.5, 137.5 287.5 C 137.5 280.625, 138.75 280.625, 138.75 273.75 A 1.25 1.25 0 0 0 136.76776695296638 273.0177669529664 A 2.5 2.5 0 1 1 136.76776695296638 269.4822330470336 A 1.25 1.25 0 0 0 138.75 268.75 C 138.75 265.625, 137.5 265.625, 137.5 262.5 C 132.5 262.5, 132.5 261.25, 127.5 261.25 A 1.25 1.25 0 0 0 126.76776695296637 263.2322330470336 A 2.5 2.5 0 1 1 123.23223304703363 263.2322330470336 A 1.25 1.25 0 0 0 122.5 261.25 C 117.5 261.25, 117.5 262.5, 112.5 262.5 Z M 162.5 262.5 C 162.5 265.625, 163.75 265.625, 163.75 268.75 A 1.25 1.25 0 0 1 161.76776695296638 269.4822330470336 A 2.5 2.5 0 1 0 161.76776695296638 273.0177669529664 A 1.25 1.25 0 0 1 163.75 273.75 C 163.75 280.625, 162.5 280.625, 162.5 287.5 C 165.625 287.5, 165.625 288.75, 168.75 288.75 A 1.25 1.25 0 0 0 169.48223304703362 286.7677669529664 A 2.5 2.5 0 1 1 173.01776695296635 286.7677669529664 A 1.25 1.25 0 0 0 173.75 288.75 C 180.625 288.75, 180.625 287.5, 187.5 287.5 L 187.5 262.5 C 182.5 262.5, 182.5 261.25, 177.5 261.25 A 1.25 1.25 0 0 0 176.76776695296638 263.2322330470336 A 2.5 2.5 0 1 1 173.23223304703362 263.2322330470336 A 1.25 1.25 0 0 0 172.5 261.25 C 167.5 261.25, 167.5 262.5, 162.5 262.5 Z M 212.5 262.5 L 212.5 287.5 C 217.5 287.5, 217.5 288.75, 222.5 288.75 A 1.25 1.25 0 0 0 223.23223304703362 286.7677669529664 A 2.5 2.5 0 1 1 226.76776695296638 286.7677669529664 A 1.25 1.25 0 0 0 227.5 288.75 C 232.5 288.75, 232.5 287.5, 237.5 287.5 C 237.5 282.5, 238.75 282.5, 238.75 277.5 A 1.25 1.25 0 0 0 236.76776695296638 276.7677669529664 A 2.5 2.5 0 1 1 236.76776695296638 273.2322330470336 A 1.25 1.25 0 0 0 238.75 272.5 C 238.75 267.5, 237.5 267.5, 237.5 262.5 L 212.5 262.5 Z M 262.5 262.5 C 262.5 267.5, 263.75 267.5, 263.75 272.5 A 1.25 1.25 0 0 1 261.7677669529664 273.2322330470336 A 2.5 2.5 0 1 0 261.7677669529664 276.7677669529664 A 1.25 1.25 0 0 1 263.75 277.5 C 263.75 282.5, 262.5 282.5, 262.5 287.5 C 267.5 287.5, 267.5 286.25, 272.5 286.25 A 1.25 1.25 0 0 1 273.2322330470336 288.2322330470336 A 2.5 2.5 0 1 0 276.7677669529664 288.2322330470336 A 1.25 1.25 0 0 1 277.5 286.25 C 282.5 286.25, 282.5 287.5, 287.5 287.5 C 287.5 283.0, 285.75 283.0, 285.75 278.5 A 1.7499999999999998 1.7499999999999998 0 0 1 288.52512626584706 277.47487373415294 A 3.4999999999999996 3.4999999999999996 0 1 0 288.52512626584706 272.52512626584706 A 1.7499999999999998 1.7499999999999998 0 0 1 285.75 271.5 C 285.75 267.0, 287.5 267.0, 287.5 262.5 C 283.0 262.5, 283.0 264.25, 278.5 264.25 A 1.7499999999999998 1.7499999999999998 0 0 1 277.47487373415294 261.47487373415294 A 3.4999999999999996 3.4999999999999996 0 1 0 272.52512626584706 261.47487373415294 A 1.7499999999999998 1.7499999999999998 0 0 1 271.5 264.25 C 267.0 264.25, 267.0 262.5, 262.5 262.5 Z M 312.5 262.5 C 312.5 267.0, 310.75 267.0, 310.75 271.5 A 1.7499999999999998 1.7499999999999998 0 0 0 313.52512626584706 272.52512626584706 A 3.4999999999999996 3.4999999999999996 0 1 1 313.52512626584706 277.47487373415294 A 1.7499999999999998 1.7499999999999998 0 0 0 310.75 278.5 C 310.75 283.0, 312.5 283.0, 312.5 287.5 C 317.0 287.5, 317.0 289.25, 321.5 289.25 A 1.7499999999999998 1.7499999999999998 0 0 0 322.52512626584706 286.47487373415294 A 3.4999999999999996 3.4999999999999996 0 1 1 327.47487373415294 286.47487373415294 A 1.7499999999999998 1.7499999999999998 0 0 0 328.5 289.25 C 333.0 289.25, 333.0 287.5, 337.5 287.5 C 337.5 283.0, 335.75 283.0, 335.75 278.5 A 1.7499999999999998 1.7499999999999998 0 0 1 338.52512626584706 277.47487373415294 A 3.4999999999999996 3.4999999999999996 0 1 0 338.52512626584706 272.52512626584706 A 1.7499999999999998 1.7499999999999998 0 0 1 335.75 271.5 C 335.75 267.0, 337.5 267.0, 337.5 262.5 C 333.0 262.5, 333.0 264.25, 328.5 264.25 A 1.7499999999999998 1.7499999999999998 0 0 1 327.47487373415294 261.47487373415294 A 3.4999999999999996 3.4999999999999996 0 1 0 322.52512626584706 261.47487373415294 A 1.7499999999999998 1.7499999999999998 0 0 1 321.5 264.25 C 317.0 264.25, 317.0 262.5, 312.5 262.5 Z M 362.5 262.5 C 362.5 267.0, 360.75 267.0, 360.75 271.5 A 1.7499999999999998 1.7499999999999998 0 0 0 363.52512626584706 272.52512626584706 A 3.4999999999999996 3.4999999999999996 0 1 1 363.52512626584706 277.47487373415294 A 1.7499999999999998 1.7499999999999998 0 0 0 360.75 278.5 C 360.75 283.0, 362.5 283.0, 362.5 287.5 C 367.0 287.5, 367.0 289.25, 371.5 289.25 A 1.7499999999999998 1.7499999999999998 0 0 0 372.52512626584706 286.47487373415294 A 3.4999999999999996 3.4999999999999996 0 1 1 377.47487373415294 286.47487373415294 A 1.7499999999999998 1.7499999999999998 0 0 0 378.5 289.25 C 383.0 289.25, 383.0 287.5, 387.5 287.5 L 387.5 262.5 C 383.0 262.5, 383.0 260.75, 378.5 260.75 A 1.7499999999999998 1.7499999999999998 0 0 0 377.47487373415294 263.52512626584706 A 3.4999999999999996 3.4999999999999996 0 1 1 372.52512626584706 263.52512626584706 A 1.7499999999999998 1.7499999999999998 0 0 0 371.5 260.75 C 367.0 260.75, 367.0 262.5, 362.5 262.5 Z M 412.5 262.5 L 412.5 287.5 C 419.375 287.5, 419.375 288.75, 426.25 288.75 A 1.25 1.25 0 0 0 426.9822330470336 286.7677669529664 A 2.5 2.5 0 1 1 430.5177669529664 286.7677669529664 A 1.25 1.25 0 0 0 431.25 288.75 C 434.375 288.75, 434.375 287.5, 437.5 287.5 C 437.5 282.5, 436.25 282.5, 436.25 277.5 A 1.25 1.25 0 0 1 438.2322330470336 276.7677669529664 A 2.5 2.5 0 1 0 438.2322330470336 273.2322330470336 A 1.25 1.25 0 0 1 436.25 272.5 C 436.25 267.5, 437.5 267.5, 437.5 262.5 C 430.625 262.5, 430.625 263.75, 423.75 263.75 A 1.25 1.25 0 0 1 423.0177669529664 261.7677669529664 A 2.5 2.5 0 1 0 419.4822330470336 261.7677669529664 A 1.25 1.25 0 0 1 418.75 263.75 C 415.625 263.75, 415.625 262.5, 412.5 262.5 Z M 462.5 262.5 C 462.5 267.5, 461.25 267.5, 461.25 272.5 A 1.25 1.25 0 0 0 463.2322330470336 273.2322330470336 A 2.5 2.5 0 1 1 463.2322330470336 276.7677669529664 A 1.25 1.25 0 0 0 461.25 277.5 C 461.25 282.5, 462.5 282.5, 462.5 287.5 C 465.625 287.5, 465.625 286.25, 468.75 286.25 A 1.25 1.25 0 0 1 469.4822330470336 288.2322330470336 A 2.5 2.5 0 1 0 473.0177669529664 288.2322330470336 A 1.25 1.25 0 0 1 473.75 286.25 C 480.625 286.25, 480.625 287.5, 487.5 287.5 C 487.5 282.5, 488.75 282.5, 488.75 277.5 A 1.25 1.25 0 0 0 486.7677669529664 276.7677669529664 A 2.5 2.5 0 1 1 486.7677669529664 273.2322330470336 A 1.25 1.25 0 0 0 488.75 272.5 C 488.75 267.5, 487.5 267.5, 487.5 262.5 C 484.375 262.5, 484.375 261.25, 481.25 261.25 A 1.25 1.25 0 0 0 480.5177669529664 263.2322330470336 A 2.5 2.5 0 1 1 476.9822330470336 263.2322330470336 A 1.25 1.25 0 0 0 476.25 261.25 L 473.75 261.25 A 1.25 1.25 0 0 0 473.0177669529664 263.2322330470336 A 2.5 2.5 0 1 1 469.4822330470336 263.2322330470336 A 1.25 1.25 0 0 0 468.75 261.25 C 465.625 261.25, 465.625 262.5, 462.5 262.5 Z M 512.5 262.5 C 512.5 267.5, 513.75 267.5, 513.75 272.5 A 1.25 1.25 0 0 1 511.7677669529664 273.2322330470336 A 2.5 2.5 0 1 0 511.7677669529664 276.7677669529664 A 1.25 1.25 0 0 1 513.75 277.5 C 513.75 282.5, 512.5 282.5, 512.5 287.5 C 519.375 287.5, 519.375 286.25, 526.25 286.25 A 1.25 1.25 0 0 1 526.9822330470337 288.2322330470336 A 2.5 2.5 0 1 0 530.5177669529663 288.2322330470336 A 1.25 1.25 0 0 1 531.25 286.25 C 534.375 286.25, 534.375 287.5, 537.5 287.5 C 537.5 282.5, 538.75 282.5, 538.75 277.5 A 1.25 1.25 0 0 0 536.7677669529663 276.7677669529664 A 2.5 2.5 0 1 1 536.7677669529663 273.2322330470336 A 1.25 1.25 0 0 0 538.75 272.5 C 538.75 267.5, 537.5 267.5, 537.5 262.5 C 532.5 262.5, 532.5 261.25, 527.5 261.25 A 1.25 1.25 0 0 0 526.7677669529663 263.2322330470336 A 2.5 2.5 0 1 1 523.2322330470337 263.2322330470336 A 1.25 1.25 0 0 0 522.5 261.25 C 517.5 261.25, 517.5 262.5, 512.5 262.5 Z M 562.5 262.5 C 562.5 267.5, 563.75 267.5, 563.75 272.5 A 1.25 1.25 0 0 1 561.7677669529663 273.2322330470336 A 2.5 2.5 0 1 0 561.7677669529663 276.7677669529664 A 1.25 1.25 0 0 1 563.75 277.5 C 563.75 282.5, 562.5 282.5, 562.5 287.5 C 567.5 287.5, 567.5 286.25, 572.5 286.25 A 1.25 1.25 0 0 1 573.2322330470337 288.2322330470336 A 2.5 2.5 0 1 0 576.7677669529663 288.2322330470336 A 1.25 1.25 0 0 1 577.5 286.25 C 582.5 286.25, 582.5 287.5, 587.5 287.5 L 587.5 262.5 C 580.625 262.5, 580.625 261.25, 573.75 261.25 A 1.25 1.25 0 0 0 573.0177669529663 263.2322330470336 A 2.5 2.5 0 1 1 569.4822330470337 263.2322330470336 A 1.25 1.25 0 0 0 568.75 261.25 C 565.625 261.25, 565.625 262.5, 562.5 262.5 Z M 12.5 312.5 L 12.5 337.5 C 17.0 337.5, 17.0 339.25, 21.5 339.25 A 1.7499999999999998 1.7499999999999998 0 0 0 22.525126265847085 336.47487373415294 A 3.4999999999999996 3.4999999999999996 0 1 1 27.474873734152915 336.47487373415294 A 1.7499999999999998 1.7499999999999998 0 0 0 28.5 339.25 C 33.0 339.25, 33.0 337.5, 37.5 337.5 C 37.5 333.0, 35.75 333.0, 35.75 328.5 A 1.7499999999999998 1.7499999999999998 0 0 1 38.525126265847085 327.47487373415294 A 3.4999999999999996 3.4999999999999996 0 1 0 38.525126265847085 322.52512626584706 A 1.7499999999999998 1.7499999999999998 0 0 1 35.75 321.5 C 35.75 317.0, 37.5 317.0, 37.5 312.5 C 33.0 312.5, 33.0 314.25, 28.5 314.25 A 1.7499999999999998 1.7499999999999998 0 0 1 27.474873734152915 311.47487373415294 A 3.4999999999999996 3.4999999999999996 0 1 0 22.525126265847085 311.47487373415294 A 1.7499999999999998 1.7499999999999998 0 0 1 21.5 314.25 C 17.0 314.25, 17.0 312.5, 12.5 312.5 Z M 62.5 312.5 C 62.5 317.0, 60.75 317.0, 60.75 321.5 A 1.7499999999999998 1.7499999999999998 0 0 0 63.525126265847085 322.52512626584706 A 3.4999999999999996 3.4999999999999996 0 1 1 63.525126265847085 327.47487373415294 A 1.7499999999999998 1.7499999999999998 0 0 0 60.75 328.5 C 60.75 333.0, 62.5 333.0, 62.5 337.5 C 67.0 337.5, 67.0 339.25, 71.5 339.25 A 1.7499999999999998 1.7499999999999998 0 0 0 72.52512626584709 336.47487373415294 A 3.4999999999999996 3.4999999999999996 0 1 1 77.47487373415291 336.47487373415294 A 1.7499999999999998 1.7499999999999998 0 0 0 78.5 339.25 C 83.0 339.25, 83.0 337.5, 87.5 337.5 L 87.5 312.5 L 62.5 312.5 Z M 112.5 312.5 L 112.5 337.5 L 137.5 337.5 C 137.5 334.375, 138.75 334.375, 138.75 331.25 A 1.25 1.25 0 0 0 136.76776695296638 330.5177669529664 A 2.5 2.5 0 1 1 136.76776695296638 326.9822330470336 A 1.25 1.25 0 0 0 138.75 326.25 C 138.75 319.375, 137.5 319.375, 137.5 312.5 C 130.625 312.5, 130.625 311.25, 123.75 311.25 A 1.25 1.25 0 0 0 123.01776695296637 313.2322330470336 A 2.5 2.5 0 1 1 119.48223304703363 313.2322330470336 A 1.25 1.25 0 0 0 118.75 311.25 C 115.625 311.25, 115.625 312.5, 112.5 312.5 Z M 162.5 312.5 C 162.5 319.375, 163.75 319.375, 163.75 326.25 A 1.25 1.25 0 0 1 161.76776695296638 326.9822330470336 A 2.5 2.5 0 1 0 161.76776695296638 330.5177669529664 A 1.25 1.25 0 0 1 163.75 331.25 C 163.75 334.375, 162.5 334.375, 162.5 337.5 C 165.625 337.5, 165.625 336.25, 168.75 336.25 A 1.25 1.25 0 0 1 169.48223304703362 338.2322330470336 A 2.5 2.5 0 1 0 173.01776695296635 338.2322330470336 A 1.25 1.25 0 0 1 173.75 336.25 C 180.625 336.25, 180.625 337.5, 187.5 337.5 L 187.5 312.5 C 180.625 312.5, 180.625 313.75, 173.75 313.75 A 1.25 1.25 0 0 1 173.01776695296635 311.7677669529664 A 2.5 2.5 0 1 0 169.48223304703362 311.7677669529664 A 1.25 1.25 0 0 1 168.75 313.75 C 165.625 313.75, 165.625 312.5, 162.5 312.5 Z M 212.5 312.5 L 212.5 337.5 C 217.5 337.5, 217.5 338.75, 222.5 338.75 A 1.25 1.25 0 0 0 223.23223304703362 336.7677669529664 A 2.5 2.5 0 1 1 226.76776695296638 336.7677669529664 A 1.25 1.25 0 0 0 227.5 338.75 C 232.5 338.75, 232.5 337.5, 237.5 337.5 C 237.5 332.5, 238.75 332.5, 238.75 327.5 A 1.25 1.25 0 0 0 236.76776695296638 326.7677669529664 A 2.5 2.5 0 1 1 236.76776695296638 323.2322330470336 A 1.25 1.25 0 0 0 238.75 322.5 C 238.75 317.5, 237.5 317.5, 237.5 312.5 C 232.5 312.5, 232.5 313.75, 227.5 313.75 A 1.25 1.25 0 0 1 226.76776695296638 311.7677669529664 A 2.5 2.5 0 1 0 223.23223304703362 311.7677669529664 A 1.25 1.25 0 0 1 222.5 313.75 C 217.5 313.75, 217.5 312.5, 212.5 312.5 Z M 262.5 312.5 C 262.5 317.5, 263.75 317.5, 263.75 322.5 A 1.25 1.25 0 0 1 261.7677669529664 323.2322330470336 A 2.5 2.5 0 1 0 261.7677669529664 326.7677669529664 A 1.25 1.25 0 0 1 263.75 327.5 C 263.75 332.5, 262.5 332.5, 262.5 337.5 C 267.5 337.5, 267.5 336.25, 272.5 336.25 A 1.25 1.25 0 0 1 273.2322330470336 338.2322330470336 A 2.5 2.5 0 1 0 276.7677669529664 338.2322330470336 A 1.25 1.25 0 0 1 277.5 336.25 C 282.5 336.25, 282.5 337.5, 287.5 337.5 C 287.5 332.5, 286.25 332.5, 286.25 327.5 A 1.25 1.25 0 0 1 288.2322330470336 326.7677669529664 A 2.5 2.5 0 1 0 288.2322330470336 323.2322330470336 A 1.25 1.25 0 0 1 286.25 322.5 C 286.25 317.5, 287.5 317.5, 287.5 312.5 C 282.5 312.5, 282.5 311.25, 277.5 311.25 A 1.25 1.25 0 0 0 276.7677669529664 313.2322330470336 A 2.5 2.5 0 1 1 273.2322330470336 313.2322330470336 A 1.25 1.25 0 0 0 272.5 311.25 C 267.5 311.25, 267.5 312.5, 262.5 312.5 Z M 312.5 312.5 C 312.5 317.5, 311.25 317.5, 311.25 322.5 A 1.25 1.25 0 0 0 313.2322330470336 323.2322330470336 A 2.5 2.5 0 1 1 313.2322330470336 326.7677669529664 A 1.25 1.25 0 0 0 311.25 327.5 C 311.25 332.5, 312.5 332.5, 312.5 337.5 C 317.0 337.5, 317.0 335.75, 321.5 335.75 A 1.7499999999999998 1.7499999999999998 0 0 1 322.52512626584706 338.52512626584706 A 3.4999999999999996 3.4999999999999996 0 1 0 327.47487373415294 338.52512626584706 A 1.7499999999999998 1.7499999999999998 0 0 1 328.5 335.75 C 333.0 335.75, 333.0 337.5, 337.5 337.5 C 337.5 332.5, 336.25 332.5, 336.25 327.5 A 1.25 1.25 0 0 1 338.2322330470336 326.7677669529664 A 2.5 2.5 0 1 0 338.2322330470336 323.2322330470336 A 1.25 1.25 0 0 1 336.25 322.5 C 336.25 317.5, 337.5 317.5, 337.5 312.5 C 333.0 312.5, 333.0 314.25, 328.5 314.25 A 1.7499999999999998 1.7499999999999998 0 0 1 327.47487373415294 311.47487373415294 A 3.4999999999999996 3.4999999999999996 0 1 0 322.52512626584706 311.47487373415294 A 1.7499999999999998 1.7499999999999998 0 0 1 321.5 314.25 C 317.0 314.25, 317.0 312.5, 312.5 312.5 Z M 362.5 312.5 C 362.5 317.5, 361.25 317.5, 361.25 322.5 A 1.25 1.25 0 0 0 363.2322330470336 323.2322330470336 A 2.5 2.5 0 1 1 363.2322330470336 326.7677669529664 A 1.25 1.25 0 0 0 361.25 327.5 C 361.25 332.5, 362.5 332.5, 362.5 337.5 C 367.0 337.5, 367.0 339.25, 371.5 339.25 A 1.7499999999999998 1.7499999999999998 0 0 0 372.52512626584706 336.47487373415294 A 3.4999999999999996 3.4999999999999996 0 1 1 377.47487373415294 336.47487373415294 A 1.7499999999999998 1.7499999999999998 0 0 0 378.5 339.25 C 383.0 339.25, 383.0 337.5, 387.5 337.5 L 387.5 312.5 C 383.0 312.5, 383.0 314.25, 378.5 314.25 A 1.7499999999999998 1.7499999999999998 0 0 1 377.47487373415294 311.47487373415294 A 3.4999999999999996 3.4999999999999996 0 1 0 372.52512626584706 311.47487373415294 A 1.7499999999999998 1.7499999999999998 0 0 1 371.5 314.25 C 367.0 314.25, 367.0 312.5, 362.5 312.5 Z M 412.5 312.5 L 412.5 337.5 C 417.5 337.5, 417.5 338.75, 422.5 338.75 A 1.25 1.25 0 0 0 423.2322330470336 336.7677669529664 A 2.5 2.5 0 1 1 426.7677669529664 336.7677669529664 A 1.25 1.25 0 0 0 427.5 338.75 C 432.5 338.75, 432.5 337.5, 437.5 337.5 C 437.5 334.375, 436.25 334.375, 436.25 331.25 A 1.25 1.25 0 0 1 438.2322330470336 330.5177669529664 A 2.5 2.5 0 1 0 438.2322330470336 326.9822330470336 A 1.25 1.25 0 0 1 436.25 326.25 C 436.25 319.375, 437.5 319.375, 437.5 312.5 C 434.375 312.5, 434.375 313.75, 431.25 313.75 A 1.25 1.25 0 0 1 430.5177669529664 311.7677669529664 A 2.5 2.5 0 1 0 426.9822330470336 311.7677669529664 A 1.25 1.25 0 0 1 426.25 313.75 C 419.375 313.75, 419.375 312.5, 412.5 312.5 Z M 462.5 312.5 C 462.5 319.375, 461.25 319.375, 461.25 326.25 A 1.25 1.25 0 0 0 463.2322330470336 326.9822330470336 A 2.5 2.5 0 1 1 463.2322330470336 330.5177669529664 A 1.25 1.25 0 0 0 461.25 331.25 C 461.25 334.375, 462.5 334.375, 462.5 337.5 C 465.625 337.5, 465.625 338.75, 468.75 338.75 A 1.25 1.25 0 0 0 469.4822330470336 336.7677669529664 A 2.5 2.5 0 1 1 473.0177669529664 336.7677669529664 A 1.25 1.25 0 0 0 473.75 338.75 C 480.625 338.75, 480.625 337.5, 487.5 337.5 C 487.5 330.625, 488.75 330.625, 488.75 323.75 A 1.25 1.25 0 0 0 486.7677669529664 323.0177669529664 A 2.5 2.5 0 1 1 486.7677669529664 319.4822330470336 A 1.25 1.25 0 0 0 488.75 318.75 C 488.75 315.625, 487.5 315.625, 487.5 312.5 C 480.625 312.5, 480.625 311.25, 473.75 311.25 A 1.25 1.25 0 0 0 473.0177669529664 313.2322330470336 A 2.5 2.5 0 1 1 469.4822330470336 313.2322330470336 A 1.25 1.25 0 0 0 468.75 311.25 C 465.625 311.25, 465.625 312.5, 462.5 312.5 Z M 512.5 312.5 C 512.5 315.625, 513.75 315.625, 513.75 318.75 A 1.25 1.25 0 0 1 511.7677669529664 319.4822330470336 A 2.5 2.5 0 1 0 511.7677669529664 323.0177669529664 A 1.25 1.25 0 0 1 513.75 323.75 C 513.75 330.625, 512.5 330.625, 512.5 337.5 C 515.625 337.5, 515.625 336.25, 518.75 336.25 A 1.25 1.25 0 0 1 519.4822330470337 338.2322330470336 A 2.5 2.5 0 1 0 523.0177669529663 338.2322330470336 A 1.25 1.25 0 0 1 523.75 336.25 L 526.25 336.25 A 1.25 1.25 0 0 1 526.9822330470337 338.2322330470336 A 2.5 2.5 0 1 0 530.5177669529663 338.2322330470336 A 1.25 1.25 0 0 1 531.25 336.25 C 534.375 336.25, 534.375 337.5, 537.5 337.5 C 537.5 334.375, 536.25 334.375, 536.25 331.25 A 1.25 1.25 0 0 1 538.2322330470337 330.5177669529664 A 2.5 2.5 0 1 0 538.2322330470337 326.9822330470336 A 1.25 1.25 0 0 1 536.25 326.25 C 536.25 319.375, 537.5 319.375, 537.5 312.5 C 534.375 312.5, 534.375 311.25, 531.25 311.25 A 1.25 1.25 0 0 0 530.5177669529663 313.2322330470336 A 2.5 2.5 0 1 1 526.9822330470337 313.2322330470336 A 1.25 1.25 0 0 0 526.25 311.25 C 519.375 311.25, 519.375 312.5, 512.5 312.5 Z M 562.5 312.5 C 562.5 319.375, 561.25 319.375, 561.25 326.25 A 1.25 1.25 0 0 0 563.2322330470337 326.9822330470336 A 2.5 2.5 0 1 1 563.2322330470337 330.5177669529664 A 1.25 1.25 0 0 0 561.25 331.25 C 561.25 334.375, 562.5 334.375, 562.5 337.5 C 567.5 337.5, 567.5 336.25, 572.5 336.25 A 1.25 1.25 0 0 1 573.2322330470337 338.2322330470336 A 2.5 2.5 0 1 0 576.7677669529663 338.2322330470336 A 1.25 1.25 0 0 1 577.5 336.25 C 582.5 336.25, 582.5 337.5, 587.5 337.5 L 587.5 312.5 C 582.5 312.5, 582.5 311.25, 577.5 311.25 A 1.25 1.25 0 0 0 576.7677669529663 313.2322330470336 A 2.5 2.5 0 1 1 573.2322330470337 313.2322330470336 A 1.25 1.25 0 0 0 572.5 311.25 C 567.5 311.25, 567.5 312.5, 562.5 312.5 Z M 12.5 362.5 L 12.5 387.5 L 37.5 387.5 C 37.5 383.0, 35.75 383.0, 35.75 378.5 A 1.7499999999999998 1.7499999999999998 0 0 1 38.525126265847085 377.47487373415294 A 3.4999999999999996 3.4999999999999996 0 1 0 38.525126265847085 372.52512626584706 A 1.7499999999999998 1.7499999999999998 0 0 1 35.75 371.5 C 35.75 367.0, 37.5 367.0, 37.5 362.5 C 33.0 362.5, 33.0 364.25, 28.5 364.25 A 1.7499999999999998 1.7499999999999998 0 0 1 27.474873734152915 361.47487373415294 A 3.4999999999999996 3.4999999999999996 0 1 0 22.525126265847085 361.47487373415294 A 1.7499999999999998 1.7499999999999998 0 0 1 21.5 364.25 C 17.0 364.25, 17.0 362.5, 12.5 362.5 Z M 62.5 362.5 C 62.5 367.0, 60.75 367.0, 60.75 371.5 A 1.7499999999999998 1.7499999999999998 0 0 0 63.525126265847085 372.52512626584706 A 3.4999999999999996 3.4999999999999996 0 1 1 63.525126265847085 377.47487373415294 A 1.7499999999999998 1.7499999999999998 0 0 0 60.75 378.5 C 60.75 383.0, 62.5 383.0, 62.5 387.5 L 87.5 387.5 C 87.5 383.0, 85.75 383.0, 85.75 378.5 A 1.7499999999999998 1.7499999999999998 0 0 1 88.52512626584708 377.47487373415294 A 3.4999999999999996 3.4999999999999996 0 1 0 88.52512626584708 372.52512626584706 A 1.7499999999999998 1.7499999999999998 0 0 1 85.75 371.5 C 85.75 367.0, 87.5 367.0, 87.5 362.5 C 83.0 362.5, 83.0 364.25, 78.5 364.25 A 1.7499999999999998 1.7499999999999998 0 0 1 77.47487373415291 361.47487373415294 A 3.4999999999999996 3.4999999999999996 0 1 0 72.52512626584709 361.47487373415294 A 1.7499999999999998 1.7499999999999998 0 0 1 71.5 364.25 C 67.0 364.25, 67.0 362.5, 62.5 362.5 Z M 112.5 362.5 C 112.5 367.0, 110.75 367.0, 110.75 371.5 A 1.7499999999999998 1.7499999999999998 0 0 0 113.52512626584708 372.52512626584706 A 3.4999999999999996 3.4999999999999996 0 1 1 113.52512626584708 377.47487373415294 A 1.7499999999999998 1.7499999999999998 0 0 0 110.75 378.5 C 110.75 383.0, 112.5 383.0, 112.5 387.5 L 137.5 387.5 L 137.5 362.5 L 112.5 362.5 Z M 162.5 362.5 L 162.5 387.5 L 187.5 387.5 L 187.5 362.5 C 180.625 362.5, 180.625 361.25, 173.75 361.25 A 1.25 1.25 0 0 0 173.01776695296635 363.2322330470336 A 2.5 2.5 0 1 1 169.48223304703362 363.2322330470336 A 1.25 1.25 0 0 0 168.75 361.25 C 165.625 361.25, 165.625 362.5, 162.5 362.5 Z M 212.5 362.5 L 212.5 387.5 L 237.5 387.5 C 237.5 382.5, 236.25 382.5, 236.25 377.5 A 1.25 1.25 0 0 1 238.23223304703362 376.7677669529664 A 2.5 2.5 0 1 0 238.23223304703362 373.2322330470336 A 1.25 1.25 0 0 1 236.25 372.5 C 236.25 367.5, 237.5 367.5, 237.5 362.5 C 232.5 362.5, 232.5 363.75, 227.5 363.75 A 1.25 1.25 0 0 1 226.76776695296638 361.7677669529664 A 2.5 2.5 0 1 0 223.23223304703362 361.7677669529664 A 1.25 1.25 0 0 1 222.5 363.75 C 217.5 363.75, 217.5 362.5, 212.5 362.5 Z M 262.5 362.5 C 262.5 367.5, 261.25 367.5, 261.25 372.5 A 1.25 1.25 0 0 0 263.2322330470336 373.2322330470336 A 2.5 2.5 0 1 1 263.2322330470336 376.7677669529664 A 1.25 1.25 0 0 0 261.25 377.5 C 261.25 382.5, 262.5 382.5, 262.5 387.5 L 287.5 387.5 C 287.5 382.5, 288.75 382.5, 288.75 377.5 A 1.25 1.25 0 0 0 286.7677669529664 376.7677669529664 A 2.5 2.5 0 1 1 286.7677669529664 373.2322330470336 A 1.25 1.25 0 0 0 288.75 372.5 C 288.75 367.5, 287.5 367.5, 287.5 362.5 C 282.5 362.5, 282.5 361.25, 277.5 361.25 A 1.25 1.25 0 0 0 276.7677669529664 363.2322330470336 A 2.5 2.5 0 1 1 273.2322330470336 363.2322330470336 A 1.25 1.25 0 0 0 272.5 361.25 C 267.5 361.25, 267.5 362.5, 262.5 362.5 Z M 312.5 362.5 C 312.5 367.5, 313.75 367.5, 313.75 372.5 A 1.25 1.25 0 0 1 311.7677669529664 373.2322330470336 A 2.5 2.5 0 1 0 311.7677669529664 376.7677669529664 A 1.25 1.25 0 0 1 313.75 377.5 C 313.75 382.5, 312.5 382.5, 312.5 387.5 L 337.5 387.5 C 337.5 383.0, 339.25 383.0, 339.25 378.5 A 1.7499999999999998 1.7499999999999998 0 0 0 336.47487373415294 377.47487373415294 A 3.4999999999999996 3.4999999999999996 0 1 1 336.47487373415294 372.52512626584706 A 1.7499999999999998 1.7499999999999998 0 0 0 339.25 371.5 C 339.25 367.0, 337.5 367.0, 337.5 362.5 C 333.0 362.5, 333.0 360.75, 328.5 360.75 A 1.7499999999999998 1.7499999999999998 0 0 0 327.47487373415294 363.52512626584706 A 3.4999999999999996 3.4999999999999996 0 1 1 322.52512626584706 363.52512626584706 A 1.7499999999999998 1.7499999999999998 0 0 0 321.5 360.75 C 317.0 360.75, 317.0 362.5, 312.5 362.5 Z M 362.5 362.5 C 362.5 367.0, 364.25 367.0, 364.25 371.5 A 1.7499999999999998 1.7499999999999998 0 0 1 361.47487373415294 372.52512626584706 A 3.4999999999999996 3.4999999999999996 0 1 0 361.47487373415294 377.47487373415294 A 1.7499999999999998 1.7499999999999998 0 0 1 364.25 378.5 C 364.25 383.0, 362.5 383.0, 362.5 387.5 L 387.5 387.5 L 387.5 362.5 C 383.0 362.5, 383.0 364.25, 378.5 364.25 A 1.7499999999999998 1.7499999999999998 0 0 1 377.47487373415294 361.47487373415294 A 3.4999999999999996 3.4999999999999996 0 1 0 372.52512626584706 361.47487373415294 A 1.7499999999999998 1.7499999999999998 0 0 1 371.5 364.25 C 367.0 364.25, 367.0 362.5, 362.5 362.5 Z M 412.5 362.5 L 412.5 387.5 L 437.5 387.5 C 437.5 384.375, 438.75 384.375, 438.75 381.25 A 1.25 1.25 0 0 0 436.7677669529664 380.5177669529664 A 2.5 2.5 0 1 1 436.7677669529664 376.9822330470336 A 1.25 1.25 0 0 0 438.75 376.25 L 438.75 373.75 A 1.25 1.25 0 0 0 436.7677669529664 373.0177669529664 A 2.5 2.5 0 1 1 436.7677669529664 369.4822330470336 A 1.25 1.25 0 0 0 438.75 368.75 C 438.75 365.625, 437.5 365.625, 437.5 362.5 C 432.5 362.5, 432.5 363.75, 427.5 363.75 A 1.25 1.25 0 0 1 426.7677669529664 361.7677669529664 A 2.5 2.5 0 1 0 423.2322330470336 361.7677669529664 A 1.25 1.25 0 0 1 422.5 363.75 C 417.5 363.75, 417.5 362.5, 412.5 362.5 Z M 462.5 362.5 C 462.5 365.625, 463.75 365.625, 463.75 368.75 A 1.25 1.25 0 0 1 461.7677669529664 369.4822330470336 A 2.5 2.5 0 1 0 461.7677669529664 373.0177669529664 A 1.25 1.25 0 0 1 463.75 373.75 L 463.75 376.25 A 1.25 1.25 0 0 1 461.7677669529664 376.9822330470336 A 2.5 2.5 0 1 0 461.7677669529664 380.5177669529664 A 1.25 1.25 0 0 1 463.75 381.25 C 463.75 384.375, 462.5 384.375, 462.5 387.5 L 487.5 387.5 C 487.5 382.5, 488.75 382.5, 488.75 377.5 A 1.25 1.25 0 0 0 486.7677669529664 376.7677669529664 A 2.5 2.5 0 1 1 486.7677669529664 373.2322330470336 A 1.25 1.25 0 0 0 488.75 372.5 C 488.75 367.5, 487.5 367.5, 487.5 362.5 C 480.625 362.5, 480.625 363.75, 473.75 363.75 A 1.25 1.25 0 0 1 473.0177669529664 361.7677669529664 A 2.5 2.5 0 1 0 469.4822330470336 361.7677669529664 A 1.25 1.25 0 0 1 468.75 363.75 C 465.625 363.75, 465.625 362.5, 462.5 362.5 Z M 512.5 362.5 C 512.5 367.5, 513.75 367.5, 513.75 372.5 A 1.25 1.25 0 0 1 511.7677669529664 373.2322330470336 A 2.5 2.5 0 1 0 511.7677669529664 376.7677669529664 A 1.25 1.25 0 0 1 513.75 377.5 C 513.75 382.5, 512.5 382.5, 512.5 387.5 L 537.5 387.5 C 537.5 380.625, 536.25 380.625, 536.25 373.75 A 1.25 1.25 0 0 1 538.2322330470337 373.0177669529664 A 2.5 2.5 0 1 0 538.2322330470337 369.4822330470336 A 1.25 1.25 0 0 1 536.25 368.75 C 536.25 365.625, 537.5 365.625, 537.5 362.5 C 534.375 362.5, 534.375 361.25, 531.25 361.25 A 1.25 1.25 0 0 0 530.5177669529663 363.2322330470336 A 2.5 2.5 0 1 1 526.9822330470337 363.2322330470336 A 1.25 1.25 0 0 0 526.25 361.25 L 523.75 361.25 A 1.25 1.25 0 0 0 523.0177669529663 363.2322330470336 A 2.5 2.5 0 1 1 519.4822330470337 363.2322330470336 A 1.25 1.25 0 0 0 518.75 361.25 C 515.625 361.25, 515.625 362.5, 512.5 362.5 Z M 562.5 362.5 C 562.5 365.625, 561.25 365.625, 561.25 368.75 A 1.25 1.25 0 0 0 563.2322330470337 369.4822330470336 A 2.5 2.5 0 1 1 563.2322330470337 373.0177669529664 A 1.25 1.25 0 0 0 561.25 373.75 C 561.25 380.625, 562.5 380.625, 562.5 387.5 L 587.5 387.5 L 587.5 362.5 C 582.5 362.5, 582.5 361.25, 577.5 361.25 A 1.25 1.25 0 0 0 576.7677669529663 363.2322330470336 A 2.5 2.5 0 1 1 573.2322330470337 363.2322330470336 A 1.25 1.25 0 0 0 572.5 361.25 C 567.5 361.25, 567.5 362.5, 562.5 362.5 Z\"/></svg></div>"
      ],
      "text/plain": [
       "<IPython.core.display.HTML object>"
      ]
     },
     "metadata": {},
     "output_type": "display_data"
    }
   ],
   "source": [
    "scale = 25.0\n",
    "style = get_style()\n",
    "\n",
    "origin = np.array([0.0, 0.0])\n",
    "ex = np.array([scale, 0.0])\n",
    "ey = np.array([0.0, scale])\n",
    "\n",
    "data = []\n",
    "\n",
    "h, w, _ = pieces.shape\n",
    "for i in range(h):\n",
    "    for j in range(w):\n",
    "        piece = pieces[i, j, :]\n",
    "        o = origin + (i * 2 + 0.5) * ey + (j * 2 + 0.5) * ex\n",
    "\n",
    "        data.append(\"M {} {}\".format(*o))\n",
    "        style.trace_edge(data, piece[2], o, ey, -ex)\n",
    "        style.trace_edge(data, piece[3], o + ey, ex, ey)\n",
    "        style.trace_edge(data, piece[0], o + ex + ey, -ey, ex)\n",
    "        style.trace_edge(data, piece[1], o + ex, -ex, -ey)\n",
    "        data.append(\"Z\")\n",
    "\n",
    "data = \" \".join(data)\n",
    "\n",
    "path = f'<path fill=\"none\" stroke=\"black\" d=\"{data}\"/>'\n",
    "height = int(scale) * h * 2 + 1\n",
    "width = int(scale) * w * 2 + 1\n",
    "svg = f'<svg width=\"{width}\" height=\"{height}\" xmlns=\"http://www.w3.org/2000/svg\">{path}</svg>'\n",
    "\n",
    "with open(\"selection_01_split.svg\", \"w\") as file:\n",
    "    file.write(svg)\n",
    "\n",
    "widget = HTML(f'<div style=\"padding:1em\">{svg}</div>')\n",
    "display(widget)"
   ]
  }
 ],
 "metadata": {
  "kernelspec": {
   "display_name": "Python 3 (ipykernel)",
   "language": "python",
   "name": "python3"
  },
  "language_info": {
   "codemirror_mode": {
    "name": "ipython",
    "version": 3
   },
   "file_extension": ".py",
   "mimetype": "text/x-python",
   "name": "python",
   "nbconvert_exporter": "python",
   "pygments_lexer": "ipython3",
   "version": "3.9.13"
  }
 },
 "nbformat": 4,
 "nbformat_minor": 5
}
